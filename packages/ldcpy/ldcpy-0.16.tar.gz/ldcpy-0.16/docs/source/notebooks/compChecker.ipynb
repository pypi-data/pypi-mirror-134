{
 "cells": [
  {
   "cell_type": "markdown",
   "metadata": {},
   "source": [
    "### This notebook shows how to use the CompChecker class to determine the optimal compression level"
   ]
  },
  {
   "cell_type": "code",
   "execution_count": 1,
   "metadata": {},
   "outputs": [
    {
     "data": {
      "text/plain": [
       "<dask.config.set at 0x2b4ada128d10>"
      ]
     },
     "execution_count": 1,
     "metadata": {},
     "output_type": "execute_result"
    }
   ],
   "source": [
    "##on Cheyenne\n",
    "##Make sure you are using the cmpi6-2019.10 kernel\n",
    "\n",
    "# Add ldcpy root to system path (MODIFY FOR YOUR LDCPY CODE LOCATION)\n",
    "import sys\n",
    "\n",
    "sys.path.insert(0, '/glade/u/home/apinard/newldcpy/ldcpy')\n",
    "import ldcpy\n",
    "\n",
    "# Display output of plots directly in Notebook\n",
    "%matplotlib inline\n",
    "# Automatically reload module if it is editted\n",
    "%reload_ext autoreload\n",
    "%autoreload 2\n",
    "\n",
    "# silence warnings\n",
    "import warnings\n",
    "\n",
    "warnings.filterwarnings(\"ignore\")\n",
    "\n",
    "# if you want to use the DASK daskboard on Cheyenne, then modify the below and run\n",
    "import dask\n",
    "\n",
    "dask.config.set(\n",
    "    {'distributed.dashboard.link': 'https://jupyterhub.ucar.edu/ch/user/abaker/proxy/{port}/status'}\n",
    ")"
   ]
  },
  {
   "cell_type": "code",
   "execution_count": 2,
   "metadata": {},
   "outputs": [
    {
     "data": {
      "application/vnd.jupyter.widget-view+json": {
       "model_id": "7b00bb098f5a472ba5c2b49c09ea5111",
       "version_major": 2,
       "version_minor": 0
      },
      "text/plain": [
       "VBox(children=(HTML(value='<h2>PBSCluster</h2>'), HBox(children=(HTML(value='\\n<div>\\n  <style scoped>\\n    .d…"
      ]
     },
     "metadata": {},
     "output_type": "display_data"
    }
   ],
   "source": [
    "from dask_jobqueue import PBSCluster\n",
    "\n",
    "# For Casper\n",
    "cluster = PBSCluster(\n",
    "    queue=\"casper\",\n",
    "    walltime=\"02:00:00\",\n",
    "    project=\"NIOW0001\",\n",
    "    memory=\"40GB\",\n",
    "    resource_spec=\"select=1:ncpus=4:mem=40GB\",\n",
    "    cores=4,\n",
    "    processes=1,\n",
    ")\n",
    "\n",
    "# for Cheyenne\n",
    "# cluster = PBSCluster(\n",
    "#    queue=\"regular\",\n",
    "#    walltime=\"02:00:00\",\n",
    "#    project=\"NIOW0001\",\n",
    "#    memory=\"109GB\",\n",
    "#    resource_spec=\"select=1:ncpus=9:mem=109GB\",\n",
    "#    cores=36,\n",
    "#    processes=9,\n",
    "# )\n",
    "\n",
    "\n",
    "# scale as needed\n",
    "cluster.adapt(minimum_jobs=1, maximum_jobs=30)\n",
    "cluster"
   ]
  },
  {
   "cell_type": "code",
   "execution_count": 3,
   "metadata": {},
   "outputs": [
    {
     "data": {
      "text/html": [
       "<table style=\"border: 2px solid white;\">\n",
       "<tr>\n",
       "<td style=\"vertical-align: top; border: 0px solid white\">\n",
       "<h3 style=\"text-align: left;\">Client</h3>\n",
       "<ul style=\"text-align: left; list-style: none; margin: 0; padding: 0;\">\n",
       "  <li><b>Scheduler: </b>tcp://10.12.206.54:41833</li>\n",
       "  <li><b>Dashboard: </b><a href='https://jupyterhub.ucar.edu/ch/user/abaker/proxy/46246/status' target='_blank'>https://jupyterhub.ucar.edu/ch/user/abaker/proxy/46246/status</a></li>\n",
       "</ul>\n",
       "</td>\n",
       "<td style=\"vertical-align: top; border: 0px solid white\">\n",
       "<h3 style=\"text-align: left;\">Cluster</h3>\n",
       "<ul style=\"text-align: left; list-style:none; margin: 0; padding: 0;\">\n",
       "  <li><b>Workers: </b>0</li>\n",
       "  <li><b>Cores: </b>0</li>\n",
       "  <li><b>Memory: </b>0 B</li>\n",
       "</ul>\n",
       "</td>\n",
       "</tr>\n",
       "</table>"
      ],
      "text/plain": [
       "<Client: 'tcp://10.12.206.54:41833' processes=0 threads=0, memory=0 B>"
      ]
     },
     "execution_count": 3,
     "metadata": {},
     "output_type": "execute_result"
    }
   ],
   "source": [
    "from dask.distributed import Client\n",
    "\n",
    "# Connect client to the remote dask workers\n",
    "client = Client(cluster)\n",
    "client"
   ]
  },
  {
   "cell_type": "code",
   "execution_count": 4,
   "metadata": {},
   "outputs": [
    {
     "name": "stdout",
     "output_type": "stream",
     "text": [
      "dataset size in GB 54.50\n",
      "\n"
     ]
    }
   ],
   "source": [
    "ts_col = ldcpy.open_datasets(\n",
    "    \"cam-fv\",\n",
    "    [\"TS\"],\n",
    "    [\n",
    "        \"/glade/p/cisl/asap/abaker/compression_samples/cam-lens/orig/TS.daily.20060101-20801231.nc\",\n",
    "        \"/glade/p/cisl/asap/abaker/compression_samples/cam-lens/TS/zfp.p10.TS.daily.20060101-20801231.nc\",\n",
    "        \"/glade/p/cisl/asap/abaker/compression_samples/cam-lens/TS/zfp.p12.TS.daily.20060101-20801231.nc\",\n",
    "        \"/glade/p/cisl/asap/abaker/compression_samples/cam-lens/TS/zfp.p14.TS.daily.20060101-20801231.nc\",\n",
    "        \"/glade/p/cisl/asap/abaker/compression_samples/cam-lens/TS/zfp.p16.TS.daily.20060101-20801231.nc\",\n",
    "        \"/glade/p/cisl/asap/abaker/compression_samples/cam-lens/TS/zfp.p18.TS.daily.20060101-20801231.nc\",\n",
    "        \"/glade/p/cisl/asap/abaker/compression_samples/cam-lens/TS/zfp.p20.TS.daily.20060101-20801231.nc\",\n",
    "        \"/glade/p/cisl/asap/abaker/compression_samples/cam-lens/TS/zfp.p22.TS.daily.20060101-20801231.nc\",\n",
    "        \"/glade/p/cisl/asap/abaker/compression_samples/cam-lens/TS/zfp.p24.TS.daily.20060101-20801231.nc\",\n",
    "    ],\n",
    "    [\"orig\", \"p10\", \"p12\", \"p14\", \"p16\", \"p18\", \"p20\", \"p22\", \"p24\"],\n",
    "    chunks={\"time\": 500},\n",
    ")"
   ]
  },
  {
   "cell_type": "code",
   "execution_count": 5,
   "metadata": {},
   "outputs": [],
   "source": [
    "# first time step\n",
    "# the original data\n",
    "ts_orig_t0 = ts_col[\"TS\"].sel(collection=\"orig\").isel(time=0)\n",
    "\n",
    "# mimic doing compression by\n",
    "# collecting compressed slices of first time step into dictionary\n",
    "ts_zfp_data_t0 = {}\n",
    "ts_zfp_data_t0[\"10\"] = ts_col[\"TS\"].sel(collection=\"p10\").isel(time=0)\n",
    "ts_zfp_data_t0[\"12\"] = ts_col[\"TS\"].sel(collection=\"p12\").isel(time=0)\n",
    "ts_zfp_data_t0[\"14\"] = ts_col[\"TS\"].sel(collection=\"p14\").isel(time=0)\n",
    "ts_zfp_data_t0[\"16\"] = ts_col[\"TS\"].sel(collection=\"p16\").isel(time=0)\n",
    "ts_zfp_data_t0[\"18\"] = ts_col[\"TS\"].sel(collection=\"p18\").isel(time=0)\n",
    "ts_zfp_data_t0[\"20\"] = ts_col[\"TS\"].sel(collection=\"p20\").isel(time=0)\n",
    "ts_zfp_data_t0[\"22\"] = ts_col[\"TS\"].sel(collection=\"p22\").isel(time=0)\n",
    "ts_zfp_data_t0[\"24\"] = ts_col[\"TS\"].sel(collection=\"p24\").isel(time=0)"
   ]
  },
  {
   "cell_type": "code",
   "execution_count": 6,
   "metadata": {},
   "outputs": [],
   "source": [
    "# second time step\n",
    "# the original data\n",
    "ts_orig_t1 = ts_col[\"TS\"].sel(collection=\"orig\").isel(time=1)\n",
    "\n",
    "# mimic doing compression by\n",
    "# collecting compressed slices of first time step into dictionary\n",
    "ts_zfp_data_t1 = {}\n",
    "ts_zfp_data_t1[\"10\"] = ts_col[\"TS\"].sel(collection=\"p10\").isel(time=1)\n",
    "ts_zfp_data_t1[\"12\"] = ts_col[\"TS\"].sel(collection=\"p12\").isel(time=1)\n",
    "ts_zfp_data_t1[\"14\"] = ts_col[\"TS\"].sel(collection=\"p14\").isel(time=1)\n",
    "ts_zfp_data_t1[\"16\"] = ts_col[\"TS\"].sel(collection=\"p16\").isel(time=1)\n",
    "ts_zfp_data_t1[\"18\"] = ts_col[\"TS\"].sel(collection=\"p18\").isel(time=1)\n",
    "ts_zfp_data_t1[\"20\"] = ts_col[\"TS\"].sel(collection=\"p20\").isel(time=1)\n",
    "ts_zfp_data_t1[\"22\"] = ts_col[\"TS\"].sel(collection=\"p22\").isel(time=1)\n",
    "ts_zfp_data_t1[\"24\"] = ts_col[\"TS\"].sel(collection=\"p24\").isel(time=1)"
   ]
  },
  {
   "cell_type": "code",
   "execution_count": 7,
   "metadata": {},
   "outputs": [],
   "source": [
    "# set up checker for this time slice (all these choices are the default)\n",
    "# so could also do:  cc = ldcpy.CompChecker()\n",
    "cc = ldcpy.CompChecker(\n",
    "    compressor=\"zfp\",\n",
    "    comp_mode=\"p\",\n",
    "    calc_type=\"ssim_fp\",\n",
    "    calc_tol=0.9995,\n",
    "    tol_greater_than=True,\n",
    "    accept_first=False,\n",
    ")"
   ]
  },
  {
   "cell_type": "code",
   "execution_count": 8,
   "metadata": {},
   "outputs": [],
   "source": [
    "# First do time step 0\n",
    "# init starting guess\n",
    "level = 18\n",
    "comp_data = ts_zfp_data_t0[str(level)]\n",
    "try_again = True"
   ]
  },
  {
   "cell_type": "code",
   "execution_count": 9,
   "metadata": {},
   "outputs": [
    {
     "name": "stdout",
     "output_type": "stream",
     "text": [
      "checking level =  18 ...\n",
      "Trying again...\n",
      "checking level =  20 ...\n",
      "Optimal level  =  20\n"
     ]
    }
   ],
   "source": [
    "while try_again:\n",
    "    print(\"checking level = \", level, \"...\")\n",
    "    try_again = cc.eval_comp_level(ts_orig_t0, comp_data, level)\n",
    "    if try_again:\n",
    "        level = cc.get_new_level()\n",
    "        comp_data = ts_zfp_data_t0[str(level)]\n",
    "        print(\"Trying again...\")\n",
    "    else:\n",
    "        opt_level = cc.get_opt_level()\n",
    "        print(\"Optimal level  = \", opt_level)"
   ]
  },
  {
   "cell_type": "code",
   "execution_count": 10,
   "metadata": {},
   "outputs": [
    {
     "data": {
      "text/html": [
       "<br>"
      ],
      "text/plain": [
       "<IPython.core.display.HTML object>"
      ]
     },
     "metadata": {},
     "output_type": "display_data"
    },
    {
     "data": {
      "text/html": [
       "<span style=\"color:green\">zfp level results: </span>  "
      ],
      "text/plain": [
       "<IPython.core.display.HTML object>"
      ]
     },
     "metadata": {},
     "output_type": "display_data"
    },
    {
     "data": {
      "text/html": [
       "<div>\n",
       "<style scoped>\n",
       "    .dataframe tbody tr th:only-of-type {\n",
       "        vertical-align: middle;\n",
       "    }\n",
       "\n",
       "    .dataframe tbody tr th {\n",
       "        vertical-align: top;\n",
       "    }\n",
       "\n",
       "    .dataframe thead th {\n",
       "        text-align: right;\n",
       "    }\n",
       "</style>\n",
       "<table border=\"1\" class=\"dataframe\">\n",
       "  <thead>\n",
       "    <tr style=\"text-align: right;\">\n",
       "      <th></th>\n",
       "      <th>ssim_fp</th>\n",
       "      <th>Passed?</th>\n",
       "    </tr>\n",
       "  </thead>\n",
       "  <tbody>\n",
       "    <tr>\n",
       "      <th>18</th>\n",
       "      <td>0.997967</td>\n",
       "      <td>False</td>\n",
       "    </tr>\n",
       "    <tr>\n",
       "      <th>20</th>\n",
       "      <td>0.999613</td>\n",
       "      <td>True</td>\n",
       "    </tr>\n",
       "  </tbody>\n",
       "</table>\n",
       "</div>"
      ],
      "text/plain": [
       "     ssim_fp  Passed?\n",
       "18  0.997967    False\n",
       "20  0.999613     True"
      ]
     },
     "metadata": {},
     "output_type": "display_data"
    }
   ],
   "source": [
    "cc.show_results()"
   ]
  },
  {
   "cell_type": "code",
   "execution_count": 11,
   "metadata": {},
   "outputs": [],
   "source": [
    "# Now go on to time step 1\n",
    "# reset the checker between steps\n",
    "cc.reset_checker()\n",
    "# init starting guess\n",
    "level = 22\n",
    "comp_data = ts_zfp_data_t1[str(level)]\n",
    "try_again = True"
   ]
  },
  {
   "cell_type": "code",
   "execution_count": 12,
   "metadata": {},
   "outputs": [
    {
     "name": "stdout",
     "output_type": "stream",
     "text": [
      "checking level =  22 ...\n",
      "Trying again.... True\n",
      "checking level =  20 ...\n",
      "Trying again.... True\n",
      "checking level =  18 ...\n",
      "Trying again.... False\n",
      "Optimal level  =  20\n"
     ]
    }
   ],
   "source": [
    "while try_again:\n",
    "    print(\"checking level = \", level, \"...\")\n",
    "    try_again = cc.eval_comp_level(ts_orig_t1, comp_data, level)\n",
    "    print(\"Trying again....\", try_again)\n",
    "    if try_again:\n",
    "        level = cc.get_new_level()\n",
    "        comp_data = ts_zfp_data_t1[str(level)]\n",
    "    else:\n",
    "        opt_level = cc.get_opt_level()\n",
    "        print(\"Optimal level  = \", opt_level)"
   ]
  },
  {
   "cell_type": "code",
   "execution_count": 13,
   "metadata": {},
   "outputs": [
    {
     "data": {
      "text/html": [
       "<br>"
      ],
      "text/plain": [
       "<IPython.core.display.HTML object>"
      ]
     },
     "metadata": {},
     "output_type": "display_data"
    },
    {
     "data": {
      "text/html": [
       "<span style=\"color:green\">zfp level results: </span>  "
      ],
      "text/plain": [
       "<IPython.core.display.HTML object>"
      ]
     },
     "metadata": {},
     "output_type": "display_data"
    },
    {
     "data": {
      "text/html": [
       "<div>\n",
       "<style scoped>\n",
       "    .dataframe tbody tr th:only-of-type {\n",
       "        vertical-align: middle;\n",
       "    }\n",
       "\n",
       "    .dataframe tbody tr th {\n",
       "        vertical-align: top;\n",
       "    }\n",
       "\n",
       "    .dataframe thead th {\n",
       "        text-align: right;\n",
       "    }\n",
       "</style>\n",
       "<table border=\"1\" class=\"dataframe\">\n",
       "  <thead>\n",
       "    <tr style=\"text-align: right;\">\n",
       "      <th></th>\n",
       "      <th>ssim_fp</th>\n",
       "      <th>Passed?</th>\n",
       "    </tr>\n",
       "  </thead>\n",
       "  <tbody>\n",
       "    <tr>\n",
       "      <th>22</th>\n",
       "      <td>0.999851</td>\n",
       "      <td>True</td>\n",
       "    </tr>\n",
       "    <tr>\n",
       "      <th>20</th>\n",
       "      <td>0.999570</td>\n",
       "      <td>True</td>\n",
       "    </tr>\n",
       "    <tr>\n",
       "      <th>18</th>\n",
       "      <td>0.998038</td>\n",
       "      <td>False</td>\n",
       "    </tr>\n",
       "  </tbody>\n",
       "</table>\n",
       "</div>"
      ],
      "text/plain": [
       "     ssim_fp  Passed?\n",
       "22  0.999851     True\n",
       "20  0.999570     True\n",
       "18  0.998038    False"
      ]
     },
     "metadata": {},
     "output_type": "display_data"
    }
   ],
   "source": [
    "cc.show_results()"
   ]
  },
  {
   "cell_type": "code",
   "execution_count": null,
   "metadata": {},
   "outputs": [],
   "source": []
  }
 ],
 "metadata": {
  "kernelspec": {
   "display_name": "Python 3",
   "language": "python",
   "name": "python3"
  },
  "language_info": {
   "codemirror_mode": {
    "name": "ipython",
    "version": 3
   },
   "file_extension": ".py",
   "mimetype": "text/x-python",
   "name": "python",
   "nbconvert_exporter": "python",
   "pygments_lexer": "ipython3",
   "version": "3.8.0"
  }
 },
 "nbformat": 4,
 "nbformat_minor": 4
}
