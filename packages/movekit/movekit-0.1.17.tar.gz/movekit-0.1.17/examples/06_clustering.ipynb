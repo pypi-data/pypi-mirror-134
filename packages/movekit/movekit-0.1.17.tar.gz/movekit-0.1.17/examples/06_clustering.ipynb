{
 "cells": [
  {
   "cell_type": "markdown",
   "id": "8c99d6eb-109a-4aa0-9237-8b7b07e8101f",
   "metadata": {},
   "source": [
    "## Spatio-Temporal Clustering"
   ]
  },
  {
   "cell_type": "code",
   "execution_count": 1,
   "id": "4d300f10-4b48-4360-8770-9cef7e3c17ae",
   "metadata": {},
   "outputs": [],
   "source": [
    "import movekit as mkit\n",
    "import numpy as np\n",
    "import pandas as pd\n",
    "import matplotlib.pyplot as plt\n",
    "from matplotlib import animation"
   ]
  },
  {
   "cell_type": "code",
   "execution_count": 2,
   "id": "c6c91190-5438-444c-b1bc-4543ab449879",
   "metadata": {},
   "outputs": [
    {
     "data": {
      "text/html": [
       "<div>\n",
       "<style scoped>\n",
       "    .dataframe tbody tr th:only-of-type {\n",
       "        vertical-align: middle;\n",
       "    }\n",
       "\n",
       "    .dataframe tbody tr th {\n",
       "        vertical-align: top;\n",
       "    }\n",
       "\n",
       "    .dataframe thead th {\n",
       "        text-align: right;\n",
       "    }\n",
       "</style>\n",
       "<table border=\"1\" class=\"dataframe\">\n",
       "  <thead>\n",
       "    <tr style=\"text-align: right;\">\n",
       "      <th></th>\n",
       "      <th>time</th>\n",
       "      <th>animal_id</th>\n",
       "      <th>x</th>\n",
       "      <th>y</th>\n",
       "    </tr>\n",
       "  </thead>\n",
       "  <tbody>\n",
       "    <tr>\n",
       "      <th>0</th>\n",
       "      <td>0</td>\n",
       "      <td>0</td>\n",
       "      <td>201.623002</td>\n",
       "      <td>186.148565</td>\n",
       "    </tr>\n",
       "    <tr>\n",
       "      <th>1</th>\n",
       "      <td>0</td>\n",
       "      <td>1</td>\n",
       "      <td>247.658670</td>\n",
       "      <td>177.650135</td>\n",
       "    </tr>\n",
       "    <tr>\n",
       "      <th>2</th>\n",
       "      <td>0</td>\n",
       "      <td>2</td>\n",
       "      <td>127.457230</td>\n",
       "      <td>20.572136</td>\n",
       "    </tr>\n",
       "    <tr>\n",
       "      <th>3</th>\n",
       "      <td>0</td>\n",
       "      <td>3</td>\n",
       "      <td>231.180722</td>\n",
       "      <td>172.861323</td>\n",
       "    </tr>\n",
       "    <tr>\n",
       "      <th>4</th>\n",
       "      <td>0</td>\n",
       "      <td>4</td>\n",
       "      <td>217.739517</td>\n",
       "      <td>189.203565</td>\n",
       "    </tr>\n",
       "  </tbody>\n",
       "</table>\n",
       "</div>"
      ],
      "text/plain": [
       "   time  animal_id           x           y\n",
       "0     0          0  201.623002  186.148565\n",
       "1     0          1  247.658670  177.650135\n",
       "2     0          2  127.457230   20.572136\n",
       "3     0          3  231.180722  172.861323\n",
       "4     0          4  217.739517  189.203565"
      ]
     },
     "execution_count": 2,
     "metadata": {},
     "output_type": "execute_result"
    }
   ],
   "source": [
    "# Enter path to CSV file\n",
    "path = \"./datasets/fish-6.csv\"\n",
    "\n",
    "data = mkit.read_data(path)\n",
    "data.head()"
   ]
  },
  {
   "cell_type": "code",
   "execution_count": null,
   "id": "7935b584-5e75-4ce6-8989-633e18599774",
   "metadata": {},
   "outputs": [],
   "source": [
    "#normalize the data first\n",
    "data_norm = mkit.normalize(data)\n",
    "\n",
    "#then cluster it\n",
    "labels = mkit.clustering('dbscan', data_norm, eps1=0.05, eps2=10, min_samples=2)\n",
    "\n",
    "#OR cluster with the splitting-and-merging method\n",
    "#labels = mkit.clustering_with_splits('dbscan', data, frame_size=20, eps1=0.05, eps2=10, min_samples=3)"
   ]
  },
  {
   "cell_type": "code",
   "execution_count": null,
   "id": "651d19b3-51db-44b1-9045-dcf280ad3efa",
   "metadata": {},
   "outputs": [],
   "source": [
    "labels"
   ]
  },
  {
   "cell_type": "code",
   "execution_count": null,
   "id": "2e589697-7ac2-48e5-875f-f8b8c4ed6d04",
   "metadata": {},
   "outputs": [],
   "source": [
    "def plot(data, labels):\n",
    "    colors = ['#a6cee3','#1f78b4','#b2df8a','#33a02c','#fb9a99','#e31a1c','#fdbf6f','#ff7f00','#cab2d6','#6a3d9a']\n",
    "    \n",
    "    for i in range(-1, len(set(labels))):\n",
    "        if i == -1:\n",
    "            col = [0, 0, 0, 1]\n",
    "        else:\n",
    "            col = colors[i % len(colors)]\n",
    "        \n",
    "        clust = data[np.where(labels==i)]\n",
    "        plt.scatter(clust[:,0], clust[:,1], c=[col], s=1)\n",
    "    plt.show()\n",
    "\n",
    "    return None\n",
    "\n",
    "data_np = data_norm.loc[:, ['time','x','y']].values\n",
    "plot(data_np[:,1:], labels)"
   ]
  }
 ],
 "metadata": {
  "kernelspec": {
   "display_name": "Python 3",
   "language": "python",
   "name": "python3"
  },
  "language_info": {
   "codemirror_mode": {
    "name": "ipython",
    "version": 3
   },
   "file_extension": ".py",
   "mimetype": "text/x-python",
   "name": "python",
   "nbconvert_exporter": "python",
   "pygments_lexer": "ipython3",
   "version": "3.8.8"
  }
 },
 "nbformat": 4,
 "nbformat_minor": 5
}
