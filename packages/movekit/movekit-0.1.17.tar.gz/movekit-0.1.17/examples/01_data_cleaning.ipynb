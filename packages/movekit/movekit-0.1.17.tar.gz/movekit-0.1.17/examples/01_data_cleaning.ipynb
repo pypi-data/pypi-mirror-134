{
 "cells": [
  {
   "cell_type": "markdown",
   "id": "universal-property",
   "metadata": {},
   "source": [
    "## Data preprocessing"
   ]
  },
  {
   "cell_type": "code",
   "execution_count": 1,
   "id": "published-player",
   "metadata": {},
   "outputs": [],
   "source": [
    "import movekit as mkit\n",
    "import numpy as np\n",
    "import pandas as pd\n",
    "import matplotlib.pyplot as plt"
   ]
  },
  {
   "cell_type": "markdown",
   "id": "welsh-restriction",
   "metadata": {},
   "source": [
    "#### Read data input"
   ]
  },
  {
   "cell_type": "code",
   "execution_count": 2,
   "id": "worst-scott",
   "metadata": {},
   "outputs": [],
   "source": [
    "# Enter path to CSV file\n",
    "path = \"./datasets/fish-5.csv\"\n",
    "\n",
    "# Alternative: enter path to Excel file\n",
    "# path = \"./datasets/fish-5.xlsx\""
   ]
  },
  {
   "cell_type": "code",
   "execution_count": 3,
   "id": "empirical-marijuana",
   "metadata": {},
   "outputs": [
    {
     "data": {
      "text/html": [
       "<div>\n",
       "<style scoped>\n",
       "    .dataframe tbody tr th:only-of-type {\n",
       "        vertical-align: middle;\n",
       "    }\n",
       "\n",
       "    .dataframe tbody tr th {\n",
       "        vertical-align: top;\n",
       "    }\n",
       "\n",
       "    .dataframe thead th {\n",
       "        text-align: right;\n",
       "    }\n",
       "</style>\n",
       "<table border=\"1\" class=\"dataframe\">\n",
       "  <thead>\n",
       "    <tr style=\"text-align: right;\">\n",
       "      <th></th>\n",
       "      <th>time</th>\n",
       "      <th>animal_id</th>\n",
       "      <th>x</th>\n",
       "      <th>y</th>\n",
       "    </tr>\n",
       "  </thead>\n",
       "  <tbody>\n",
       "    <tr>\n",
       "      <th>0</th>\n",
       "      <td>1</td>\n",
       "      <td>312</td>\n",
       "      <td>405.29</td>\n",
       "      <td>417.76</td>\n",
       "    </tr>\n",
       "    <tr>\n",
       "      <th>1</th>\n",
       "      <td>1</td>\n",
       "      <td>511</td>\n",
       "      <td>369.99</td>\n",
       "      <td>428.78</td>\n",
       "    </tr>\n",
       "    <tr>\n",
       "      <th>2</th>\n",
       "      <td>1</td>\n",
       "      <td>607</td>\n",
       "      <td>390.33</td>\n",
       "      <td>405.89</td>\n",
       "    </tr>\n",
       "    <tr>\n",
       "      <th>3</th>\n",
       "      <td>1</td>\n",
       "      <td>811</td>\n",
       "      <td>445.15</td>\n",
       "      <td>411.94</td>\n",
       "    </tr>\n",
       "    <tr>\n",
       "      <th>4</th>\n",
       "      <td>1</td>\n",
       "      <td>905</td>\n",
       "      <td>366.06</td>\n",
       "      <td>451.76</td>\n",
       "    </tr>\n",
       "  </tbody>\n",
       "</table>\n",
       "</div>"
      ],
      "text/plain": [
       "   time  animal_id       x       y\n",
       "0     1        312  405.29  417.76\n",
       "1     1        511  369.99  428.78\n",
       "2     1        607  390.33  405.89\n",
       "3     1        811  445.15  411.94\n",
       "4     1        905  366.06  451.76"
      ]
     },
     "execution_count": 3,
     "metadata": {},
     "output_type": "execute_result"
    }
   ],
   "source": [
    "# Read in file using \n",
    "data = mkit.read_data(path)\n",
    "data.head()"
   ]
  },
  {
   "cell_type": "code",
   "execution_count": 4,
   "id": "preceding-tamil",
   "metadata": {},
   "outputs": [
    {
     "name": "stdout",
     "output_type": "stream",
     "text": [
      "Total number of missing values =  0\n",
      "time         0\n",
      "animal_id    0\n",
      "x            0\n",
      "y            0\n",
      "dtype: int64\n"
     ]
    }
   ],
   "source": [
    "# Simple call of the preprocessing method\n",
    "preprocessed_data = mkit.preprocess(data)"
   ]
  },
  {
   "cell_type": "code",
   "execution_count": 5,
   "id": "handled-implement",
   "metadata": {},
   "outputs": [],
   "source": [
    "# OPTIONAL: more parameters to control the preprocessing of data\n",
    "\n",
    "# preprocessed_data = mkit.preprocess(data, dropna=True, interpolation=False, limit=1, limit_direction=\"forward\", inplace=False, method=\"linear\")\n",
    "\n",
    "# Paramters \n",
    "#  data: DataFrame to perform preprocessing on\n",
    "#  dropna: Optional parameter to drop columns with  missing values for 'time' and 'animal_id'\n",
    "#  interpolate: Optional parameter to perform linear interpolation\n",
    "#  limit: Maximum number of consecutive NANs to fill\n",
    "#  limit_direction: If limit is specified, consecutive NaNs will be filled in this direction.\n",
    "#  method: Interpolation technique to use. Default is \"linear\".\n",
    "#  order: To be used in case of polynomial interpolation."
   ]
  },
  {
   "cell_type": "code",
   "execution_count": 6,
   "id": "bridal-precipitation",
   "metadata": {},
   "outputs": [],
   "source": [
    "# OPTIONAL: converting positional data into scale, defined by user\n",
    "# preprocessed_data = mkit.convert_measueres(preprocessed_data, x_min = 0, x_max = 100, y_min = 0, y_max = 100)"
   ]
  },
  {
   "cell_type": "code",
   "execution_count": 7,
   "id": "stretch-acting",
   "metadata": {},
   "outputs": [],
   "source": [
    "# save cleaned features to csv \n",
    "preprocessed_data.to_csv(\"datasets/fish-5-cleaned.csv\", index=False)"
   ]
  },
  {
   "cell_type": "markdown",
   "id": "34ad97a4-7d9c-4135-a11b-31d5e8b599ab",
   "metadata": {},
   "source": [
    "#### Support for 3d datasets\n",
    "\n",
    "`movekit` also supports movement in three dimensions. All function calls remain the same for the user as the presence of a third dimension in the data is recognized by `movekit`.\n",
    "\n",
    "Below we show an example of a 3D dataset that can be given to `movekit`."
   ]
  },
  {
   "cell_type": "code",
   "execution_count": 8,
   "id": "aa69040b-1f3f-49ad-bfb1-4978a3ec2370",
   "metadata": {},
   "outputs": [
    {
     "data": {
      "text/html": [
       "<div>\n",
       "<style scoped>\n",
       "    .dataframe tbody tr th:only-of-type {\n",
       "        vertical-align: middle;\n",
       "    }\n",
       "\n",
       "    .dataframe tbody tr th {\n",
       "        vertical-align: top;\n",
       "    }\n",
       "\n",
       "    .dataframe thead th {\n",
       "        text-align: right;\n",
       "    }\n",
       "</style>\n",
       "<table border=\"1\" class=\"dataframe\">\n",
       "  <thead>\n",
       "    <tr style=\"text-align: right;\">\n",
       "      <th></th>\n",
       "      <th>time</th>\n",
       "      <th>animal_id</th>\n",
       "      <th>x</th>\n",
       "      <th>y</th>\n",
       "      <th>z</th>\n",
       "    </tr>\n",
       "  </thead>\n",
       "  <tbody>\n",
       "    <tr>\n",
       "      <th>0</th>\n",
       "      <td>1</td>\n",
       "      <td>312</td>\n",
       "      <td>405.29</td>\n",
       "      <td>417.76</td>\n",
       "      <td>0.038791</td>\n",
       "    </tr>\n",
       "    <tr>\n",
       "      <th>1</th>\n",
       "      <td>1</td>\n",
       "      <td>511</td>\n",
       "      <td>369.99</td>\n",
       "      <td>428.78</td>\n",
       "      <td>1.680744</td>\n",
       "    </tr>\n",
       "    <tr>\n",
       "      <th>2</th>\n",
       "      <td>1</td>\n",
       "      <td>607</td>\n",
       "      <td>390.33</td>\n",
       "      <td>405.89</td>\n",
       "      <td>0.266656</td>\n",
       "    </tr>\n",
       "    <tr>\n",
       "      <th>3</th>\n",
       "      <td>1</td>\n",
       "      <td>811</td>\n",
       "      <td>445.15</td>\n",
       "      <td>411.94</td>\n",
       "      <td>-0.721698</td>\n",
       "    </tr>\n",
       "    <tr>\n",
       "      <th>4</th>\n",
       "      <td>1</td>\n",
       "      <td>905</td>\n",
       "      <td>366.06</td>\n",
       "      <td>451.76</td>\n",
       "      <td>-0.462322</td>\n",
       "    </tr>\n",
       "    <tr>\n",
       "      <th>...</th>\n",
       "      <td>...</td>\n",
       "      <td>...</td>\n",
       "      <td>...</td>\n",
       "      <td>...</td>\n",
       "      <td>...</td>\n",
       "    </tr>\n",
       "    <tr>\n",
       "      <th>4995</th>\n",
       "      <td>1000</td>\n",
       "      <td>312</td>\n",
       "      <td>720.96</td>\n",
       "      <td>244.60</td>\n",
       "      <td>0.639186</td>\n",
       "    </tr>\n",
       "    <tr>\n",
       "      <th>4996</th>\n",
       "      <td>1000</td>\n",
       "      <td>511</td>\n",
       "      <td>662.56</td>\n",
       "      <td>225.29</td>\n",
       "      <td>0.001201</td>\n",
       "    </tr>\n",
       "    <tr>\n",
       "      <th>4997</th>\n",
       "      <td>1000</td>\n",
       "      <td>607</td>\n",
       "      <td>722.75</td>\n",
       "      <td>296.34</td>\n",
       "      <td>-0.058461</td>\n",
       "    </tr>\n",
       "    <tr>\n",
       "      <th>4998</th>\n",
       "      <td>1000</td>\n",
       "      <td>811</td>\n",
       "      <td>762.44</td>\n",
       "      <td>307.61</td>\n",
       "      <td>-1.158683</td>\n",
       "    </tr>\n",
       "    <tr>\n",
       "      <th>4999</th>\n",
       "      <td>1000</td>\n",
       "      <td>905</td>\n",
       "      <td>677.91</td>\n",
       "      <td>185.05</td>\n",
       "      <td>-0.670863</td>\n",
       "    </tr>\n",
       "  </tbody>\n",
       "</table>\n",
       "<p>5000 rows × 5 columns</p>\n",
       "</div>"
      ],
      "text/plain": [
       "      time  animal_id       x       y         z\n",
       "0        1        312  405.29  417.76  0.038791\n",
       "1        1        511  369.99  428.78  1.680744\n",
       "2        1        607  390.33  405.89  0.266656\n",
       "3        1        811  445.15  411.94 -0.721698\n",
       "4        1        905  366.06  451.76 -0.462322\n",
       "...    ...        ...     ...     ...       ...\n",
       "4995  1000        312  720.96  244.60  0.639186\n",
       "4996  1000        511  662.56  225.29  0.001201\n",
       "4997  1000        607  722.75  296.34 -0.058461\n",
       "4998  1000        811  762.44  307.61 -1.158683\n",
       "4999  1000        905  677.91  185.05 -0.670863\n",
       "\n",
       "[5000 rows x 5 columns]"
      ]
     },
     "execution_count": 8,
     "metadata": {},
     "output_type": "execute_result"
    }
   ],
   "source": [
    "# create a synthetic 3D dataset by appending a third dimension to the 2D dataset from above\n",
    "z = np.random.normal(loc=0.0, scale=1.0, size=len(preprocessed_data))\n",
    "preprocessed_data['z'] = z\n",
    "preprocessed_data"
   ]
  },
  {
   "cell_type": "markdown",
   "id": "9876b5e7-9b81-4d63-ac0e-bc66b99c88de",
   "metadata": {},
   "source": [
    "#### Support for geographic coordinates\n",
    "\n",
    "`movekit` is able to project data from GPS coordinates in the latitude and longitude format to the cartesian coordinate system."
   ]
  },
  {
   "cell_type": "code",
   "execution_count": 9,
   "id": "91d2a975-b315-43a6-8d29-71822eab82fa",
   "metadata": {},
   "outputs": [
    {
     "data": {
      "text/html": [
       "<div>\n",
       "<style scoped>\n",
       "    .dataframe tbody tr th:only-of-type {\n",
       "        vertical-align: middle;\n",
       "    }\n",
       "\n",
       "    .dataframe tbody tr th {\n",
       "        vertical-align: top;\n",
       "    }\n",
       "\n",
       "    .dataframe thead th {\n",
       "        text-align: right;\n",
       "    }\n",
       "</style>\n",
       "<table border=\"1\" class=\"dataframe\">\n",
       "  <thead>\n",
       "    <tr style=\"text-align: right;\">\n",
       "      <th></th>\n",
       "      <th>time</th>\n",
       "      <th>animal_id</th>\n",
       "      <th>latitude</th>\n",
       "      <th>longitude</th>\n",
       "    </tr>\n",
       "  </thead>\n",
       "  <tbody>\n",
       "    <tr>\n",
       "      <th>0</th>\n",
       "      <td>1</td>\n",
       "      <td>1</td>\n",
       "      <td>47.691358</td>\n",
       "      <td>9.176731</td>\n",
       "    </tr>\n",
       "    <tr>\n",
       "      <th>1</th>\n",
       "      <td>1</td>\n",
       "      <td>2</td>\n",
       "      <td>52.472161</td>\n",
       "      <td>13.402034</td>\n",
       "    </tr>\n",
       "    <tr>\n",
       "      <th>2</th>\n",
       "      <td>1</td>\n",
       "      <td>3</td>\n",
       "      <td>47.692101</td>\n",
       "      <td>9.055353</td>\n",
       "    </tr>\n",
       "  </tbody>\n",
       "</table>\n",
       "</div>"
      ],
      "text/plain": [
       "   time  animal_id   latitude  longitude\n",
       "0     1          1  47.691358   9.176731\n",
       "1     1          2  52.472161  13.402034\n",
       "2     1          3  47.692101   9.055353"
      ]
     },
     "execution_count": 9,
     "metadata": {},
     "output_type": "execute_result"
    }
   ],
   "source": [
    "path = \"./datasets/geo.csv\"\n",
    "\n",
    "# Read in file using \n",
    "geo_data = pd.read_csv(path, sep=';')\n",
    "geo_data.head()"
   ]
  },
  {
   "cell_type": "code",
   "execution_count": 10,
   "id": "57c9419a-ee0d-4bdd-a27a-f5440822c063",
   "metadata": {},
   "outputs": [
    {
     "name": "stderr",
     "output_type": "stream",
     "text": [
      "c:\\users\\manuel\\appdata\\local\\programs\\python\\python38\\lib\\site-packages\\movekit\\preprocess.py:359: UserWarning: Input data spans multiple UTM zones. Projection into plane will likely be inaccurate.\n",
      "  warnings.warn(\"Input data spans multiple UTM zones. Projection into plane will likely be inaccurate.\")\n"
     ]
    },
    {
     "data": {
      "text/html": [
       "<div>\n",
       "<style scoped>\n",
       "    .dataframe tbody tr th:only-of-type {\n",
       "        vertical-align: middle;\n",
       "    }\n",
       "\n",
       "    .dataframe tbody tr th {\n",
       "        vertical-align: top;\n",
       "    }\n",
       "\n",
       "    .dataframe thead th {\n",
       "        text-align: right;\n",
       "    }\n",
       "</style>\n",
       "<table border=\"1\" class=\"dataframe\">\n",
       "  <thead>\n",
       "    <tr style=\"text-align: right;\">\n",
       "      <th></th>\n",
       "      <th>time</th>\n",
       "      <th>animal_id</th>\n",
       "      <th>x</th>\n",
       "      <th>y</th>\n",
       "    </tr>\n",
       "  </thead>\n",
       "  <tbody>\n",
       "    <tr>\n",
       "      <th>0</th>\n",
       "      <td>1</td>\n",
       "      <td>1</td>\n",
       "      <td>513261.777038</td>\n",
       "      <td>5.282012e+06</td>\n",
       "    </tr>\n",
       "    <tr>\n",
       "      <th>1</th>\n",
       "      <td>1</td>\n",
       "      <td>2</td>\n",
       "      <td>391460.276950</td>\n",
       "      <td>5.814756e+06</td>\n",
       "    </tr>\n",
       "    <tr>\n",
       "      <th>2</th>\n",
       "      <td>1</td>\n",
       "      <td>3</td>\n",
       "      <td>504153.593963</td>\n",
       "      <td>5.282081e+06</td>\n",
       "    </tr>\n",
       "  </tbody>\n",
       "</table>\n",
       "</div>"
      ],
      "text/plain": [
       "   time  animal_id              x             y\n",
       "0     1          1  513261.777038  5.282012e+06\n",
       "1     1          2  391460.276950  5.814756e+06\n",
       "2     1          3  504153.593963  5.282081e+06"
      ]
     },
     "execution_count": 10,
     "metadata": {},
     "output_type": "execute_result"
    }
   ],
   "source": [
    "# convert and store in a new DataFrame\n",
    "projected_data = mkit.convert_latlon(geo_data)\n",
    "projected_data.head()"
   ]
  },
  {
   "cell_type": "markdown",
   "id": "2f4b3cb3-b8ae-44a8-960d-bbfc0e192ea1",
   "metadata": {},
   "source": [
    "Often, it is helpful to normalize the data, e.g. for plotting."
   ]
  },
  {
   "cell_type": "code",
   "execution_count": 11,
   "id": "9fa1a20f-0cad-4df7-9312-35ae0998cd62",
   "metadata": {},
   "outputs": [],
   "source": [
    "projected_data = mkit.normalize(projected_data)"
   ]
  }
 ],
 "metadata": {
  "kernelspec": {
   "display_name": "Python 3",
   "language": "python",
   "name": "python3"
  },
  "language_info": {
   "codemirror_mode": {
    "name": "ipython",
    "version": 3
   },
   "file_extension": ".py",
   "mimetype": "text/x-python",
   "name": "python",
   "nbconvert_exporter": "python",
   "pygments_lexer": "ipython3",
   "version": "3.8.8"
  }
 },
 "nbformat": 4,
 "nbformat_minor": 5
}
