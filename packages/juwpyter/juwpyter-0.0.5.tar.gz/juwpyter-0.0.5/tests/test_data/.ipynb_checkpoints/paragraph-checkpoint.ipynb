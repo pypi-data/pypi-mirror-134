{
 "cells": [
  {
   "cell_type": "raw",
   "metadata": {
    "tags": [
     "frontmatter"
    ]
   },
   "source": [
    "authors:\n",
    "- email: bob@example.com\n",
    "  name: Bob Bobson\n",
    "  organization: Bobcom\n",
    "  type: Analyst\n",
    "categories:\n",
    "- Uncategorized\n",
    "github: \n",
    "identifier: f5e15f7a-ab55-44d1-b3b9-39f552d5727c\n",
    "show_input: hide\n",
    "tags:\n",
    "- Untagged\n"
   ]
  },
  {
   "cell_type": "markdown",
   "metadata": {
    "tags": [
     "Title"
    ]
   },
   "source": [
    "## One paragraph"
   ]
  },
  {
   "cell_type": "markdown",
   "metadata": {
    "tags": [
     "Description"
    ]
   },
   "source": [
    "Just a test file with one paragraph"
   ]
  },
  {
   "cell_type": "code",
   "execution_count": 2,
   "metadata": {},
   "outputs": [],
   "source": [
    "import sys\n",
    "# Install required packages\n",
    "!{sys.executable} -mpip -q install matplotlib seaborn statsmodels pandas publicdata metapack\n",
    "\n",
    "%matplotlib inline\n",
    "\n",
    "import pandas as pd\n",
    "import geopandas as gpd\n",
    "import numpy as np\n",
    "import metapack as mp\n",
    "import rowgenerators as rg\n",
    "import publicdata as pub\n",
    "import matplotlib.pyplot as plt\n",
    "import seaborn as sns\n",
    "sns.set(color_codes=True)"
   ]
  },
  {
   "cell_type": "markdown",
   "metadata": {},
   "source": [
    "\n",
    "\n",
    "Lorem ipsum dolor sit amet, consectetur adipiscing elit. Fusce sit amet diam eget justo malesuada molestie. Suspendisse consectetur laoreet elit, vel scelerisque magna mollis ac. Donec fringilla urna et lacus tristique, non faucibus purus luctus. Nulla venenatis enim ut neque rutrum vulputate. Nullam non urna vulputate, mattis tellus ut, dictum risus. Sed orci augue, euismod quis finibus eget, efficitur in mi. Nulla facilisi. Fusce semper dolor at justo condimentum pellentesque. Phasellus fringilla sem id condimentum egestas. "
   ]
  },
  {
   "cell_type": "code",
   "execution_count": null,
   "metadata": {},
   "outputs": [],
   "source": []
  }
 ],
 "metadata": {
  "celltoolbar": "Tags",
  "kernelspec": {
   "display_name": "Python 3",
   "language": "python",
   "name": "python3"
  },
  "language_info": {
   "codemirror_mode": {
    "name": "ipython",
    "version": 3
   },
   "file_extension": ".py",
   "mimetype": "text/x-python",
   "name": "python",
   "nbconvert_exporter": "python",
   "pygments_lexer": "ipython3",
   "version": "3.8.8"
  }
 },
 "nbformat": 4,
 "nbformat_minor": 4
}
