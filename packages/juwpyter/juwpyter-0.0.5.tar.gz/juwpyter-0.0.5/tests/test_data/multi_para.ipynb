{
 "cells": [
  {
   "cell_type": "raw",
   "metadata": {
    "tags": [
     "frontmatter"
    ]
   },
   "source": [
    "authors:\n",
    "- email: bob@example.com\n",
    "  name: Bob Bobson\n",
    "  organization: Bobcom\n",
    "  type: Analyst\n",
    "categories:\n",
    "- Uncategorized\n",
    "github: null\n",
    "identifier: 555f196c-dd6c-46af-ad51-2c0260c400a3\n",
    "show_input: hide\n",
    "tags:\n",
    "- Untagged\n"
   ]
  },
  {
   "cell_type": "markdown",
   "metadata": {
    "tags": [
     "Title"
    ]
   },
   "source": [
    "## Multiple Paragraphs"
   ]
  },
  {
   "cell_type": "markdown",
   "metadata": {
    "tags": [
     "Description"
    ]
   },
   "source": [
    "A test file with multiple paragraphs\n"
   ]
  },
  {
   "cell_type": "code",
   "execution_count": 2,
   "metadata": {},
   "outputs": [],
   "source": [
    "import pandas as pd\n",
    "import geopandas as gpd\n",
    "import numpy as np\n",
    "import metapack as mp\n",
    "import rowgenerators as rg\n",
    "import publicdata as pub\n",
    "import matplotlib.pyplot as plt\n",
    "import seaborn as sns\n",
    "sns.set(color_codes=True)"
   ]
  },
  {
   "cell_type": "markdown",
   "metadata": {},
   "source": [
    "# This is a Heading"
   ]
  },
  {
   "cell_type": "markdown",
   "metadata": {},
   "source": [
    "And then some text.\n",
    "\n",
    "And some more. \n"
   ]
  },
  {
   "cell_type": "markdown",
   "metadata": {},
   "source": [
    "# Level 1 Heading\n",
    "\n",
    "Foobar baz bongo\n",
    "\n",
    "## Level 2 Heading\n",
    "\n",
    "And then some more text, followed by the computation of $1+1$"
   ]
  },
  {
   "cell_type": "code",
   "execution_count": 3,
   "metadata": {},
   "outputs": [
    {
     "data": {
      "text/plain": [
       "2"
      ]
     },
     "execution_count": 3,
     "metadata": {},
     "output_type": "execute_result"
    }
   ],
   "source": [
    "1+1"
   ]
  },
  {
   "cell_type": "markdown",
   "metadata": {},
   "source": [
    "More Markdown"
   ]
  }
 ],
 "metadata": {
  "celltoolbar": "Tags",
  "kernelspec": {
   "display_name": "Python 3",
   "language": "python",
   "name": "python3"
  },
  "language_info": {
   "codemirror_mode": {
    "name": "ipython",
    "version": 3
   },
   "file_extension": ".py",
   "mimetype": "text/x-python",
   "name": "python",
   "nbconvert_exporter": "python",
   "pygments_lexer": "ipython3",
   "version": "3.8.8"
  }
 },
 "nbformat": 4,
 "nbformat_minor": 4
}
