{
 "cells": [
  {
   "cell_type": "code",
   "execution_count": 1,
   "id": "63e6606b",
   "metadata": {
    "execution": {
     "iopub.execute_input": "2022-01-12T22:24:41.265768Z",
     "iopub.status.busy": "2022-01-12T22:24:41.265126Z",
     "iopub.status.idle": "2022-01-12T22:24:53.897412Z",
     "shell.execute_reply": "2022-01-12T22:24:53.896574Z"
    }
   },
   "outputs": [
    {
     "name": "stdout",
     "output_type": "stream",
     "text": [
      "Testing accuracy: 1.00\n"
     ]
    }
   ],
   "source": [
    "import numpy as np\n",
    "from qlearnkit.algorithms import QKNeighborsClassifier\n",
    "from qlearnkit.encodings import AmplitudeEncoding\n",
    "from qiskit import BasicAer\n",
    "from qiskit.utils import QuantumInstance, algorithm_globals\n",
    "from sklearn.datasets import load_iris\n",
    "from sklearn.model_selection import train_test_split\n",
    "\n",
    "seed = 42\n",
    "algorithm_globals.random_seed = seed\n",
    "\n",
    "quantum_instance = QuantumInstance(BasicAer.get_backend('qasm_simulator'),\n",
    "                                   shots=1024,\n",
    "                                   optimization_level=1,\n",
    "                                   seed_simulator=seed,\n",
    "                                   seed_transpiler=seed)\n",
    "\n",
    "encoding_map = AmplitudeEncoding()\n",
    "\n",
    "# Use iris data set for training and test data\n",
    "X, y = load_iris(return_X_y=True)\n",
    "\n",
    "num_features = 2\n",
    "X = np.asarray([x[0:num_features] for x, y_ in zip(X, y) if y_ != 2])\n",
    "y = np.asarray([y_ for x, y_ in zip(X, y) if y_ != 2])\n",
    "\n",
    "qknn = QKNeighborsClassifier(\n",
    "    n_neighbors=3,\n",
    "    quantum_instance=quantum_instance,\n",
    "    encoding_map=encoding_map\n",
    ")\n",
    "\n",
    "X_train, X_test, y_train, y_test = train_test_split(X, y, test_size=0.20, random_state=seed)\n",
    "qknn.fit(X_train, y_train)\n",
    "\n",
    "print(f\"Testing accuracy: \"\n",
    "      f\"{qknn.score(X_test, y_test):0.2f}\")"
   ]
  },
  {
   "cell_type": "code",
   "execution_count": 2,
   "id": "f5ee059f",
   "metadata": {
    "execution": {
     "iopub.execute_input": "2022-01-12T22:24:53.908005Z",
     "iopub.status.busy": "2022-01-12T22:24:53.907140Z",
     "iopub.status.idle": "2022-01-12T22:25:05.633412Z",
     "shell.execute_reply": "2022-01-12T22:25:05.634049Z"
    }
   },
   "outputs": [
    {
     "name": "stdout",
     "output_type": "stream",
     "text": [
      "Testing accuracy: 1.00\n"
     ]
    }
   ],
   "source": [
    "import numpy as np\n",
    "from qlearnkit.algorithms import QKNeighborsClassifier\n",
    "from qlearnkit.encodings import AmplitudeEncoding\n",
    "from qiskit import BasicAer\n",
    "from qiskit.utils import QuantumInstance, algorithm_globals\n",
    "from sklearn.datasets import load_iris\n",
    "from sklearn.model_selection import train_test_split\n",
    "\n",
    "seed = 42\n",
    "algorithm_globals.random_seed = seed\n",
    "\n",
    "quantum_instance = QuantumInstance(BasicAer.get_backend('qasm_simulator'),\n",
    "                                   shots=1024,\n",
    "                                   optimization_level=1,\n",
    "                                   seed_simulator=seed,\n",
    "                                   seed_transpiler=seed)\n",
    "\n",
    "encoding_map = AmplitudeEncoding()\n",
    "\n",
    "# Use iris data set for training and test data\n",
    "X, y = load_iris(return_X_y=True)\n",
    "\n",
    "num_features = 2\n",
    "X = np.asarray([x[0:num_features] for x, y_ in zip(X, y) if y_ != 2])\n",
    "y = np.asarray([y_ for x, y_ in zip(X, y) if y_ != 2])\n",
    "\n",
    "qknn = QKNeighborsClassifier(\n",
    "    n_neighbors=3,\n",
    "    quantum_instance=quantum_instance,\n",
    "    encoding_map=encoding_map\n",
    ")\n",
    "\n",
    "X_train, X_test, y_train, y_test = train_test_split(X, y, test_size=0.20, random_state=seed)\n",
    "qknn.fit(X_train, y_train)\n",
    "\n",
    "print(f\"Testing accuracy: \"\n",
    "      f\"{qknn.score(X_test, y_test):0.2f}\")"
   ]
  }
 ],
 "metadata": {
  "kernelspec": {
   "display_name": "Python 3 (ipykernel)",
   "language": "python",
   "name": "python3"
  },
  "language_info": {
   "codemirror_mode": {
    "name": "ipython",
    "version": 3
   },
   "file_extension": ".py",
   "mimetype": "text/x-python",
   "name": "python",
   "nbconvert_exporter": "python",
   "pygments_lexer": "ipython3",
   "version": "3.8.10"
  }
 },
 "nbformat": 4,
 "nbformat_minor": 5
}