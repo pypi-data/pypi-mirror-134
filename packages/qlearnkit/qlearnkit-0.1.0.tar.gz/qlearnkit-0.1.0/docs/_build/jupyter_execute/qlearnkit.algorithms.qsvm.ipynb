{
 "cells": [
  {
   "cell_type": "code",
   "execution_count": 1,
   "id": "894472bd",
   "metadata": {
    "execution": {
     "iopub.execute_input": "2022-01-12T22:25:06.914330Z",
     "iopub.status.busy": "2022-01-12T22:25:06.901335Z",
     "iopub.status.idle": "2022-01-12T22:25:09.436864Z",
     "shell.execute_reply": "2022-01-12T22:25:09.437185Z"
    }
   },
   "outputs": [
    {
     "name": "stdout",
     "output_type": "stream",
     "text": [
      "Testing accuracy: 0.95\n"
     ]
    }
   ],
   "source": [
    "import numpy as np\n",
    "from qlearnkit.algorithms import QSVClassifier\n",
    "from qiskit import BasicAer\n",
    "from qiskit.utils import QuantumInstance, algorithm_globals\n",
    "from sklearn.datasets import load_iris\n",
    "from sklearn.model_selection import train_test_split\n",
    "from qiskit.circuit.library import ZZFeatureMap\n",
    "\n",
    "seed = 42\n",
    "algorithm_globals.random_seed = seed\n",
    "\n",
    "quantum_instance = QuantumInstance(BasicAer.get_backend('statevector_simulator'),\n",
    "                                   shots=1024,\n",
    "                                   optimization_level=1,\n",
    "                                   seed_simulator=seed,\n",
    "                                   seed_transpiler=seed)\n",
    "\n",
    "# Use iris data set for training and test data\n",
    "X, y = load_iris(return_X_y=True)\n",
    "\n",
    "num_features = 2\n",
    "X = np.asarray([x[0:num_features] for x, y_ in zip(X, y) if y_ != 2])\n",
    "y = np.asarray([y_ for x, y_ in zip(X, y) if y_ != 2])\n",
    "\n",
    "encoding_map = ZZFeatureMap(2)\n",
    "\n",
    "qsvc = QSVClassifier(\n",
    "    encoding_map=encoding_map,\n",
    "    quantum_instance=quantum_instance\n",
    ")\n",
    "\n",
    "# use iris dataset\n",
    "X_train, X_test, y_train, y_test = train_test_split(X, y, test_size=0.20, random_state=seed)\n",
    "qsvc.fit(X_train, y_train)\n",
    "\n",
    "print(f\"Testing accuracy: \"\n",
    "      f\"{qsvc.score(X_test, y_test):0.2f}\")"
   ]
  },
  {
   "cell_type": "code",
   "execution_count": 2,
   "id": "46c1b861",
   "metadata": {
    "execution": {
     "iopub.execute_input": "2022-01-12T22:25:09.446350Z",
     "iopub.status.busy": "2022-01-12T22:25:09.445483Z",
     "iopub.status.idle": "2022-01-12T22:25:10.350003Z",
     "shell.execute_reply": "2022-01-12T22:25:10.351149Z"
    }
   },
   "outputs": [
    {
     "name": "stdout",
     "output_type": "stream",
     "text": [
      "Testing accuracy: 0.95\n"
     ]
    }
   ],
   "source": [
    "import numpy as np\n",
    "from qlearnkit.algorithms import QSVClassifier\n",
    "from qiskit import BasicAer\n",
    "from qiskit.utils import QuantumInstance, algorithm_globals\n",
    "from sklearn.datasets import load_iris\n",
    "from sklearn.model_selection import train_test_split\n",
    "from qiskit.circuit.library import ZZFeatureMap\n",
    "\n",
    "seed = 42\n",
    "algorithm_globals.random_seed = seed\n",
    "\n",
    "quantum_instance = QuantumInstance(BasicAer.get_backend('statevector_simulator'),\n",
    "                                   shots=1024,\n",
    "                                   optimization_level=1,\n",
    "                                   seed_simulator=seed,\n",
    "                                   seed_transpiler=seed)\n",
    "\n",
    "# Use iris data set for training and test data\n",
    "X, y = load_iris(return_X_y=True)\n",
    "\n",
    "num_features = 2\n",
    "X = np.asarray([x[0:num_features] for x, y_ in zip(X, y) if y_ != 2])\n",
    "y = np.asarray([y_ for x, y_ in zip(X, y) if y_ != 2])\n",
    "\n",
    "encoding_map = ZZFeatureMap(2)\n",
    "\n",
    "qsvc = QSVClassifier(\n",
    "    encoding_map=encoding_map,\n",
    "    quantum_instance=quantum_instance\n",
    ")\n",
    "\n",
    "# use iris dataset\n",
    "X_train, X_test, y_train, y_test = train_test_split(X, y, test_size=0.20, random_state=seed)\n",
    "qsvc.fit(X_train, y_train)\n",
    "\n",
    "print(f\"Testing accuracy: \"\n",
    "      f\"{qsvc.score(X_test, y_test):0.2f}\")"
   ]
  }
 ],
 "metadata": {
  "kernelspec": {
   "display_name": "Python 3 (ipykernel)",
   "language": "python",
   "name": "python3"
  },
  "language_info": {
   "codemirror_mode": {
    "name": "ipython",
    "version": 3
   },
   "file_extension": ".py",
   "mimetype": "text/x-python",
   "name": "python",
   "nbconvert_exporter": "python",
   "pygments_lexer": "ipython3",
   "version": "3.8.10"
  }
 },
 "nbformat": 4,
 "nbformat_minor": 5
}