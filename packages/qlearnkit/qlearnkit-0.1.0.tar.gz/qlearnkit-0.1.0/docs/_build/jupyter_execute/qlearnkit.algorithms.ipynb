{
 "cells": [
  {
   "cell_type": "code",
   "execution_count": 1,
   "id": "74ba0f10",
   "metadata": {
    "execution": {
     "iopub.execute_input": "2022-01-12T22:23:50.827577Z",
     "iopub.status.busy": "2022-01-12T22:23:50.818470Z",
     "iopub.status.idle": "2022-01-12T22:24:03.165366Z",
     "shell.execute_reply": "2022-01-12T22:24:03.164413Z"
    }
   },
   "outputs": [
    {
     "name": "stdout",
     "output_type": "stream",
     "text": [
      "[0 0 2 1 0 2 2 0 1 0 1 1 2 2 0 2 0 0 1 2 1 1 2 0 2 2 0 1 0 1 1 1 2 1 1 0 1\n",
      " 0 2 0 0 0 0 2 2 0 2 0 0 0 0 1 0 2 1 1 0 2 0 1 0 0 2 1 1 0 2 1 2 0 0 0 0 0\n",
      " 2 0 0 2 0 0]\n",
      "[[5.96216216 2.77027027]\n",
      " [4.74761905 3.02857143]\n",
      " [5.34090909 3.63181818]]\n"
     ]
    },
    {
     "data": {
      "image/png": "[encoded data removed]",
      "text/plain": [
       "<Figure size 432x288 with 1 Axes>"
      ]
     },
     "metadata": {
      "filenames": {
       "image/png": "/home/mspronesti/Videos/qlkit/docs/_build/jupyter_execute/qlearnkit.algorithms_0_1.png"
      },
      "needs_background": "light"
     },
     "output_type": "display_data"
    },
    {
     "name": "stdout",
     "output_type": "stream",
     "text": [
      "[0 0 0 1 2 2 2 0 2 2 2 1 0 2 0 2 0 0 1 2]\n"
     ]
    }
   ],
   "source": [
    "import numpy as np\n",
    "import matplotlib.pyplot as plt\n",
    "from qlearnkit.algorithms import QKMeans\n",
    "from qiskit import BasicAer\n",
    "from qiskit.utils import QuantumInstance, algorithm_globals\n",
    "from sklearn.datasets import load_iris\n",
    "from sklearn.model_selection import train_test_split\n",
    "\n",
    "seed = 42\n",
    "algorithm_globals.random_seed = seed\n",
    "\n",
    "quantum_instance = QuantumInstance(BasicAer.get_backend('qasm_simulator'),\n",
    "                                   shots=1024,\n",
    "                                   optimization_level=1,\n",
    "                                   seed_simulator=seed,\n",
    "                                   seed_transpiler=seed)\n",
    "\n",
    "# Use iris data set for training and test data\n",
    "X, y = load_iris(return_X_y=True)\n",
    "\n",
    "num_features = 2\n",
    "X = np.asarray([x[0:num_features] for x, y_ in zip(X, y) if y_ != 2])\n",
    "y = np.asarray([y_ for x, y_ in zip(X, y) if y_ != 2])\n",
    "\n",
    "qkmeans = QKMeans(n_clusters=3,\n",
    "                  quantum_instance=quantum_instance\n",
    ")\n",
    "\n",
    "X_train, X_test, y_train, y_test = train_test_split(X, y, test_size=0.20, random_state=seed)\n",
    "qkmeans.fit(X_train)\n",
    "\n",
    "print(qkmeans.labels_)\n",
    "print(qkmeans.cluster_centers_)\n",
    "\n",
    "# Plot the results\n",
    "colors = ['blue', 'orange', 'green']\n",
    "for i in range(X_train.shape[0]):\n",
    "    plt.scatter(X_train[i, 0], X_train[i, 1], color=colors[qkmeans.labels_[i]])\n",
    "plt.scatter(qkmeans.cluster_centers_[:, 0], qkmeans.cluster_centers_[:, 1], marker='*', c='g', s=150)\n",
    "plt.show()\n",
    "\n",
    "# Predict new points\n",
    "prediction = qkmeans.predict(X_test)\n",
    "print(prediction)"
   ]
  },
  {
   "cell_type": "code",
   "execution_count": 2,
   "id": "a70cf101",
   "metadata": {
    "execution": {
     "iopub.execute_input": "2022-01-12T22:24:03.180539Z",
     "iopub.status.busy": "2022-01-12T22:24:03.179728Z",
     "iopub.status.idle": "2022-01-12T22:24:14.351032Z",
     "shell.execute_reply": "2022-01-12T22:24:14.350070Z"
    }
   },
   "outputs": [
    {
     "name": "stdout",
     "output_type": "stream",
     "text": [
      "Testing accuracy: 1.00\n"
     ]
    }
   ],
   "source": [
    "import numpy as np\n",
    "from qlearnkit.algorithms import QKNeighborsClassifier\n",
    "from qlearnkit.encodings import AmplitudeEncoding\n",
    "from qiskit import BasicAer\n",
    "from qiskit.utils import QuantumInstance, algorithm_globals\n",
    "from sklearn.datasets import load_iris\n",
    "from sklearn.model_selection import train_test_split\n",
    "\n",
    "seed = 42\n",
    "algorithm_globals.random_seed = seed\n",
    "\n",
    "quantum_instance = QuantumInstance(BasicAer.get_backend('qasm_simulator'),\n",
    "                                   shots=1024,\n",
    "                                   optimization_level=1,\n",
    "                                   seed_simulator=seed,\n",
    "                                   seed_transpiler=seed)\n",
    "\n",
    "encoding_map = AmplitudeEncoding()\n",
    "\n",
    "# Use iris data set for training and test data\n",
    "X, y = load_iris(return_X_y=True)\n",
    "\n",
    "num_features = 2\n",
    "X = np.asarray([x[0:num_features] for x, y_ in zip(X, y) if y_ != 2])\n",
    "y = np.asarray([y_ for x, y_ in zip(X, y) if y_ != 2])\n",
    "\n",
    "qknn = QKNeighborsClassifier(\n",
    "    n_neighbors=3,\n",
    "    quantum_instance=quantum_instance,\n",
    "    encoding_map=encoding_map\n",
    ")\n",
    "\n",
    "X_train, X_test, y_train, y_test = train_test_split(X, y, test_size=0.20, random_state=seed)\n",
    "qknn.fit(X_train, y_train)\n",
    "\n",
    "print(f\"Testing accuracy: \"\n",
    "      f\"{qknn.score(X_test, y_test):0.2f}\")"
   ]
  },
  {
   "cell_type": "code",
   "execution_count": 3,
   "id": "d5bf83ec",
   "metadata": {
    "execution": {
     "iopub.execute_input": "2022-01-12T22:24:14.362843Z",
     "iopub.status.busy": "2022-01-12T22:24:14.361772Z",
     "iopub.status.idle": "2022-01-12T22:24:15.994760Z",
     "shell.execute_reply": "2022-01-12T22:24:15.993579Z"
    }
   },
   "outputs": [
    {
     "name": "stdout",
     "output_type": "stream",
     "text": [
      "Testing accuracy: 0.95\n"
     ]
    }
   ],
   "source": [
    "import numpy as np\n",
    "from qlearnkit.algorithms import QSVClassifier\n",
    "from qiskit import BasicAer\n",
    "from qiskit.utils import QuantumInstance, algorithm_globals\n",
    "from sklearn.datasets import load_iris\n",
    "from sklearn.model_selection import train_test_split\n",
    "from qiskit.circuit.library import ZZFeatureMap\n",
    "\n",
    "seed = 42\n",
    "algorithm_globals.random_seed = seed\n",
    "\n",
    "quantum_instance = QuantumInstance(BasicAer.get_backend('statevector_simulator'),\n",
    "                                   shots=1024,\n",
    "                                   optimization_level=1,\n",
    "                                   seed_simulator=seed,\n",
    "                                   seed_transpiler=seed)\n",
    "\n",
    "# Use iris data set for training and test data\n",
    "X, y = load_iris(return_X_y=True)\n",
    "\n",
    "num_features = 2\n",
    "X = np.asarray([x[0:num_features] for x, y_ in zip(X, y) if y_ != 2])\n",
    "y = np.asarray([y_ for x, y_ in zip(X, y) if y_ != 2])\n",
    "\n",
    "encoding_map = ZZFeatureMap(2)\n",
    "\n",
    "qsvc = QSVClassifier(\n",
    "    encoding_map=encoding_map,\n",
    "    quantum_instance=quantum_instance\n",
    ")\n",
    "\n",
    "# use iris dataset\n",
    "X_train, X_test, y_train, y_test = train_test_split(X, y, test_size=0.20, random_state=seed)\n",
    "qsvc.fit(X_train, y_train)\n",
    "\n",
    "print(f\"Testing accuracy: \"\n",
    "      f\"{qsvc.score(X_test, y_test):0.2f}\")"
   ]
  }
 ],
 "metadata": {
  "kernelspec": {
   "display_name": "Python 3 (ipykernel)",
   "language": "python",
   "name": "python3"
  },
  "language_info": {
   "codemirror_mode": {
    "name": "ipython",
    "version": 3
   },
   "file_extension": ".py",
   "mimetype": "text/x-python",
   "name": "python",
   "nbconvert_exporter": "python",
   "pygments_lexer": "ipython3",
   "version": "3.8.10"
  }
 },
 "nbformat": 4,
 "nbformat_minor": 5
}