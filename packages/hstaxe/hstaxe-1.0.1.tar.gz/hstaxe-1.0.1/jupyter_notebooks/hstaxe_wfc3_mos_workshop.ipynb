{
 "cells": [
  {
   "cell_type": "markdown",
   "metadata": {},
   "source": [
    "<h1>HSTAXE Demo for the Multi-Object Spectroscopy for Statistical Measures of Galaxy Evolution Workshop</h1>"
   ]
  },
  {
   "cell_type": "markdown",
   "metadata": {},
   "source": [
    "<h2>Setting up your environment</h2>\n",
    "\n",
    "*This virtual workshop is scheduled for May 17-20, 2021*\n",
    "\n",
    "If you dont have a version of anaconda installed locally, follow the instructions here: https://docs.anaconda.com/anaconda/install/\n",
    "miniconda should be all you need, and provides the minimum install\n",
    "\n",
    "Next, create a new directory for the workshop materials (I'll use /workshop/location/ as the default)\n",
    "\n",
    "> mkdir /workshop/location\n",
    "\n",
    "> cd /workshop/location\n",
    "\n",
    "There is an example dataset for WFC3 in this repository, use git to clone it to your local directory: https://github.com/npirzkal/aXe_WFC3_Cookbook\n",
    "\n",
    "> git clone https://github.com/npirzkal/aXe_WFC3_Cookbook\n",
    "\n",
    "For this workshop, I've created a notebook in the hstaxe repository. You can navigate to the repository and download the single file through the github interface, or you can clone the hstaxe repository: https://github.com/spacetelescope/hstaxe/\n",
    "\n",
    "> git clone https://github.com/spacetelescope/hstaxe/\n",
    "\n",
    "The notebook for this workshop is: https://github.com/spacetelescope/hstaxe/tree/master/jupyter_notebooks/hstaxe_wfc3_mos_workshop.ipynb\n"
   ]
  },
  {
   "cell_type": "markdown",
   "metadata": {},
   "source": [
    "<h2>Installing hstaxe </h2>\n",
    "\n",
    "> conda create --name hstaxe-demo python=3.7 jupyter hstaxe photutils=1.0\n",
    "\n",
    ">conda activate hstaxe-demo\n",
    "\n",
    "\n",
    "You should be ready to run this example notebook. It can be started with `jupyter notebook hstaxe_wfc3_mos_workshop.ipynb`"
   ]
  },
  {
   "cell_type": "markdown",
   "metadata": {},
   "source": [
    "<h2> Load the modules we will use in this notebook"
   ]
  },
  {
   "cell_type": "code",
   "execution_count": null,
   "metadata": {},
   "outputs": [],
   "source": [
    "from astropy.io import fits\n",
    "import numpy as np\n",
    "import os, shutil\n",
    "import matplotlib.pyplot as plt\n",
    "%matplotlib inline\n",
    "from drizzlepac import astrodrizzle\n",
    "from hstaxe import axetasks\n",
    "\n",
    "\n"
   ]
  },
  {
   "cell_type": "markdown",
   "metadata": {},
   "source": [
    "<h2>We save the current working directory"
   ]
  },
  {
   "cell_type": "code",
   "execution_count": null,
   "metadata": {},
   "outputs": [],
   "source": [
    "cwd = os.getcwd()\n",
    "print(\"We are in %s\" % (cwd))"
   ]
  },
  {
   "cell_type": "markdown",
   "metadata": {},
   "source": [
    "<H2>Preparing the G141 data"
   ]
  },
  {
   "cell_type": "markdown",
   "metadata": {},
   "source": [
    "We will create a G141 subdirectory to copy all of the G141 files into. This where we will prepare the G141 data"
   ]
  },
  {
   "cell_type": "markdown",
   "metadata": {},
   "source": [
    "Creating the directory, removing any existing one"
   ]
  },
  {
   "cell_type": "code",
   "execution_count": null,
   "metadata": {},
   "outputs": [],
   "source": [
    "os.chdir(cwd)\n",
    "if os.path.isdir(\"G141\"):\n",
    "    shutil.rmtree(\"G141\")\n",
    "os.mkdir(\"G141\")"
   ]
  },
  {
   "cell_type": "markdown",
   "metadata": {},
   "source": [
    "Copying the G141 data (which we grab from our cookbook_data directory)"
   ]
  },
  {
   "cell_type": "code",
   "execution_count": null,
   "metadata": {},
   "outputs": [],
   "source": [
    "os.system(\"cp cookbook_data/G141/*flt.fits G141/\")\n",
    "os.system(\"cp cookbook_data/G141/G141.lis G141/\")"
   ]
  },
  {
   "cell_type": "markdown",
   "metadata": {},
   "source": [
    "We move into the G141 directory and check the content of the G141.lis file"
   ]
  },
  {
   "cell_type": "code",
   "execution_count": null,
   "metadata": {},
   "outputs": [],
   "source": [
    "os.chdir(cwd)\n",
    "os.chdir(\"G141\")\n",
    "!cat G141.lis"
   ]
  },
  {
   "cell_type": "markdown",
   "metadata": {},
   "source": [
    "<h2>We now create a G141 mosaic using the G141 data"
   ]
  },
  {
   "cell_type": "markdown",
   "metadata": {},
   "source": [
    "This mosaic will be used to set up the proper astrometry for each individual FLT files. We can only extract G141 spectra from FLT files which have been used to make this mosaic"
   ]
  },
  {
   "cell_type": "code",
   "execution_count": null,
   "metadata": {},
   "outputs": [],
   "source": [
    "astrodrizzle.AstroDrizzle(\"@G141.lis\",output=\"G141\",build=True)"
   ]
  },
  {
   "cell_type": "markdown",
   "metadata": {},
   "source": [
    "<h2>We now prepare the F140W Imaging data"
   ]
  },
  {
   "cell_type": "markdown",
   "metadata": {},
   "source": [
    "We already created a mosaic of all the G141 data for astrometric purposes, and we now create an F140W mosaic using the G141 mosaic as the astrometric reference frame. This will ensure that the G141 and F140W mosaics have pixels with the same RA and DEC. \n",
    "The process is similar to what we did with the G141 data and we do this in a F140W sub-directory. The F140W mosaic is generated with the same WCS as the G141 mosaic we already generated."
   ]
  },
  {
   "cell_type": "markdown",
   "metadata": {},
   "source": [
    "Creating the directory, removing any existing one"
   ]
  },
  {
   "cell_type": "code",
   "execution_count": null,
   "metadata": {},
   "outputs": [],
   "source": [
    "os.chdir(cwd)\n",
    "\n",
    "if os.path.isdir(\"F140W\"):\n",
    "    shutil.rmtree(\"F140W\")\n",
    "\n",
    "os.mkdir(\"F140W\")\n"
   ]
  },
  {
   "cell_type": "markdown",
   "metadata": {},
   "source": [
    "Copy the F140W data (which we grab from our cookbook_data directory)"
   ]
  },
  {
   "cell_type": "code",
   "execution_count": null,
   "metadata": {},
   "outputs": [],
   "source": [
    "os.system(\"cp cookbook_data/F140W/*flt.fits F140W/\")\n",
    "os.system(\"cp cookbook_data/F140W/F140W.lis F140W/\")"
   ]
  },
  {
   "cell_type": "markdown",
   "metadata": {},
   "source": [
    "We move into the F140W directory and check the content of the F140W.lis file"
   ]
  },
  {
   "cell_type": "code",
   "execution_count": null,
   "metadata": {},
   "outputs": [],
   "source": [
    "os.chdir(cwd)\n",
    "os.chdir(\"F140W\")\n",
    "!cat F140W.lis"
   ]
  },
  {
   "cell_type": "markdown",
   "metadata": {},
   "source": [
    "<h2>We create a F140W mosaic using the F140W data and the G141 mosaic as a reference"
   ]
  },
  {
   "cell_type": "code",
   "execution_count": null,
   "metadata": {},
   "outputs": [],
   "source": [
    "ref = \"../G141/G141_drz.fits[1]\"\n",
    "astrodrizzle.AstroDrizzle(\"@F140W.lis\",output=\"F140W\",in_memory=False,skysub=\"yes\",build=True,driz_cr_corr=True,driz_cr=True,final_wcs=True,driz_separate=True,driz_sep_wcs=True,driz_sep_refimage=ref,final_refimage=ref)"
   ]
  },
  {
   "cell_type": "markdown",
   "metadata": {},
   "source": [
    "The F140W and G141 should be aligned and bright objects should generate bright spectra in the expected position. We should see very liittle offset in the y-direction for WFC3 IR grism data"
   ]
  },
  {
   "cell_type": "code",
   "execution_count": null,
   "metadata": {
    "scrolled": true
   },
   "outputs": [],
   "source": [
    "plt.rcParams[\"figure.figsize\"] = (10,7)\n",
    "plt.subplot(1,2,1)\n",
    "d = fits.open(\"F140W_drz.fits\")[1].data\n",
    "im1 = plt.imshow(d,origin=\"lower\")\n",
    "im1.set_clim(0,.2)\n",
    "\n",
    "plt.subplot(1,2,2)\n",
    "d = fits.open(\"../G141/G141_drz.fits\")[1].data\n",
    "im1 = plt.imshow(d,origin=\"lower\")\n",
    "im1.set_clim(0,.2)"
   ]
  },
  {
   "cell_type": "markdown",
   "metadata": {},
   "source": [
    "<h2>We create an object catalog using sextractor"
   ]
  },
  {
   "cell_type": "markdown",
   "metadata": {},
   "source": [
    "This is one step that needs to be done carefully as several things can go wrong.\n",
    "- Make sure you set the magnitude zeropoint properly for the image you are using\n",
    "- One can generate a simple catalog using:\n",
    "\n",
    "    sex -c aXe.sex F140W_drz.fits[1] -DETECT_THRESH 5 -MAG_ZEROPOINT 26.4525\n",
    "    \n",
    "    \n",
    "- See aXe.param for the required parameters that aXe will be looking for\n",
    "- Check the resulting catalog to make sure that all objects have good magnitudes (i.e. no mag of 99.)\n",
    "- Edit cookbook.cat and rename column MAG_ISO with MAG_F1392, or you will get an \"aXeError: Catalogue: test.cat does not contain any magnitude column!\" error when running iolprep"
   ]
  },
  {
   "cell_type": "markdown",
   "metadata": {},
   "source": [
    "This catalog, when doing a simple extraction, will be used to compute the SED of each sources. These SEDs will be used to compute our contamination models. In this example, we used a single band, F140W, but we could have added information in other bands such as F125W for example. This requires running Sextractor in matched photometry mode, and the creation of a catalog where magnitudes in multiple bands are properly listed"
   ]
  },
  {
   "cell_type": "markdown",
   "metadata": {},
   "source": [
    "For simplicity, here, we copy an already generated catalog:"
   ]
  },
  {
   "cell_type": "code",
   "execution_count": null,
   "metadata": {},
   "outputs": [],
   "source": [
    "os.system(\"cp ../cookbook_data/cookbook.cat .\")\n",
    "!cat cookbook.cat"
   ]
  },
  {
   "cell_type": "markdown",
   "metadata": {},
   "source": [
    "<h2>We can now run the hstaxe main tasks"
   ]
  },
  {
   "cell_type": "markdown",
   "metadata": {},
   "source": [
    "We start by setting up some necessary environment variables that point to the various aXe directories."
   ]
  },
  {
   "cell_type": "markdown",
   "metadata": {},
   "source": [
    "Create a directory called CONF and copy the WFC3 G141 IR Calibration files in there."
   ]
  },
  {
   "cell_type": "code",
   "execution_count": null,
   "metadata": {},
   "outputs": [],
   "source": [
    "os.chdir(cwd)\n",
    "\n",
    "if os.path.isdir(\"CONF\"):\n",
    "    shutil.rmtree(\"CONF\")\n",
    "os.mkdir(\"CONF\")\n",
    "\n",
    "os.system(\"cp cookbook_data/CONF/* CONF/\")"
   ]
  },
  {
   "cell_type": "markdown",
   "metadata": {},
   "source": [
    "<h2>We define the FOV boundaries for the WFC3 IR observations"
   ]
  },
  {
   "cell_type": "code",
   "execution_count": null,
   "metadata": {},
   "outputs": [],
   "source": [
    "dimension_info = \"183,85,50,50\""
   ]
  },
  {
   "cell_type": "markdown",
   "metadata": {},
   "source": [
    "We copy the G141 FLT files and the F140W FLT files in the DATA directory"
   ]
  },
  {
   "cell_type": "markdown",
   "metadata": {},
   "source": [
    "You can either use the original data or optionally the FLT files used to create the G141 mosaic earlier, which will have some extra bad pixels flagging"
   ]
  },
  {
   "cell_type": "code",
   "execution_count": null,
   "metadata": {},
   "outputs": [],
   "source": [
    "os.system(\"cp G141/*flt.fits DATA/\")\n",
    "os.system(\"cp F140W/*flt.fits DATA/\")"
   ]
  },
  {
   "cell_type": "markdown",
   "metadata": {},
   "source": [
    "<h2>We use the iolprep hstaxe task to generate individual F140W catalogs"
   ]
  },
  {
   "cell_type": "markdown",
   "metadata": {},
   "source": [
    "This task will create the individual F140W extraction catalogs, one for each of the files listed in the F140W.lis file. \n",
    "We pass the F140W mosaic to it, as it contains all the information about all the individual F140W FLT file."
   ]
  },
  {
   "cell_type": "code",
   "execution_count": null,
   "metadata": {},
   "outputs": [],
   "source": [
    "os.chdir(cwd)\n",
    "os.chdir(\"F140W\")\n",
    "\n",
    "axetasks.iolprep(drizzle_image='F140W_drz.fits',\n",
    "                     input_cat='cookbook.cat',\n",
    "                     dimension_in=dimension_info)"
   ]
  },
  {
   "cell_type": "markdown",
   "metadata": {},
   "source": [
    "We copy the newly create catalog files into the DATA directory"
   ]
  },
  {
   "cell_type": "code",
   "execution_count": null,
   "metadata": {},
   "outputs": [],
   "source": [
    "os.system(\"cp ib6o23*_1.cat ../DATA/\")"
   ]
  },
  {
   "cell_type": "markdown",
   "metadata": {},
   "source": [
    "<h2>We are almost ready to extract the spectra.</h2>\n",
    "\n",
    "We need to create an file aXe.lis containing the G141 images, expected catalog names and associated F140W direct images"
   ]
  },
  {
   "cell_type": "markdown",
   "metadata": {},
   "source": [
    "The G141 mosaic we created earlier is not used directly during the aXe extraction process. However, the F140W mosaic was used to create an object master catalog. This catalog will be processed to generate individual object catalogs for the files used to create the F140W mosaic. The aXe.lis file lists which F140W images are logically associated with a particular G141 image. Ideally, these are images taken in the same HST visit so that we can be sure that the WCS of both files are consistent.\n",
    "\n",
    "The aXe.lis file is a simple text file, with a slightly different format than the one above. In this file, each line contains 3 items:\n",
    "- The name of a G141 FLT file (e.g. [grism_rootname]_flt.fits\n",
    "- A catalog name with a name of [direct_rootname]_flt_1.cat\n",
    "- The name of the direct imaging file [direct_rootname]_flt.fits associated with the G141 data and the catalog. \n",
    "    \n",
    "At this stage, we only have items 1 and 2."
   ]
  },
  {
   "cell_type": "code",
   "execution_count": null,
   "metadata": {},
   "outputs": [],
   "source": [
    "os.chdir(cwd)\n",
    "os.system(\"cp cookbook_data/aXe.lis .\")\n",
    "!cat aXe.lis"
   ]
  },
  {
   "cell_type": "markdown",
   "metadata": {},
   "source": [
    "<h2>We run axeprep </h2>\n",
    "\n",
    "This task will amongst other things take care of background subtracting the G141 data using a single master sky."
   ]
  },
  {
   "cell_type": "code",
   "execution_count": null,
   "metadata": {},
   "outputs": [],
   "source": [
    "os.chdir(cwd)\n",
    "\n",
    "axetasks.axeprep(inlist=\"aXe.lis\",\n",
    "                     configs=\"G141.F140W.V4.31.conf\",\n",
    "                     backgr=True,\n",
    "                     backims=\"WFC3.IR.G141.sky.V1.0.fits\",\n",
    "                     norm=False,\n",
    "                     mfwhm=3.0)\n"
   ]
  },
  {
   "cell_type": "markdown",
   "metadata": {},
   "source": [
    "We can now proceed with a simple box extraction of our G141 spectra. This will not combine individual 1D spectra and we create one extracted spectrum per object and get G141 FLT file we are processing. \n",
    "The contamination is estimated using the Gaussian model of each object that is included in the  SExtractor object catalog test.cat."
   ]
  },
  {
   "cell_type": "markdown",
   "metadata": {},
   "source": [
    "For each of the G141 input FLT file, this will create the following in the OUTPUT/ directory:\n",
    "- [rootname]_flt_2.cat : Object catalog for the FLT file [rootname]_flt.fits\n",
    "- [rootname]_flt_2.OAF : Aperture file\n",
    "- [rootname]_flt_2.PET.fits : The Pixel Extraction Table, containing all the unbinned information about each spectrum\n",
    "- [rootname]_flt_2.SPC.fits : 1D extracted spectra\n",
    "- [rootname]_flt_2.CONT.fits : Contamination estimate for eact of the spectra\n",
    "- [rootname]_flt_2_opt.SPC.fits : Optimally extracted version of the 1D spectra\n",
    "\n",
    "While running the next notebook cell, please check the main terminal window as the hstaxe routines will output things in there. It will take a few minutes to run\n"
   ]
  },
  {
   "cell_type": "code",
   "execution_count": null,
   "metadata": {},
   "outputs": [],
   "source": [
    "axetasks.axecore('aXe.lis',\n",
    "                 \"G141.F140W.V4.31.conf\",\n",
    "                 extrfwhm=4.,\n",
    "                 drzfwhm=3.,\n",
    "                 backfwhm=0.,\n",
    "                 orient=False,\n",
    "                 weights=True,\n",
    "                 slitless_geom=False,\n",
    "                 cont_model='gauss',\n",
    "                 sampling='drizzle',\n",
    "                 exclude=True)\n"
   ]
  },
  {
   "cell_type": "markdown",
   "metadata": {},
   "source": [
    "Results are in the directory pointed to by os.environ['AXE_OUTPUT_PATH'], i.e. ./OUTPUT \n",
    "1D and 2D spectra extracted from individual FLT files are available. These are not combined.\n",
    "SPC files contained 1D spectra, opt.SPC files contained optimally extracted spectra (using gaussian profiles), STP files contain 2D stamps. CONT files contain the contamination estimate (gaussian based)"
   ]
  },
  {
   "cell_type": "code",
   "execution_count": null,
   "metadata": {},
   "outputs": [],
   "source": [
    "!ls OUTPUT/*SPC.fits\n",
    "!ls OUTPUT/*STP.fits"
   ]
  },
  {
   "cell_type": "markdown",
   "metadata": {},
   "source": [
    "<h3>We can examine individual 2D spectra from the STP files. Note that the STP files are meant for quality control and are not calibrated versions of the 2D spectra. "
   ]
  },
  {
   "cell_type": "code",
   "execution_count": null,
   "metadata": {},
   "outputs": [],
   "source": [
    "ID = 160\n",
    "\n",
    "plt.rcParams[\"figure.figsize\"] = (15,3)\n",
    "plt.subplot(2,2,1)\n",
    "try:\n",
    "    d1 = fits.open(\"OUTPUT/ib6o23rsq_flt_2.STP.fits\")[\"BEAM_%dA\" % (ID)].data\n",
    "    im1 = plt.imshow(d1,origin=\"lower\")\n",
    "    im1.set_clim(0,.1)\n",
    "except:\n",
    "    pass\n",
    "\n",
    "plt.subplot(2,2,2)\n",
    "try:\n",
    "    d1 = fits.open(\"OUTPUT/ib6o23ryq_flt_2.STP.fits\")[\"BEAM_%dA\" % (ID)].data\n",
    "    im1 = plt.imshow(d1,origin=\"lower\")\n",
    "    im1.set_clim(0,.1)\n",
    "except:\n",
    "    pass\n",
    "\n",
    "plt.subplot(2,2,3)\n",
    "try:\n",
    "    d1 = fits.open(\"OUTPUT/ib6o23ruq_flt_2.STP.fits\")[\"BEAM_%dA\" % (ID)].data\n",
    "    im1 = plt.imshow(d1,origin=\"lower\")\n",
    "    im1.set_clim(0,.1)\n",
    "except:\n",
    "    pass\n",
    "\n",
    "plt.subplot(2,2,4)\n",
    "try:\n",
    "    d1 = fits.open(\"OUTPUT/ib6o23s0q_flt_2.STP.fits\")[\"BEAM_%dA\" % (ID)].data\n",
    "    im1 = plt.imshow(d1,origin=\"lower\")\n",
    "    im1.set_clim(0,.1)\n",
    "except:\n",
    "    pass\n",
    "\n"
   ]
  },
  {
   "cell_type": "markdown",
   "metadata": {},
   "source": [
    "<h2>We now examine the calibrated 1D spectra of one of the sources:"
   ]
  },
  {
   "cell_type": "code",
   "execution_count": null,
   "metadata": {},
   "outputs": [],
   "source": [
    "import glob\n",
    "for s in glob.glob(\"OUTPUT/ib6o2*2.SPC.fits\"):\n",
    "    print( s)\n",
    "    d1 = fits.open(s)[\"BEAM_%dA\" % (ID)].data\n",
    "    w = d1[\"LAMBDA\"]\n",
    "    f = d1[\"FLUX\"]\n",
    "    e = d1[\"FERROR\"]\n",
    "    vg = (w>11500) & (w<16000)\n",
    "    plt.errorbar(w[vg],f[vg],e[vg])\n",
    "plt.xlabel(r'Wavelength ($\\AA$)')\n",
    "plt.ylabel(r'Flux ($erg/s/cm^2/\\AA/s$)');"
   ]
  },
  {
   "cell_type": "markdown",
   "metadata": {},
   "source": [
    "<h3>Contamination is not automatically removed but has been estimated and we can plot it"
   ]
  },
  {
   "cell_type": "code",
   "execution_count": null,
   "metadata": {},
   "outputs": [],
   "source": [
    "import glob\n",
    "for s in glob.glob(\"OUTPUT/ib6o2*2.SPC.fits\"):\n",
    "    print (s)\n",
    "    d1 = fits.open(s)[\"BEAM_%dA\" % (ID)].data\n",
    "    w = d1[\"LAMBDA\"]\n",
    "    c = d1[\"CONTAM\"]\n",
    "    vg = (w>11500) & (w<16000)\n",
    "    plt.plot(w[vg],c[vg],label=s)\n",
    "plt.legend()\n",
    "plt.xlabel(r'Wavelength ($\\AA$)')\n",
    "plt.ylabel(r'Flux ($erg/s/cm^2/\\AA/s$)');"
   ]
  },
  {
   "cell_type": "code",
   "execution_count": null,
   "metadata": {},
   "outputs": [],
   "source": []
  }
 ],
 "metadata": {
  "kernelspec": {
   "display_name": "Python 3",
   "language": "python",
   "name": "python3"
  },
  "language_info": {
   "codemirror_mode": {
    "name": "ipython",
    "version": 3
   },
   "file_extension": ".py",
   "mimetype": "text/x-python",
   "name": "python",
   "nbconvert_exporter": "python",
   "pygments_lexer": "ipython3",
   "version": "3.7.10"
  }
 },
 "nbformat": 4,
 "nbformat_minor": 2
}
