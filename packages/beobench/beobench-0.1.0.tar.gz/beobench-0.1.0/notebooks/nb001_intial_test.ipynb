{
 "cells": [
  {
   "cell_type": "code",
   "execution_count": 1,
   "metadata": {},
   "outputs": [],
   "source": [
    "%reload_ext autoreload\n",
    "%autoreload 2\n",
    "%config IPCompleter.greedy=True\n",
    "%config IPCompleter.use_jedi=False"
   ]
  },
  {
   "cell_type": "code",
   "execution_count": 1,
   "metadata": {},
   "outputs": [
    {
     "name": "stdout",
     "output_type": "stream",
     "text": [
      "docker stop boptest_bestest_hydronic_heat_pump\n",
      "boptest_bestest_hydronic_heat_pump\n",
      "caa6ae6ec6ac4443f9d36c227caec73d77587e0ad916ceebecc52a78bc5deb33\n"
     ]
    },
    {
     "name": "stderr",
     "output_type": "stream",
     "text": [
      "/usr/local/lib/python3.7/site-packages/gym/logger.py:34: UserWarning: \u001b[33mWARN: Box bound precision lowered by casting to float32\u001b[0m\n",
      "  warnings.warn(colorize(\"%s: %s\" % (\"WARN\", msg % args), \"yellow\"))\n"
     ]
    }
   ],
   "source": [
    "import beobench.boptest\n",
    "import boptest_gym\n",
    "\n",
    "TESTCASE = \"bestest_hydronic_heat_pump\"\n",
    "#url = beobench.boptest.run_testcase(\"testcase3\", local_port=5001)\n",
    "beobench.boptest.stop_testcase(TESTCASE)\n",
    "\n",
    "url = beobench.boptest.run_testcase(TESTCASE, local_port=5001)\n",
    "env = boptest_gym.BoptestGymEnv(url = url,\n",
    "                    actions = ['oveHeaPumY_u'],\n",
    "                    observations = {'reaTZon_y':(280.,310.)}, \n",
    "                    random_start_time = True,\n",
    "                    max_episode_length = 24*3600,\n",
    "                    warmup_period = 10,\n",
    "                    step_period = 900)\n",
    "\n",
    "# Add wrappers to normalize state and action spaces (Optional)\n",
    "env = boptest_gym.core.NormalizedObservationWrapper(env)\n",
    "env = boptest_gym.core.NormalizedActionWrapper(env)"
   ]
  },
  {
   "cell_type": "code",
   "execution_count": 4,
   "metadata": {},
   "outputs": [
    {
     "data": {
      "text/plain": [
       "{'weaSta_reaWeaPAtm_y': {'Minimum': None,\n",
       "  'Description': 'Atmospheric pressure measurement',\n",
       "  'Unit': 'Pa',\n",
       "  'Maximum': None},\n",
       " 'reaPFan_y': {'Minimum': None,\n",
       "  'Description': 'Electrical power of the heat pump evaporator fan',\n",
       "  'Unit': 'W',\n",
       "  'Maximum': None},\n",
       " 'reaQHeaPumCon_y': {'Minimum': None,\n",
       "  'Description': 'Heat pump thermal power exchanged in the condenser',\n",
       "  'Unit': 'W',\n",
       "  'Maximum': None},\n",
       " 'reaTRet_y': {'Minimum': None,\n",
       "  'Description': 'Return water temperature from radiant floor',\n",
       "  'Unit': 'K',\n",
       "  'Maximum': None},\n",
       " 'weaSta_reaWeaNOpa_y': {'Minimum': None,\n",
       "  'Description': 'Opaque sky cover measurement',\n",
       "  'Unit': '1',\n",
       "  'Maximum': None},\n",
       " 'weaSta_reaWeaTBlaSky_y': {'Minimum': None,\n",
       "  'Description': 'Black-body sky temperature measurement',\n",
       "  'Unit': 'K',\n",
       "  'Maximum': None},\n",
       " 'reaQHeaPumEva_y': {'Minimum': None,\n",
       "  'Description': 'Heat pump thermal power exchanged in the evaporator',\n",
       "  'Unit': 'W',\n",
       "  'Maximum': None},\n",
       " 'weaSta_reaWeaNTot_y': {'Minimum': None,\n",
       "  'Description': 'Sky cover measurement',\n",
       "  'Unit': '1',\n",
       "  'Maximum': None},\n",
       " 'weaSta_reaWeaSolAlt_y': {'Minimum': None,\n",
       "  'Description': 'Solar altitude angle measurement',\n",
       "  'Unit': 'rad',\n",
       "  'Maximum': None},\n",
       " 'reaPum_y': {'Minimum': None,\n",
       "  'Description': 'Control signal for emission cirquit pump',\n",
       "  'Unit': '1',\n",
       "  'Maximum': None},\n",
       " 'reaTZon_y': {'Minimum': None,\n",
       "  'Description': 'Zone operative temperature',\n",
       "  'Unit': 'K',\n",
       "  'Maximum': None},\n",
       " 'weaSta_reaWeaHHorIR_y': {'Minimum': None,\n",
       "  'Description': 'Horizontal infrared irradiation measurement',\n",
       "  'Unit': 'W/m2',\n",
       "  'Maximum': None},\n",
       " 'weaSta_reaWeaLon_y': {'Minimum': None,\n",
       "  'Description': 'Longitude of the location',\n",
       "  'Unit': 'rad',\n",
       "  'Maximum': None},\n",
       " 'reaHeaPumY_y': {'Minimum': None,\n",
       "  'Description': 'Block for reading the heat pump modulating signal',\n",
       "  'Unit': '1',\n",
       "  'Maximum': None},\n",
       " 'weaSta_reaWeaSolTim_y': {'Minimum': None,\n",
       "  'Description': 'Solar time',\n",
       "  'Unit': 's',\n",
       "  'Maximum': None},\n",
       " 'weaSta_reaWeaCloTim_y': {'Minimum': None,\n",
       "  'Description': 'Day number with units of seconds',\n",
       "  'Unit': 's',\n",
       "  'Maximum': None},\n",
       " 'reaPPumEmi_y': {'Minimum': None,\n",
       "  'Description': 'Emission circuit pump electrical power',\n",
       "  'Unit': 'W',\n",
       "  'Maximum': None},\n",
       " 'weaSta_reaWeaHGloHor_y': {'Minimum': None,\n",
       "  'Description': 'Global horizontal solar irradiation measurement',\n",
       "  'Unit': 'W/m2',\n",
       "  'Maximum': None},\n",
       " 'weaSta_reaWeaRelHum_y': {'Minimum': None,\n",
       "  'Description': 'Outside relative humidity measurement',\n",
       "  'Unit': '1',\n",
       "  'Maximum': None},\n",
       " 'reaTSetHea_y': {'Minimum': None,\n",
       "  'Description': 'Zone operative temperature setpoint for heating',\n",
       "  'Unit': 'K',\n",
       "  'Maximum': None},\n",
       " 'reaFan_y': {'Minimum': None,\n",
       "  'Description': 'Control signal for fan',\n",
       "  'Unit': '1',\n",
       "  'Maximum': None},\n",
       " 'reaTSet_y': {'Minimum': None,\n",
       "  'Description': 'Zone operative temperature setpoint',\n",
       "  'Unit': 'K',\n",
       "  'Maximum': None},\n",
       " 'reaCO2RooAir_y': {'Minimum': None,\n",
       "  'Description': 'CO2 concentration in the zone',\n",
       "  'Unit': 'ppm',\n",
       "  'Maximum': None},\n",
       " 'weaSta_reaWeaSolDec_y': {'Minimum': None,\n",
       "  'Description': 'Solar declination angle measurement',\n",
       "  'Unit': 'rad',\n",
       "  'Maximum': None},\n",
       " 'reaPHeaPum_y': {'Minimum': None,\n",
       "  'Description': 'Heat pump electrical power',\n",
       "  'Unit': 'W',\n",
       "  'Maximum': None},\n",
       " 'weaSta_reaWeaHDirNor_y': {'Minimum': None,\n",
       "  'Description': 'Direct normal radiation measurement',\n",
       "  'Unit': 'W/m2',\n",
       "  'Maximum': None},\n",
       " 'reaTSetCoo_y': {'Minimum': None,\n",
       "  'Description': 'Zone operative temperature setpoint for cooling',\n",
       "  'Unit': 'K',\n",
       "  'Maximum': None},\n",
       " 'weaSta_reaWeaWinDir_y': {'Minimum': None,\n",
       "  'Description': 'Wind direction measurement',\n",
       "  'Unit': 'rad',\n",
       "  'Maximum': None},\n",
       " 'reaTSup_y': {'Minimum': None,\n",
       "  'Description': 'Supply water temperature to radiant floor',\n",
       "  'Unit': 'K',\n",
       "  'Maximum': None},\n",
       " 'weaSta_reaWeaSolZen_y': {'Minimum': None,\n",
       "  'Description': 'Solar zenith angle measurement',\n",
       "  'Unit': 'rad',\n",
       "  'Maximum': None},\n",
       " 'reaQFloHea_y': {'Minimum': None,\n",
       "  'Description': 'Floor heating thermal power released to the zone',\n",
       "  'Unit': 'W',\n",
       "  'Maximum': None},\n",
       " 'reaCOP_y': {'Minimum': None,\n",
       "  'Description': 'Heat pump COP',\n",
       "  'Unit': '1',\n",
       "  'Maximum': None},\n",
       " 'weaSta_reaWeaTDryBul_y': {'Minimum': None,\n",
       "  'Description': 'Outside drybulb temperature measurement',\n",
       "  'Unit': 'K',\n",
       "  'Maximum': None},\n",
       " 'weaSta_reaWeaTWetBul_y': {'Minimum': None,\n",
       "  'Description': 'Wet bulb temperature measurement',\n",
       "  'Unit': 'K',\n",
       "  'Maximum': None},\n",
       " 'weaSta_reaWeaTDewPoi_y': {'Minimum': None,\n",
       "  'Description': 'Dew point temperature measurement',\n",
       "  'Unit': 'K',\n",
       "  'Maximum': None},\n",
       " 'weaSta_reaWeaWinSpe_y': {'Minimum': None,\n",
       "  'Description': 'Wind speed measurement',\n",
       "  'Unit': 'm/s',\n",
       "  'Maximum': None},\n",
       " 'weaSta_reaWeaHDifHor_y': {'Minimum': None,\n",
       "  'Description': 'Horizontal diffuse solar radiation measurement',\n",
       "  'Unit': 'W/m2',\n",
       "  'Maximum': None},\n",
       " 'weaSta_reaWeaLat_y': {'Minimum': None,\n",
       "  'Description': 'Latitude of the location',\n",
       "  'Unit': 'rad',\n",
       "  'Maximum': None},\n",
       " 'weaSta_reaWeaCeiHei_y': {'Minimum': None,\n",
       "  'Description': 'Cloud cover ceiling height measurement',\n",
       "  'Unit': 'm',\n",
       "  'Maximum': None},\n",
       " 'weaSta_reaWeaSolHouAng_y': {'Minimum': None,\n",
       "  'Description': 'Solar hour angle measurement',\n",
       "  'Unit': 'rad',\n",
       "  'Maximum': None}}"
      ]
     },
     "execution_count": 4,
     "metadata": {},
     "output_type": "execute_result"
    }
   ],
   "source": [
    "import requests\n",
    "requests.get(f'http://127.0.0.1:5001/measurements').json()"
   ]
  },
  {
   "cell_type": "code",
   "execution_count": 4,
   "metadata": {},
   "outputs": [
    {
     "data": {
      "text/plain": [
       "(array([-0.15090126], dtype=float32), -0.3125627420526312, False, {})"
      ]
     },
     "execution_count": 4,
     "metadata": {},
     "output_type": "execute_result"
    }
   ],
   "source": [
    "env.reset()\n",
    "env.step(0)"
   ]
  },
  {
   "cell_type": "code",
   "execution_count": null,
   "metadata": {},
   "outputs": [],
   "source": []
  }
 ],
 "metadata": {
  "interpreter": {
   "hash": "191e4cf9e2a3aa63280ffa5cdbe1e7f3f7516329c8199c5b4077a78ab74895f8"
  },
  "kernelspec": {
   "display_name": "Python 3.9.7 64-bit (conda)",
   "name": "python3"
  },
  "language_info": {
   "codemirror_mode": {
    "name": "ipython",
    "version": 3
   },
   "file_extension": ".py",
   "mimetype": "text/x-python",
   "name": "python",
   "nbconvert_exporter": "python",
   "pygments_lexer": "ipython3",
   "version": "3.7.12"
  },
  "orig_nbformat": 4
 },
 "nbformat": 4,
 "nbformat_minor": 2
}
