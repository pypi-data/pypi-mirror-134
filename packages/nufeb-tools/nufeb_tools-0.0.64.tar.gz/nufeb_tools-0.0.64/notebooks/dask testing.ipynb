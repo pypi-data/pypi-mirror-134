{
 "cells": [
  {
   "cell_type": "code",
   "execution_count": 1,
   "source": [
    "from nufeb_tools import utils,plot\r\n",
    "from scipy.integrate import odeint\r\n",
    "import numpy as np\r\n",
    "import pandas as pd\r\n",
    "from itertools import combinations\r\n",
    "import seaborn as sns\r\n",
    "import matplotlib.pyplot as plt\r\n",
    "from scipy.signal import find_peaks\r\n",
    "from scipy.optimize import curve_fit\r\n",
    "import time\r\n",
    "from tqdm import tqdm\r\n",
    "import h5py"
   ],
   "outputs": [],
   "metadata": {}
  },
  {
   "cell_type": "code",
   "execution_count": 2,
   "source": [
    "x = utils.get_data(directory=r'D:\\runs\\Run_33_66_72_1_2021-06-24')"
   ],
   "outputs": [],
   "metadata": {}
  },
  {
   "cell_type": "code",
   "execution_count": 3,
   "source": [
    "x.positions"
   ],
   "outputs": [
    {
     "output_type": "execute_result",
     "data": {
      "text/plain": [
       "         Timestep     ID  type        radius         x         y         z  \\\n",
       "0               0     95     2  4.450000e-07  0.000025  0.000018  0.000002   \n",
       "1               0     11     1  9.600000e-07  0.000097  0.000027  0.000004   \n",
       "2               0      9     1  9.550000e-07  0.000193  0.000002  0.000005   \n",
       "3               0     85     2  4.845000e-07  0.000213  0.000014  0.000005   \n",
       "4               0     75     2  4.795000e-07  0.000125  0.000060  0.000005   \n",
       "...           ...    ...   ...           ...       ...       ...       ...   \n",
       "1509472     35000  23090     2  4.200998e-07  0.000369  0.000451  0.000010   \n",
       "1509473     35000   5557     2  4.937473e-07  0.000368  0.000452  0.000010   \n",
       "1509474     35000  31029     2  4.517007e-07  0.000368  0.000452  0.000010   \n",
       "1509475     35000  35847     2  4.201434e-07  0.000370  0.000452  0.000010   \n",
       "1509476     35000  44184     2  4.176197e-07  0.000368  0.000452  0.000010   \n",
       "\n",
       "             biomass       time  \n",
       "0          87.112534   0.000000  \n",
       "1        1371.210192   0.000000  \n",
       "2        1349.896428   0.000000  \n",
       "3         112.429934   0.000000  \n",
       "4         108.984929   0.000000  \n",
       "...              ...        ...  \n",
       "1509472    73.292227  97.222222  \n",
       "1509473   118.991185  97.222222  \n",
       "1509474    91.107271  97.222222  \n",
       "1509475    73.315084  97.222222  \n",
       "1509476    72.001839  97.222222  \n",
       "\n",
       "[1509477 rows x 9 columns]"
      ],
      "text/html": [
       "<div>\n",
       "<style scoped>\n",
       "    .dataframe tbody tr th:only-of-type {\n",
       "        vertical-align: middle;\n",
       "    }\n",
       "\n",
       "    .dataframe tbody tr th {\n",
       "        vertical-align: top;\n",
       "    }\n",
       "\n",
       "    .dataframe thead th {\n",
       "        text-align: right;\n",
       "    }\n",
       "</style>\n",
       "<table border=\"1\" class=\"dataframe\">\n",
       "  <thead>\n",
       "    <tr style=\"text-align: right;\">\n",
       "      <th></th>\n",
       "      <th>Timestep</th>\n",
       "      <th>ID</th>\n",
       "      <th>type</th>\n",
       "      <th>radius</th>\n",
       "      <th>x</th>\n",
       "      <th>y</th>\n",
       "      <th>z</th>\n",
       "      <th>biomass</th>\n",
       "      <th>time</th>\n",
       "    </tr>\n",
       "  </thead>\n",
       "  <tbody>\n",
       "    <tr>\n",
       "      <th>0</th>\n",
       "      <td>0</td>\n",
       "      <td>95</td>\n",
       "      <td>2</td>\n",
       "      <td>4.450000e-07</td>\n",
       "      <td>0.000025</td>\n",
       "      <td>0.000018</td>\n",
       "      <td>0.000002</td>\n",
       "      <td>87.112534</td>\n",
       "      <td>0.000000</td>\n",
       "    </tr>\n",
       "    <tr>\n",
       "      <th>1</th>\n",
       "      <td>0</td>\n",
       "      <td>11</td>\n",
       "      <td>1</td>\n",
       "      <td>9.600000e-07</td>\n",
       "      <td>0.000097</td>\n",
       "      <td>0.000027</td>\n",
       "      <td>0.000004</td>\n",
       "      <td>1371.210192</td>\n",
       "      <td>0.000000</td>\n",
       "    </tr>\n",
       "    <tr>\n",
       "      <th>2</th>\n",
       "      <td>0</td>\n",
       "      <td>9</td>\n",
       "      <td>1</td>\n",
       "      <td>9.550000e-07</td>\n",
       "      <td>0.000193</td>\n",
       "      <td>0.000002</td>\n",
       "      <td>0.000005</td>\n",
       "      <td>1349.896428</td>\n",
       "      <td>0.000000</td>\n",
       "    </tr>\n",
       "    <tr>\n",
       "      <th>3</th>\n",
       "      <td>0</td>\n",
       "      <td>85</td>\n",
       "      <td>2</td>\n",
       "      <td>4.845000e-07</td>\n",
       "      <td>0.000213</td>\n",
       "      <td>0.000014</td>\n",
       "      <td>0.000005</td>\n",
       "      <td>112.429934</td>\n",
       "      <td>0.000000</td>\n",
       "    </tr>\n",
       "    <tr>\n",
       "      <th>4</th>\n",
       "      <td>0</td>\n",
       "      <td>75</td>\n",
       "      <td>2</td>\n",
       "      <td>4.795000e-07</td>\n",
       "      <td>0.000125</td>\n",
       "      <td>0.000060</td>\n",
       "      <td>0.000005</td>\n",
       "      <td>108.984929</td>\n",
       "      <td>0.000000</td>\n",
       "    </tr>\n",
       "    <tr>\n",
       "      <th>...</th>\n",
       "      <td>...</td>\n",
       "      <td>...</td>\n",
       "      <td>...</td>\n",
       "      <td>...</td>\n",
       "      <td>...</td>\n",
       "      <td>...</td>\n",
       "      <td>...</td>\n",
       "      <td>...</td>\n",
       "      <td>...</td>\n",
       "    </tr>\n",
       "    <tr>\n",
       "      <th>1509472</th>\n",
       "      <td>35000</td>\n",
       "      <td>23090</td>\n",
       "      <td>2</td>\n",
       "      <td>4.200998e-07</td>\n",
       "      <td>0.000369</td>\n",
       "      <td>0.000451</td>\n",
       "      <td>0.000010</td>\n",
       "      <td>73.292227</td>\n",
       "      <td>97.222222</td>\n",
       "    </tr>\n",
       "    <tr>\n",
       "      <th>1509473</th>\n",
       "      <td>35000</td>\n",
       "      <td>5557</td>\n",
       "      <td>2</td>\n",
       "      <td>4.937473e-07</td>\n",
       "      <td>0.000368</td>\n",
       "      <td>0.000452</td>\n",
       "      <td>0.000010</td>\n",
       "      <td>118.991185</td>\n",
       "      <td>97.222222</td>\n",
       "    </tr>\n",
       "    <tr>\n",
       "      <th>1509474</th>\n",
       "      <td>35000</td>\n",
       "      <td>31029</td>\n",
       "      <td>2</td>\n",
       "      <td>4.517007e-07</td>\n",
       "      <td>0.000368</td>\n",
       "      <td>0.000452</td>\n",
       "      <td>0.000010</td>\n",
       "      <td>91.107271</td>\n",
       "      <td>97.222222</td>\n",
       "    </tr>\n",
       "    <tr>\n",
       "      <th>1509475</th>\n",
       "      <td>35000</td>\n",
       "      <td>35847</td>\n",
       "      <td>2</td>\n",
       "      <td>4.201434e-07</td>\n",
       "      <td>0.000370</td>\n",
       "      <td>0.000452</td>\n",
       "      <td>0.000010</td>\n",
       "      <td>73.315084</td>\n",
       "      <td>97.222222</td>\n",
       "    </tr>\n",
       "    <tr>\n",
       "      <th>1509476</th>\n",
       "      <td>35000</td>\n",
       "      <td>44184</td>\n",
       "      <td>2</td>\n",
       "      <td>4.176197e-07</td>\n",
       "      <td>0.000368</td>\n",
       "      <td>0.000452</td>\n",
       "      <td>0.000010</td>\n",
       "      <td>72.001839</td>\n",
       "      <td>97.222222</td>\n",
       "    </tr>\n",
       "  </tbody>\n",
       "</table>\n",
       "<p>1509477 rows × 9 columns</p>\n",
       "</div>"
      ]
     },
     "metadata": {},
     "execution_count": 3
    }
   ],
   "metadata": {}
  },
  {
   "cell_type": "code",
   "execution_count": 4,
   "source": [
    "def collect(time,df=x.positions):\r\n",
    "    fitness = pd.DataFrame(columns=['ID','Fitness'])\r\n",
    "    for cell in tqdm(df[(df.Timestep==time)].ID):\r\n",
    "        fitness = fitness.append(pd.DataFrame([[cell,x.get_fitness2(time,cell)]],columns=['ID','Fitness']),ignore_index=True)\r\n",
    "    return fitness\r\n",
    "#fit = collect(x,30000)"
   ],
   "outputs": [],
   "metadata": {}
  },
  {
   "cell_type": "code",
   "execution_count": 5,
   "source": [
    "def collect(x,time):\r\n",
    "    temp = x.positions\r\n",
    "    IDs = temp[(temp.Timestep==time)].ID\r\n",
    "    fits = [x.get_fitness2(time,cell) for cell in tqdm(IDs)]\r\n",
    "\r\n",
    "    return IDs,fits\r\n",
    "#IDs,fits = collect(x,30000)\r\n",
    "#pd.DataFrame([IDs.values,fits]).T"
   ],
   "outputs": [],
   "metadata": {}
  },
  {
   "cell_type": "code",
   "execution_count": 6,
   "source": [
    "from dask import delayed\r\n",
    "import dask.multiprocessing\r\n",
    "dask.config.set(scheduler='processes',num_workers=8)"
   ],
   "outputs": [
    {
     "output_type": "execute_result",
     "data": {
      "text/plain": [
       "<dask.config.set at 0x1ce73a010a0>"
      ]
     },
     "metadata": {},
     "execution_count": 6
    }
   ],
   "metadata": {}
  },
  {
   "cell_type": "code",
   "execution_count": 11,
   "source": [
    "#fits = delayed(x.collect_fitness)()\r\n",
    "#fits.compute()"
   ],
   "outputs": [],
   "metadata": {}
  },
  {
   "cell_type": "code",
   "execution_count": 8,
   "source": [
    "#x.collect_fitness()"
   ],
   "outputs": [],
   "metadata": {}
  },
  {
   "cell_type": "code",
   "execution_count": 9,
   "source": [
    "time = 100\r\n",
    "cell = 5"
   ],
   "outputs": [],
   "metadata": {}
  },
  {
   "cell_type": "code",
   "execution_count": 10,
   "source": [
    "pd.DataFrame([[time,cell,x.get_fitness2(time,cell)]],columns=['Time','ID','Fitness'])"
   ],
   "outputs": [
    {
     "output_type": "execute_result",
     "data": {
      "text/plain": [
       "   Time  ID   Fitness\n",
       "0   100   5  0.000017"
      ],
      "text/html": [
       "<div>\n",
       "<style scoped>\n",
       "    .dataframe tbody tr th:only-of-type {\n",
       "        vertical-align: middle;\n",
       "    }\n",
       "\n",
       "    .dataframe tbody tr th {\n",
       "        vertical-align: top;\n",
       "    }\n",
       "\n",
       "    .dataframe thead th {\n",
       "        text-align: right;\n",
       "    }\n",
       "</style>\n",
       "<table border=\"1\" class=\"dataframe\">\n",
       "  <thead>\n",
       "    <tr style=\"text-align: right;\">\n",
       "      <th></th>\n",
       "      <th>Time</th>\n",
       "      <th>ID</th>\n",
       "      <th>Fitness</th>\n",
       "    </tr>\n",
       "  </thead>\n",
       "  <tbody>\n",
       "    <tr>\n",
       "      <th>0</th>\n",
       "      <td>100</td>\n",
       "      <td>5</td>\n",
       "      <td>0.000017</td>\n",
       "    </tr>\n",
       "  </tbody>\n",
       "</table>\n",
       "</div>"
      ]
     },
     "metadata": {},
     "execution_count": 10
    }
   ],
   "metadata": {}
  }
 ],
 "metadata": {
  "interpreter": {
   "hash": "ad83f9823ec1006230c1c1909825ce23275cb4a37a654d29b6aefb91475fc102"
  },
  "kernelspec": {
   "display_name": "Python 3.9.5 64-bit ('nufeb': conda)",
   "name": "nufeb"
  },
  "language_info": {
   "codemirror_mode": {
    "name": "ipython",
    "version": 3
   },
   "file_extension": ".py",
   "mimetype": "text/x-python",
   "name": "python",
   "nbconvert_exporter": "python",
   "pygments_lexer": "ipython3",
   "version": "3.9.5"
  },
  "orig_nbformat": 4
 },
 "nbformat": 4,
 "nbformat_minor": 2
}