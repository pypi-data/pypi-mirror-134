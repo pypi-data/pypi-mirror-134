{
 "cells": [
  {
   "cell_type": "markdown",
   "id": "3d64328b",
   "metadata": {},
   "source": [
    "# Simulating logic gates using `crysx_nn`"
   ]
  },
  {
   "cell_type": "markdown",
   "id": "564ace64",
   "metadata": {},
   "source": [
    "## Run the following for Google colab \n",
    "then restart runtime"
   ]
  },
  {
   "cell_type": "code",
   "execution_count": null,
   "id": "62868709",
   "metadata": {},
   "outputs": [],
   "source": [
    "! pip install --upgrade --no-cache-dir https://github.com/manassharma07/crysx_nn/tarball/main\n",
    "! pip install IPython==7.7.0"
   ]
  },
  {
   "cell_type": "code",
   "execution_count": 1,
   "id": "8425c979",
   "metadata": {},
   "outputs": [],
   "source": [
    "import numpy as np\n",
    "import matplotlib.pyplot as plt"
   ]
  },
  {
   "cell_type": "markdown",
   "id": "1e04ce91",
   "metadata": {},
   "source": [
    "## Define some network parameters that we will be using to initialize the model"
   ]
  },
  {
   "cell_type": "code",
   "execution_count": 2,
   "id": "a25ad560",
   "metadata": {},
   "outputs": [],
   "source": [
    "nInputs = 2 # No. of nodes in the input layer\n",
    "neurons_per_layer = [3, 1] # Neurons per layer (excluding the input layer)\n",
    "activation_func_names = ['Tanh_offset', 'Tanh_offset']\n",
    "nLayers = len(neurons_per_layer)\n",
    "nEpochs=10**4\n",
    "batchSize = 4 # No. of input samples to process at a time for optimization"
   ]
  },
  {
   "cell_type": "markdown",
   "id": "4a176812",
   "metadata": {},
   "source": [
    "## Create the neural network model"
   ]
  },
  {
   "cell_type": "code",
   "execution_count": 3,
   "id": "a827fb77",
   "metadata": {},
   "outputs": [
    {
     "name": "stderr",
     "output_type": "stream",
     "text": [
      "C:\\Users\\manas\\anaconda3\\envs\\crysx_nn\\lib\\site-packages\\crysx_nn\\network.py:13: TqdmExperimentalWarning: Using `tqdm.autonotebook.tqdm` in notebook mode. Use `tqdm.tqdm` instead to force console mode (e.g. in jupyter console)\n",
      "  from tqdm.autonotebook import tqdm\n"
     ]
    },
    {
     "name": "stdout",
     "output_type": "stream",
     "text": [
      "Note: The model will use the following device for all the computations:  CPU\n"
     ]
    }
   ],
   "source": [
    "from crysx_nn import network\n",
    "model = network.nn_model(nInputs=nInputs, neurons_per_layer=neurons_per_layer, activation_func_names=activation_func_names, batch_size=batchSize, device='CPU', init_method='Xavier') "
   ]
  },
  {
   "cell_type": "markdown",
   "id": "205fc22f",
   "metadata": {},
   "source": [
    "## Check the details of the model for confirmation"
   ]
  },
  {
   "cell_type": "code",
   "execution_count": 4,
   "id": "e6d82295",
   "metadata": {},
   "outputs": [
    {
     "name": "stdout",
     "output_type": "stream",
     "text": [
      "----------------------------------------------------------------------------------\n",
      "****Neural Network Model Details****\n",
      "----------------------------------------------------------------------------------\n",
      "Number of input nodes:  2\n",
      "Number of layers (hidden+output):  2\n",
      "Number of nodes in each layer (hidden & output):  [3, 1]\n",
      "Activation function for each layer (hidden & output):   ['Tanh_offset', 'Tanh_offset']\n",
      "Method used for weights and biases initialization:   Xavier\n",
      "Batch Size:  4\n",
      "Device:  CPU\n",
      "Optimization method:  SGD\n",
      "Learning rate:  0.5\n",
      "----------------------------------------------------------------------------------\n"
     ]
    }
   ],
   "source": [
    "model.details()"
   ]
  },
  {
   "cell_type": "markdown",
   "id": "0932dc0b",
   "metadata": {},
   "source": [
    "## Visualize the network"
   ]
  },
  {
   "cell_type": "code",
   "execution_count": 5,
   "id": "da6fc156",
   "metadata": {},
   "outputs": [
    {
     "data": {
      "image/png": "[encoded data removed]",
      "text/plain": [
       "<Figure size 1008x720 with 1 Axes>"
      ]
     },
     "metadata": {
      "needs_background": "light"
     },
     "output_type": "display_data"
    }
   ],
   "source": [
    "model.visualize()"
   ]
  },
  {
   "cell_type": "markdown",
   "id": "e922de53",
   "metadata": {},
   "source": [
    "## Initial Weights and Biases being used by the network"
   ]
  },
  {
   "cell_type": "code",
   "execution_count": 6,
   "id": "8d78df85",
   "metadata": {},
   "outputs": [
    {
     "name": "stdout",
     "output_type": "stream",
     "text": [
      "Initial Weights:\n",
      " [array([[-0.27237922, -0.47105235],\n",
      "       [-0.33306262, -0.00656199],\n",
      "       [ 0.4687743 , -0.22776012]], dtype=float32), array([[-0.5431261 ,  0.30474243, -0.17763016]], dtype=float32)]\n",
      "Initial Biases:\n",
      " [array([0., 0., 0.], dtype=float32), array([0.], dtype=float32)]\n"
     ]
    }
   ],
   "source": [
    "print('Initial Weights:\\n',model.init_weights)\n",
    "print('Initial Biases:\\n',model.init_biases)"
   ]
  },
  {
   "cell_type": "markdown",
   "id": "c5d9a547",
   "metadata": {},
   "source": [
    "## Set the inputs (rows correspond to different set of inputs and columns represent the inputs)"
   ]
  },
  {
   "cell_type": "code",
   "execution_count": 7,
   "id": "72497675",
   "metadata": {},
   "outputs": [
    {
     "name": "stdout",
     "output_type": "stream",
     "text": [
      "[[0. 0.]\n",
      " [0. 1.]\n",
      " [1. 0.]\n",
      " [1. 1.]]\n",
      "float32\n"
     ]
    }
   ],
   "source": [
    "inputs = np.array([[0.,0.,1.,1.],[0.,1.,0.,1.]]).T.astype(np.float32)\n",
    "print(inputs)\n",
    "print(inputs.dtype)"
   ]
  },
  {
   "cell_type": "markdown",
   "id": "885dc2cf",
   "metadata": {},
   "source": [
    "## Outputs for different logic gates"
   ]
  },
  {
   "cell_type": "code",
   "execution_count": 8,
   "id": "b91298a9",
   "metadata": {},
   "outputs": [],
   "source": [
    "# AND function\n",
    "outputAND = np.array([0.,0.,0.,1.])\n",
    "outputAND = np.asarray([outputAND]).T.astype(np.float32)\n",
    "# OR function\n",
    "outputOR = np.array([0.,1.,1.,1.])\n",
    "outputOR = np.asarray([outputOR]).T.astype(np.float32)\n",
    "# NAND function\n",
    "outputNAND = np.array([1.,1.,1.,0.])\n",
    "outputNAND = np.asarray([outputNAND]).T.astype(np.float32)\n",
    "# XOR function\n",
    "outputXOR = np.array([0.,1.,1.,0.])\n",
    "outputXOR = np.asarray([outputXOR]).T.astype(np.float32)"
   ]
  },
  {
   "cell_type": "code",
   "execution_count": 9,
   "id": "f3262298",
   "metadata": {},
   "outputs": [
    {
     "name": "stdout",
     "output_type": "stream",
     "text": [
      "AND outputs\n",
      " [[0.]\n",
      " [0.]\n",
      " [0.]\n",
      " [1.]]\n",
      "OR outputs\n",
      " [[0.]\n",
      " [1.]\n",
      " [1.]\n",
      " [1.]]\n",
      "XOR outputs\n",
      " [[0.]\n",
      " [1.]\n",
      " [1.]\n",
      " [0.]]\n",
      "NAND outputs\n",
      " [[1.]\n",
      " [1.]\n",
      " [1.]\n",
      " [0.]]\n"
     ]
    }
   ],
   "source": [
    "print('AND outputs\\n', outputAND)\n",
    "print('OR outputs\\n', outputOR)\n",
    "print('XOR outputs\\n', outputXOR)\n",
    "print('NAND outputs\\n', outputNAND)"
   ]
  },
  {
   "cell_type": "markdown",
   "id": "9be09302",
   "metadata": {},
   "source": [
    "## You can also reinitialize weights and biases using some other method"
   ]
  },
  {
   "cell_type": "code",
   "execution_count": 10,
   "id": "ee69acc0",
   "metadata": {},
   "outputs": [
    {
     "name": "stdout",
     "output_type": "stream",
     "text": [
      "Initial Weights:\n",
      " [array([[ 1.1307003 , -1.3087877 ],\n",
      "       [ 1.3844239 ,  0.30616888],\n",
      "       [-1.4107655 , -1.575145  ]], dtype=float32), array([[-1.3044468,  1.9078242, -0.4753022]], dtype=float32)]\n",
      "Initial Biases:\n",
      " [array([0., 0., 0.], dtype=float32), array([0.], dtype=float32)]\n"
     ]
    }
   ],
   "source": [
    "model.init_params(method='NormXavier')\n",
    "print('Initial Weights:\\n',model.init_weights)\n",
    "print('Initial Biases:\\n',model.init_biases)"
   ]
  },
  {
   "cell_type": "markdown",
   "id": "96880a85",
   "metadata": {},
   "source": [
    "## You can also define your own custom initial guess and weights\n",
    "\n",
    "For example, for a neural network with 2 nodes in input layer, 3 nodes in hidden layer and 1 node in output layer use the following commented code"
   ]
  },
  {
   "cell_type": "code",
   "execution_count": 11,
   "id": "5a30e194",
   "metadata": {},
   "outputs": [],
   "source": [
    "# # Initial guesses for weights\n",
    "# w1 = 0.30\n",
    "# w2 = 0.55\n",
    "# w3 = 0.20\n",
    "# w4 = 0.45\n",
    "# w5 = 0.50\n",
    "# w6 = 0.35\n",
    "# w7 = 0.15\n",
    "# w8 = 0.40\n",
    "# w9 = 0.25\n",
    "\n",
    "# # Initial guesses for biases\n",
    "# b1 = 0.60\n",
    "# b2 = 0.05\n",
    "\n",
    "# # need to use a list instead of a numpy array, since the \n",
    "# #weight matrices at each layer are not of the same dimensions\n",
    "# weights = [] \n",
    "# # Weights for layer 1 --> 2\n",
    "# weights.append(np.array([[w1,w4],[w2, w5], [w3, w6]]))\n",
    "# # Weights for layer 2 --> 3\n",
    "# weights.append(np.array([[w7, w8, w9]]))\n",
    "# # List of biases at each layer\n",
    "# biases = []\n",
    "# biases.append(np.array([b1,b1,b1]))\n",
    "# biases.append(np.array([b2]))\n",
    "\n",
    "# weightsOriginal = weights\n",
    "# biasesOriginal = biases\n",
    "\n",
    "# print('Weights matrices: ',weights)\n",
    "# print('Biases: ',biases)"
   ]
  },
  {
   "cell_type": "markdown",
   "id": "061878d4",
   "metadata": {},
   "source": [
    "## Train neural network for AND gate\n",
    "We will use the Mean Squared Error loss function (MSE_loss)"
   ]
  },
  {
   "cell_type": "code",
   "execution_count": 12,
   "id": "f235eb69",
   "metadata": {},
   "outputs": [
    {
     "data": {
      "application/vnd.jupyter.widget-view+json": {
       "model_id": "8d823d4a0cad4ab4976192e0ee2f4214",
       "version_major": 2,
       "version_minor": 0
      },
      "text/plain": [
       "  0%|          | 0/10000 [00:00<?, ?it/s]"
      ]
     },
     "metadata": {},
     "output_type": "display_data"
    },
    {
     "name": "stdout",
     "output_type": "stream",
     "text": [
      "Average Error with initial weights and biases: 0.42271436017472297\n"
     ]
    }
   ],
   "source": [
    "\n",
    "# Run optimization\n",
    "model.optimize(inputs, outputAND, lr=0.5,nEpochs=nEpochs,loss_func_name='MSE', miniterEpoch=1, batchProgressBar=False, miniterBatch=100)\n"
   ]
  },
  {
   "cell_type": "markdown",
   "id": "8b25bc07",
   "metadata": {},
   "source": [
    "### Visualize the training loss"
   ]
  },
  {
   "cell_type": "code",
   "execution_count": 13,
   "id": "0c82e25f",
   "metadata": {},
   "outputs": [
    {
     "data": {
      "image/png": "[encoded data removed]",
      "text/plain": [
       "<Figure size 648x432 with 1 Axes>"
      ]
     },
     "metadata": {
      "needs_background": "light"
     },
     "output_type": "display_data"
    }
   ],
   "source": [
    "# Plot the error vs epochs\n",
    "plt.plot(model.errors)\n",
    "plt.yscale('log')\n",
    "plt.show()"
   ]
  },
  {
   "cell_type": "markdown",
   "id": "7b33b211",
   "metadata": {},
   "source": [
    "### Optimized weights and biases"
   ]
  },
  {
   "cell_type": "code",
   "execution_count": 14,
   "id": "ea939b60",
   "metadata": {},
   "outputs": [
    {
     "name": "stdout",
     "output_type": "stream",
     "text": [
      "Optimized Weights:  [array([[ 0.89689505, -2.9354546 ],\n",
      "       [ 2.5178607 ,  0.5506712 ],\n",
      "       [-1.2489262 , -1.1598884 ]], dtype=float32), array([[-3.6232061,  4.2423882, -2.1073623]], dtype=float32)]\n",
      "Optimized Biases:  [array([ 0.27787414, -1.7763829 ,  1.6027387 ], dtype=float32), array([-1.2320949], dtype=float32)]\n"
     ]
    }
   ],
   "source": [
    "# Optimized weights and biases\n",
    "print('Optimized Weights: ', model.weights)\n",
    "print('Optimized Biases: ', model.biases)"
   ]
  },
  {
   "cell_type": "markdown",
   "id": "605cf9f2",
   "metadata": {},
   "source": [
    "### Make predictions using the optimized weights"
   ]
  },
  {
   "cell_type": "code",
   "execution_count": 15,
   "id": "0ccc8430",
   "metadata": {},
   "outputs": [
    {
     "name": "stdout",
     "output_type": "stream",
     "text": [
      "Input:\n",
      " [[0. 0.]\n",
      " [0. 1.]\n",
      " [1. 0.]\n",
      " [1. 1.]]\n",
      "Prediction:\n",
      " [[1.8775463e-05]\n",
      " [8.0776811e-03]\n",
      " [6.7763627e-03]\n",
      " [9.8918998e-01]]\n",
      "Expected Output:\n",
      " [[0.]\n",
      " [0.]\n",
      " [0.]\n",
      " [1.]]\n",
      "New Average Error with optimized weights:\n",
      " 5.700621377346948e-05\n"
     ]
    }
   ],
   "source": [
    "predictions, error = model.predict(inputs, outputAND, loss_func_name='MSE')\n",
    "print('Input:\\n',inputs)\n",
    "print('Prediction:\\n',predictions)\n",
    "print('Expected Output:\\n',outputAND)\n",
    "print('New Average Error with optimized weights:\\n', error)\n"
   ]
  },
  {
   "cell_type": "markdown",
   "id": "dd94a3f0",
   "metadata": {},
   "source": [
    "## Train neural network for NAND gate\n",
    "We will use the Mean Squared Error loss function (MSE_loss)"
   ]
  },
  {
   "cell_type": "markdown",
   "id": "f58a6a5b",
   "metadata": {},
   "source": [
    "## You can reinitialize weights and biases or use the ones optimized for the previous gate for transfer learning"
   ]
  },
  {
   "cell_type": "code",
   "execution_count": 16,
   "id": "6c131627",
   "metadata": {},
   "outputs": [
    {
     "name": "stdout",
     "output_type": "stream",
     "text": [
      "Initial Weights:\n",
      " [array([[-0.09434097,  0.1255047 ],\n",
      "       [-0.45253515, -0.12792434],\n",
      "       [-0.7043653 ,  0.49907452]], dtype=float32), array([[ 0.37827623, -0.44098824, -0.22726107]], dtype=float32)]\n",
      "Initial Biases:\n",
      " [array([0., 0., 0.], dtype=float32), array([0.], dtype=float32)]\n"
     ]
    }
   ],
   "source": [
    "model.init_params()\n",
    "print('Initial Weights:\\n',model.init_weights)\n",
    "print('Initial Biases:\\n',model.init_biases)"
   ]
  },
  {
   "cell_type": "code",
   "execution_count": 17,
   "id": "82b7840f",
   "metadata": {},
   "outputs": [
    {
     "data": {
      "application/vnd.jupyter.widget-view+json": {
       "model_id": "cc69b2dd47e046e586bf6c19d550ffc5",
       "version_major": 2,
       "version_minor": 0
      },
      "text/plain": [
       "  0%|          | 0/10000 [00:00<?, ?it/s]"
      ]
     },
     "metadata": {},
     "output_type": "display_data"
    },
    {
     "name": "stdout",
     "output_type": "stream",
     "text": [
      "Average Error with initial weights and biases: 0.2886341065168381\n"
     ]
    }
   ],
   "source": [
    "\n",
    "# Run optimization\n",
    "model.optimize(inputs, outputNAND, lr=0.5, nEpochs=nEpochs,loss_func_name='MSE', miniterEpoch=1, batchProgressBar=False, miniterBatch=100)\n"
   ]
  },
  {
   "cell_type": "markdown",
   "id": "4ca46cf5",
   "metadata": {},
   "source": [
    "### Visualize the training loss"
   ]
  },
  {
   "cell_type": "code",
   "execution_count": 18,
   "id": "8e90e1e2",
   "metadata": {},
   "outputs": [
    {
     "data": {
      "image/png": "[encoded data removed]",
      "text/plain": [
       "<Figure size 648x432 with 1 Axes>"
      ]
     },
     "metadata": {
      "needs_background": "light"
     },
     "output_type": "display_data"
    }
   ],
   "source": [
    "# Plot the error vs epochs\n",
    "plt.plot(model.errors)\n",
    "plt.yscale('log')\n",
    "plt.show()"
   ]
  },
  {
   "cell_type": "markdown",
   "id": "fa5cb76f",
   "metadata": {},
   "source": [
    "### Optimized weights and biases"
   ]
  },
  {
   "cell_type": "code",
   "execution_count": 19,
   "id": "770846c7",
   "metadata": {},
   "outputs": [
    {
     "name": "stdout",
     "output_type": "stream",
     "text": [
      "Optimized Weights:  [array([[-2.1502495 , -2.3998432 ],\n",
      "       [-0.93700963, -0.6141791 ],\n",
      "       [-1.1899068 ,  0.18910651]], dtype=float32), array([[5.2585807, 1.2161161, 0.5291759]], dtype=float32)]\n",
      "Optimized Biases:  [array([ 3.1702328 ,  0.5182878 , -0.13184388], dtype=float32), array([-2.662787], dtype=float32)]\n"
     ]
    }
   ],
   "source": [
    "# Optimized weights and biases\n",
    "print('Optimized Weights: ', model.weights)\n",
    "print('Optimized Biases: ', model.biases)"
   ]
  },
  {
   "cell_type": "markdown",
   "id": "cfa71972",
   "metadata": {},
   "source": [
    "### Make predictions using the optimized weights"
   ]
  },
  {
   "cell_type": "code",
   "execution_count": 20,
   "id": "0d26c68e",
   "metadata": {},
   "outputs": [
    {
     "name": "stdout",
     "output_type": "stream",
     "text": [
      "Input:\n",
      " [[0. 0.]\n",
      " [0. 1.]\n",
      " [1. 0.]\n",
      " [1. 1.]]\n",
      "Prediction:\n",
      " [[0.99940616]\n",
      " [0.9932767 ]\n",
      " [0.9917262 ]\n",
      " [0.01304379]]\n",
      "Expected Output:\n",
      " [[1.]\n",
      " [1.]\n",
      " [1.]\n",
      " [0.]]\n",
      "New Average Error with optimized weights:\n",
      " 7.103778164463392e-05\n"
     ]
    }
   ],
   "source": [
    "predictions, error = model.predict(inputs, outputNAND, loss_func_name='MSE')\n",
    "print('Input:\\n',inputs)\n",
    "print('Prediction:\\n',predictions)\n",
    "print('Expected Output:\\n',outputNAND)\n",
    "print('New Average Error with optimized weights:\\n', error)\n"
   ]
  },
  {
   "cell_type": "markdown",
   "id": "025b4361",
   "metadata": {},
   "source": [
    "## Train neural network for OR gate\n",
    "We will use the Mean Squared Error loss function (MSE_loss)"
   ]
  },
  {
   "cell_type": "markdown",
   "id": "80bf74da",
   "metadata": {},
   "source": [
    "## You can reinitialize weights and biases or use the ones optimized for the previous gate for transfer learning"
   ]
  },
  {
   "cell_type": "code",
   "execution_count": 21,
   "id": "c7e526e2",
   "metadata": {},
   "outputs": [
    {
     "name": "stdout",
     "output_type": "stream",
     "text": [
      "Initial Weights:\n",
      " [array([[-0.00294765,  0.23568808],\n",
      "       [ 0.319018  ,  0.40998763],\n",
      "       [-0.70081043,  0.6482815 ]], dtype=float32), array([[0.4906308 , 0.24523868, 0.11702461]], dtype=float32)]\n",
      "Initial Biases:\n",
      " [array([0., 0., 0.], dtype=float32), array([0.], dtype=float32)]\n"
     ]
    }
   ],
   "source": [
    "model.init_params()\n",
    "print('Initial Weights:\\n',model.init_weights)\n",
    "print('Initial Biases:\\n',model.init_biases)"
   ]
  },
  {
   "cell_type": "code",
   "execution_count": 22,
   "id": "05f386bc",
   "metadata": {},
   "outputs": [
    {
     "data": {
      "application/vnd.jupyter.widget-view+json": {
       "model_id": "76a7eae4253849e9a19f7dc240942bfa",
       "version_major": 2,
       "version_minor": 0
      },
      "text/plain": [
       "  0%|          | 0/10000 [00:00<?, ?it/s]"
      ]
     },
     "metadata": {},
     "output_type": "display_data"
    },
    {
     "name": "stdout",
     "output_type": "stream",
     "text": [
      "Average Error with initial weights and biases: 0.1753894854336977\n"
     ]
    }
   ],
   "source": [
    "\n",
    "# Run optimization\n",
    "model.optimize(inputs, outputOR, lr=0.5, nEpochs=nEpochs,loss_func_name='MSE', miniterEpoch=1, batchProgressBar=False, miniterBatch=100)\n"
   ]
  },
  {
   "cell_type": "markdown",
   "id": "708ebc97",
   "metadata": {},
   "source": [
    "### Visualize the training loss"
   ]
  },
  {
   "cell_type": "code",
   "execution_count": 23,
   "id": "268cc187",
   "metadata": {},
   "outputs": [
    {
     "data": {
      "image/png": "[encoded data removed]",
      "text/plain": [
       "<Figure size 648x432 with 1 Axes>"
      ]
     },
     "metadata": {
      "needs_background": "light"
     },
     "output_type": "display_data"
    }
   ],
   "source": [
    "# Plot the error vs epochs\n",
    "plt.plot(model.errors)\n",
    "plt.yscale('log')\n",
    "plt.show()"
   ]
  },
  {
   "cell_type": "markdown",
   "id": "3db6437f",
   "metadata": {},
   "source": [
    "### Optimized weights and biases"
   ]
  },
  {
   "cell_type": "code",
   "execution_count": 24,
   "id": "2550afef",
   "metadata": {},
   "outputs": [
    {
     "name": "stdout",
     "output_type": "stream",
     "text": [
      "Optimized Weights:  [array([[ 1.6997052 ,  2.0885415 ],\n",
      "       [ 1.8297576 ,  2.1777308 ],\n",
      "       [-1.1654942 ,  0.03359264]], dtype=float32), array([[ 2.9748297,  3.1724503, -1.3979311]], dtype=float32)]\n",
      "Optimized Biases:  [array([-1.0042561 , -1.0544163 ,  0.68680996], dtype=float32), array([-1.9070308], dtype=float32)]\n"
     ]
    }
   ],
   "source": [
    "# Optimized weights and biases\n",
    "print('Optimized Weights: ', model.weights)\n",
    "print('Optimized Biases: ', model.biases)"
   ]
  },
  {
   "cell_type": "markdown",
   "id": "58703cea",
   "metadata": {},
   "source": [
    "### Make predictions using the optimized weights"
   ]
  },
  {
   "cell_type": "code",
   "execution_count": 25,
   "id": "bacdcc96",
   "metadata": {},
   "outputs": [
    {
     "name": "stdout",
     "output_type": "stream",
     "text": [
      "Input:\n",
      " [[0. 0.]\n",
      " [0. 1.]\n",
      " [1. 0.]\n",
      " [1. 1.]]\n",
      "Prediction:\n",
      " [[0.0094302 ]\n",
      " [0.9933238 ]\n",
      " [0.9955442 ]\n",
      " [0.99951303]]\n",
      "Expected Output:\n",
      " [[0.]\n",
      " [1.]\n",
      " [1.]\n",
      " [1.]]\n",
      "New Average Error with optimized weights:\n",
      " 3.8397902674347506e-05\n"
     ]
    }
   ],
   "source": [
    "predictions, error = model.predict(inputs, outputOR, loss_func_name='MSE')\n",
    "print('Input:\\n',inputs)\n",
    "print('Prediction:\\n',predictions)\n",
    "print('Expected Output:\\n',outputOR)\n",
    "print('New Average Error with optimized weights:\\n', error)\n"
   ]
  },
  {
   "cell_type": "markdown",
   "id": "41614673",
   "metadata": {},
   "source": [
    "## Train neural network for XOR gate\n",
    "We will use the Mean Squared Error loss function (MSE_loss)"
   ]
  },
  {
   "cell_type": "markdown",
   "id": "979fea04",
   "metadata": {},
   "source": [
    "## You can reinitialize weights and biases or use the ones optimized for the previous gate for transfer learning"
   ]
  },
  {
   "cell_type": "code",
   "execution_count": 26,
   "id": "fe673655",
   "metadata": {},
   "outputs": [
    {
     "name": "stdout",
     "output_type": "stream",
     "text": [
      "Initial Weights:\n",
      " [array([[ 0.46584165, -0.268446  ],\n",
      "       [-0.22968236,  0.46876493],\n",
      "       [-0.19580884,  0.5032269 ]], dtype=float32), array([[ 0.4669477 ,  0.09741905, -0.00350301]], dtype=float32)]\n",
      "Initial Biases:\n",
      " [array([0., 0., 0.], dtype=float32), array([0.], dtype=float32)]\n"
     ]
    }
   ],
   "source": [
    "model.init_params()\n",
    "print('Initial Weights:\\n',model.init_weights)\n",
    "print('Initial Biases:\\n',model.init_biases)"
   ]
  },
  {
   "cell_type": "code",
   "execution_count": 27,
   "id": "6f7d4d6a",
   "metadata": {},
   "outputs": [
    {
     "data": {
      "application/vnd.jupyter.widget-view+json": {
       "model_id": "56b1c5a724cb4fe997c34ac0d6833c18",
       "version_major": 2,
       "version_minor": 0
      },
      "text/plain": [
       "  0%|          | 0/10000 [00:00<?, ?it/s]"
      ]
     },
     "metadata": {},
     "output_type": "display_data"
    },
    {
     "name": "stdout",
     "output_type": "stream",
     "text": [
      "Average Error with initial weights and biases: 0.27354753762483597\n"
     ]
    }
   ],
   "source": [
    "\n",
    "# Run optimization\n",
    "model.optimize(inputs, outputXOR, lr=0.5, nEpochs=nEpochs,loss_func_name='MSE', miniterEpoch=1, batchProgressBar=False, miniterBatch=100)\n"
   ]
  },
  {
   "cell_type": "markdown",
   "id": "d5968459",
   "metadata": {},
   "source": [
    "### Visualize the training loss"
   ]
  },
  {
   "cell_type": "code",
   "execution_count": 28,
   "id": "3d179c16",
   "metadata": {},
   "outputs": [
    {
     "data": {
      "image/png": "[encoded data removed]",
      "text/plain": [
       "<Figure size 648x432 with 1 Axes>"
      ]
     },
     "metadata": {
      "needs_background": "light"
     },
     "output_type": "display_data"
    }
   ],
   "source": [
    "# Plot the error vs epochs\n",
    "plt.plot(model.errors)\n",
    "plt.yscale('log')\n",
    "plt.show()"
   ]
  },
  {
   "cell_type": "markdown",
   "id": "25cb08b9",
   "metadata": {},
   "source": [
    "### Optimized weights and biases"
   ]
  },
  {
   "cell_type": "code",
   "execution_count": 29,
   "id": "31d4bfa6",
   "metadata": {},
   "outputs": [
    {
     "name": "stdout",
     "output_type": "stream",
     "text": [
      "Optimized Weights:  [array([[ 3.1137862 , -3.1390915 ],\n",
      "       [-3.0763521 ,  3.0326092 ],\n",
      "       [-0.33211198,  0.6066348 ]], dtype=float32), array([[ 4.9735923,  5.206249 , -0.6460664]], dtype=float32)]\n",
      "Optimized Biases:  [array([-1.7277296 , -1.65821   ,  0.34298766], dtype=float32), array([-2.0870354], dtype=float32)]\n"
     ]
    }
   ],
   "source": [
    "# Optimized weights and biases\n",
    "print('Optimized Weights: ', model.weights)\n",
    "print('Optimized Biases: ', model.biases)"
   ]
  },
  {
   "cell_type": "markdown",
   "id": "f9d62182",
   "metadata": {},
   "source": [
    "### Make predictions using the optimized weights"
   ]
  },
  {
   "cell_type": "code",
   "execution_count": 30,
   "id": "58de2485",
   "metadata": {},
   "outputs": [
    {
     "name": "stdout",
     "output_type": "stream",
     "text": [
      "Input:\n",
      " [[0. 0.]\n",
      " [0. 1.]\n",
      " [1. 0.]\n",
      " [1. 1.]]\n",
      "Prediction:\n",
      " [[0.01256225]\n",
      " [0.9888902 ]\n",
      " [0.9893915 ]\n",
      " [0.01045451]]\n",
      "Expected Output:\n",
      " [[0.]\n",
      " [1.]\n",
      " [1.]\n",
      " [0.]]\n",
      "New Average Error with optimized weights:\n",
      " 0.00012576878725667484\n"
     ]
    }
   ],
   "source": [
    "predictions, error = model.predict(inputs, outputXOR, loss_func_name='MSE')\n",
    "print('Input:\\n',inputs)\n",
    "print('Prediction:\\n',predictions)\n",
    "print('Expected Output:\\n',outputXOR)\n",
    "print('New Average Error with optimized weights:\\n', error)\n"
   ]
  }
 ],
 "metadata": {
  "kernelspec": {
   "display_name": "Python 3 (ipykernel)",
   "language": "python",
   "name": "python3"
  },
  "language_info": {
   "codemirror_mode": {
    "name": "ipython",
    "version": 3
   },
   "file_extension": ".py",
   "mimetype": "text/x-python",
   "name": "python",
   "nbconvert_exporter": "python",
   "pygments_lexer": "ipython3",
   "version": "3.7.11"
  }
 },
 "nbformat": 4,
 "nbformat_minor": 5
}
