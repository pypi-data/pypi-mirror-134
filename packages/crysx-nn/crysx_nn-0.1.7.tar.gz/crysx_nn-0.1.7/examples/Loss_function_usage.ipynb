{
 "cells": [
  {
   "cell_type": "markdown",
   "id": "73a72ec4",
   "metadata": {},
   "source": [
    "# Example usage of Loss functions\n",
    "**List of available loss functions and their gradients in `loss.py`, as well as how to use them.**"
   ]
  },
  {
   "cell_type": "markdown",
   "id": "3059628f",
   "metadata": {},
   "source": [
    "## Using CPU"
   ]
  },
  {
   "cell_type": "code",
   "execution_count": 3,
   "id": "13cbd8b5",
   "metadata": {},
   "outputs": [],
   "source": [
    "import numpy as np\n",
    "np.random.seed(0)"
   ]
  },
  {
   "cell_type": "markdown",
   "id": "c509b6ef",
   "metadata": {},
   "source": [
    "### Mean Absolute Error (MSE_loss)"
   ]
  },
  {
   "cell_type": "code",
   "execution_count": 5,
   "id": "3165f601",
   "metadata": {},
   "outputs": [
    {
     "name": "stdout",
     "output_type": "stream",
     "text": [
      "Error\n",
      " 1.251971532065993\n",
      "Gradient\n",
      " [[-0.25 -0.25  0.25 -0.25]\n",
      " [ 0.25  0.25  0.25 -0.25]\n",
      " [ 0.25 -0.25  0.25 -0.25]\n",
      " [ 0.25  0.25  0.25 -0.25]\n",
      " [-0.25  0.25 -0.25  0.25]]\n"
     ]
    }
   ],
   "source": [
    "from crysx_nn.loss import MAE_loss, MAE_loss_grad\n",
    "import numpy as np\n",
    "# predictions and targets should be 2d arrays where the rows correspond to the samples and the columns correspond to the output nodes.\n",
    "predictions = np.random.random((5,4)) # BatchSize=nSamples=5; nodes=4\n",
    "targets = np.random.random((5,4)) # BatchSize=nSamples=5; nodes=4\n",
    "error = MAE_loss(predictions, targets)\n",
    "gradient_wrt_predictions = MAE_loss_grad(predictions, targets)\n",
    "print('Error\\n',error)\n",
    "print('Gradient\\n',gradient_wrt_predictions)"
   ]
  },
  {
   "cell_type": "code",
   "execution_count": null,
   "id": "4ed0c362",
   "metadata": {},
   "outputs": [],
   "source": []
  },
  {
   "cell_type": "code",
   "execution_count": null,
   "id": "2f6d1c92",
   "metadata": {},
   "outputs": [],
   "source": []
  },
  {
   "cell_type": "markdown",
   "id": "2917cd9e",
   "metadata": {},
   "source": [
    "## Using GPU\n",
    "\n",
    "*** In order to use the GPU, replace the numpy arrays with cupy arrays. Also, use the `_cupy` suffix after all the activation function names.***"
   ]
  },
  {
   "cell_type": "code",
   "execution_count": 4,
   "id": "14743bfe",
   "metadata": {},
   "outputs": [],
   "source": [
    "import cupy as cp\n",
    "cp.random.seed(0)"
   ]
  },
  {
   "cell_type": "code",
   "execution_count": null,
   "id": "3400de9e",
   "metadata": {},
   "outputs": [],
   "source": []
  }
 ],
 "metadata": {
  "kernelspec": {
   "display_name": "Python 3 (ipykernel)",
   "language": "python",
   "name": "python3"
  },
  "language_info": {
   "codemirror_mode": {
    "name": "ipython",
    "version": 3
   },
   "file_extension": ".py",
   "mimetype": "text/x-python",
   "name": "python",
   "nbconvert_exporter": "python",
   "pygments_lexer": "ipython3",
   "version": "3.7.11"
  }
 },
 "nbformat": 4,
 "nbformat_minor": 5
}
