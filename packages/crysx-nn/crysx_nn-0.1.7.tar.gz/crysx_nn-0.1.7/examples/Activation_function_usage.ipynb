{
 "cells": [
  {
   "cell_type": "markdown",
   "id": "9c1f2caf",
   "metadata": {},
   "source": [
    "# Example usage of Activation functions\n",
    "**List of available activation functions and their gradients in `activation.py`, as well as how to use them.**"
   ]
  },
  {
   "cell_type": "markdown",
   "id": "d4f15fa1",
   "metadata": {},
   "source": [
    "## Run the following for Google colab \n",
    "then restart runtime"
   ]
  },
  {
   "cell_type": "code",
   "execution_count": null,
   "id": "0657b14d",
   "metadata": {},
   "outputs": [],
   "source": [
    "! pip install --upgrade --no-cache-dir https://github.com/manassharma07/crysx_nn/tarball/main\n",
    "! pip install IPython==7.7.0"
   ]
  },
  {
   "cell_type": "markdown",
   "id": "95d50164",
   "metadata": {},
   "source": [
    "## Using CPU"
   ]
  },
  {
   "cell_type": "code",
   "execution_count": 1,
   "id": "ffa6c728",
   "metadata": {},
   "outputs": [],
   "source": [
    "import numpy as np\n",
    "np.random.seed(0)"
   ]
  },
  {
   "cell_type": "markdown",
   "id": "1cae339c",
   "metadata": {},
   "source": [
    "### Sigmoid"
   ]
  },
  {
   "cell_type": "code",
   "execution_count": 2,
   "id": "3d1088fd",
   "metadata": {},
   "outputs": [
    {
     "name": "stdout",
     "output_type": "stream",
     "text": [
      "Output\n",
      " [[0.63386027 0.6715468  0.64628827 0.63294764]\n",
      " [0.60435748 0.65608461 0.60768396 0.70925592]\n",
      " [0.72385455 0.59470289 0.68820161 0.62922533]\n",
      " [0.63831185 0.71618109 0.51775155 0.52176856]\n",
      " [0.50505443 0.6969086  0.68528272 0.70474823]]\n",
      "Gradient\n",
      " [[0.23208143 0.22057169 0.22859974 0.23232493]\n",
      " [0.23910952 0.22563759 0.23840416 0.20621196]\n",
      " [0.19988914 0.24103136 0.21458015 0.23330081]\n",
      " [0.23086983 0.20326574 0.24968488 0.24952613]\n",
      " [0.24997445 0.211227   0.21567032 0.20807816]]\n"
     ]
    }
   ],
   "source": [
    "import crysx_nn.activation as activation\n",
    "import numpy as np\n",
    "# inputs should be a 2d array where the rows correspond to the samples and the columns correspond to the nodes.\n",
    "inputs = np.random.random((5,4)) # BatchSize=nSamples=5; nodes=4\n",
    "output = activation.Sigmoid(inputs)\n",
    "gradient_wrt_inputs = activation.Sigmoid_grad(inputs)\n",
    "print('Output\\n',output)\n",
    "print('Gradient\\n',gradient_wrt_inputs)"
   ]
  },
  {
   "cell_type": "markdown",
   "id": "aca196a2",
   "metadata": {},
   "source": [
    "### Tanh"
   ]
  },
  {
   "cell_type": "code",
   "execution_count": 3,
   "id": "390f9131",
   "metadata": {},
   "outputs": [
    {
     "name": "stdout",
     "output_type": "stream",
     "text": [
      "Output\n",
      " [[0.75246717 0.6635661  0.43128916 0.65301033]\n",
      " [0.11772599 0.56484577 0.14237931 0.73736002]\n",
      " [0.47912529 0.3924239  0.25855159 0.64938453]\n",
      " [0.42694144 0.51420823 0.01878759 0.54947958]\n",
      " [0.54560065 0.54898969 0.73693956 0.59270151]]\n",
      "Gradient\n",
      " [[0.43379315 0.55968003 0.81398966 0.5735775 ]\n",
      " [0.98614059 0.68094925 0.97972813 0.45630019]\n",
      " [0.77043895 0.84600348 0.93315108 0.57829974]\n",
      " [0.81772101 0.73558989 0.99964703 0.69807219]\n",
      " [0.70231993 0.69861032 0.45692008 0.64870492]]\n"
     ]
    }
   ],
   "source": [
    "import crysx_nn.activation as activation\n",
    "import numpy as np\n",
    "# inputs should be a 2d array where the rows correspond to the samples and the columns correspond to the nodes.\n",
    "inputs = np.random.random((5,4)) # BatchSize=nSamples=5; nodes=4\n",
    "output = activation.Tanh(inputs)\n",
    "gradient_wrt_inputs = activation.Tanh_grad(inputs)\n",
    "print('Output\\n',output)\n",
    "print('Gradient\\n',gradient_wrt_inputs)"
   ]
  },
  {
   "cell_type": "markdown",
   "id": "852a2273",
   "metadata": {},
   "source": [
    "### Tanh_offset"
   ]
  },
  {
   "cell_type": "code",
   "execution_count": 4,
   "id": "450c25dd",
   "metadata": {},
   "outputs": [
    {
     "name": "stdout",
     "output_type": "stream",
     "text": [
      "Output\n",
      " [[0.67239025 0.70559061 0.80143103 0.53007638]\n",
      " [0.79142451 0.79269966 0.60366632 0.56410834]\n",
      " [0.65268369 0.67423919 0.75775189 0.70624228]\n",
      " [0.87833404 0.55084604 0.60294556 0.5799624 ]\n",
      " [0.78687938 0.62400516 0.71760684 0.61983576]]\n",
      "Gradient\n",
      " [[0.4405632  0.415465   0.31827867 0.49819082]\n",
      " [0.33014352 0.32865382 0.47850659 0.49178024]\n",
      " [0.45337538 0.43928141 0.36712793 0.41492824]\n",
      " [0.21372672 0.49482936 0.47880442 0.48721203]\n",
      " [0.33540045 0.46924544 0.40529453 0.47127878]]\n"
     ]
    }
   ],
   "source": [
    "import crysx_nn.activation as activation\n",
    "import numpy as np\n",
    "# inputs should be a 2d array where the rows correspond to the samples and the columns correspond to the nodes.\n",
    "inputs = np.random.random((5,4)) # BatchSize=nSamples=5; nodes=4\n",
    "output = activation.Tanh_offset(inputs)\n",
    "gradient_wrt_inputs = activation.Tanh_offset_grad(inputs)\n",
    "print('Output\\n',output)\n",
    "print('Gradient\\n',gradient_wrt_inputs)"
   ]
  },
  {
   "cell_type": "markdown",
   "id": "63510f9c",
   "metadata": {},
   "source": [
    "### Identity"
   ]
  },
  {
   "cell_type": "code",
   "execution_count": 5,
   "id": "d359cfd6",
   "metadata": {},
   "outputs": [
    {
     "name": "stdout",
     "output_type": "stream",
     "text": [
      "Output\n",
      " [[0.15896958 0.11037514 0.65632959 0.13818295]\n",
      " [0.19658236 0.36872517 0.82099323 0.09710128]\n",
      " [0.83794491 0.09609841 0.97645947 0.4686512 ]\n",
      " [0.97676109 0.60484552 0.73926358 0.03918779]\n",
      " [0.28280696 0.12019656 0.2961402  0.11872772]]\n",
      "Gradient\n",
      " [[1. 1. 1. 1.]\n",
      " [1. 1. 1. 1.]\n",
      " [1. 1. 1. 1.]\n",
      " [1. 1. 1. 1.]\n",
      " [1. 1. 1. 1.]]\n"
     ]
    }
   ],
   "source": [
    "import crysx_nn.activation as activation\n",
    "import numpy as np\n",
    "# inputs should be a 2d array where the rows correspond to the samples and the columns correspond to the nodes.\n",
    "inputs = np.random.random((5,4)) # BatchSize=nSamples=5; nodes=4\n",
    "output = activation.Identity(inputs)\n",
    "gradient_wrt_inputs = activation.Identity_grad(inputs)\n",
    "print('Output\\n',output)\n",
    "print('Gradient\\n',gradient_wrt_inputs)"
   ]
  },
  {
   "cell_type": "markdown",
   "id": "c206b784",
   "metadata": {},
   "source": [
    "### ReLU"
   ]
  },
  {
   "cell_type": "code",
   "execution_count": 6,
   "id": "b9cccb6b",
   "metadata": {},
   "outputs": [
    {
     "name": "stdout",
     "output_type": "stream",
     "text": [
      "Output\n",
      " [[0.31798318 0.41426299 0.0641475  0.69247212]\n",
      " [0.56660145 0.26538949 0.52324805 0.09394051]\n",
      " [0.5759465  0.9292962  0.31856895 0.66741038]\n",
      " [0.13179786 0.7163272  0.28940609 0.18319136]\n",
      " [0.58651293 0.02010755 0.82894003 0.00469548]]\n",
      "Gradient\n",
      " [[1. 1. 1. 1.]\n",
      " [1. 1. 1. 1.]\n",
      " [1. 1. 1. 1.]\n",
      " [1. 1. 1. 1.]\n",
      " [1. 1. 1. 1.]]\n"
     ]
    }
   ],
   "source": [
    "import crysx_nn.activation as activation\n",
    "import numpy as np\n",
    "# inputs should be a 2d array where the rows correspond to the samples and the columns correspond to the nodes.\n",
    "inputs = np.random.random((5,4)) # BatchSize=nSamples=5; nodes=4\n",
    "output = activation.ReLU(inputs)\n",
    "gradient_wrt_inputs = activation.ReLU_grad(inputs)\n",
    "print('Output\\n',output)\n",
    "print('Gradient\\n',gradient_wrt_inputs)"
   ]
  },
  {
   "cell_type": "markdown",
   "id": "c749e590",
   "metadata": {},
   "source": [
    "### Softplus"
   ]
  },
  {
   "cell_type": "code",
   "execution_count": 7,
   "id": "9e225b27",
   "metadata": {},
   "outputs": [
    {
     "name": "stdout",
     "output_type": "stream",
     "text": [
      "Output\n",
      " [[1.08841802 0.83723666 1.12683903 1.28576066]\n",
      " [0.82523866 1.02215896 1.03235702 1.01966053]\n",
      " [0.81089582 1.27893952 0.94149457 1.20335046]\n",
      " [1.10283814 0.85288372 1.18064114 0.91092475]\n",
      " [1.22775599 1.02543685 1.228203   1.09820194]]\n",
      "Gradient\n",
      " [[0.6632512  0.56709486 0.67594403 0.72355977]\n",
      " [0.56186958 0.64018273 0.64383352 0.63928263]\n",
      " [0.55554027 0.72166769 0.60995555 0.69981324]\n",
      " [0.66807231 0.57381584 0.69291821 0.59784784]\n",
      " [0.70705078 0.64136024 0.7071817  0.66652985]]\n"
     ]
    }
   ],
   "source": [
    "import crysx_nn.activation as activation\n",
    "import numpy as np\n",
    "# inputs should be a 2d array where the rows correspond to the samples and the columns correspond to the nodes.\n",
    "inputs = np.random.random((5,4)) # BatchSize=nSamples=5; nodes=4\n",
    "output = activation.Softplus(inputs)\n",
    "gradient_wrt_inputs = activation.Softplus_grad(inputs)\n",
    "print('Output\\n',output)\n",
    "print('Gradient\\n',gradient_wrt_inputs)"
   ]
  },
  {
   "cell_type": "markdown",
   "id": "3a0e78f6",
   "metadata": {},
   "source": [
    "### Softmax"
   ]
  },
  {
   "cell_type": "code",
   "execution_count": 8,
   "id": "c98abc0e",
   "metadata": {},
   "outputs": [
    {
     "name": "stdout",
     "output_type": "stream",
     "text": [
      "Output\n",
      " [[0.25119534 0.20079831 0.31641677 0.23158959]\n",
      " [0.26649876 0.31986779 0.17780861 0.23582485]\n",
      " [0.29046088 0.20061205 0.27847013 0.23045694]\n",
      " [0.18875797 0.22213246 0.29147564 0.29763393]\n",
      " [0.24815206 0.26851782 0.26822327 0.21510685]]\n",
      "Gradient\n",
      " [[[ 0.18809626 -0.0504396  -0.07948241 -0.05817422]\n",
      "  [-0.0504396   0.16047834 -0.06353595 -0.0465028 ]\n",
      "  [-0.07948241 -0.06353595  0.21629721 -0.07327883]\n",
      "  [-0.05817422 -0.0465028  -0.07327883  0.17795585]]\n",
      "\n",
      " [[ 0.19547716 -0.08524437 -0.04738577 -0.06284703]\n",
      "  [-0.08524437  0.2175524  -0.05687525 -0.07543277]\n",
      "  [-0.04738577 -0.05687525  0.14619271 -0.04193169]\n",
      "  [-0.06284703 -0.07543277 -0.04193169  0.1802115 ]]\n",
      "\n",
      " [[ 0.20609337 -0.05826995 -0.08088468 -0.06693873]\n",
      "  [-0.05826995  0.16036686 -0.05586446 -0.04623244]\n",
      "  [-0.08088468 -0.05586446  0.20092452 -0.06417537]\n",
      "  [-0.06693873 -0.04623244 -0.06417537  0.17734654]]\n",
      "\n",
      " [[ 0.1531284  -0.04192927 -0.05501835 -0.05618078]\n",
      "  [-0.04192927  0.17278963 -0.0647462  -0.06611416]\n",
      "  [-0.05501835 -0.0647462   0.2065176  -0.08675304]\n",
      "  [-0.05618078 -0.06611416 -0.08675304  0.20904796]]\n",
      "\n",
      " [[ 0.18657261 -0.06663325 -0.06656016 -0.05337921]\n",
      "  [-0.06663325  0.196416   -0.07202273 -0.05776002]\n",
      "  [-0.06656016 -0.07202273  0.19627953 -0.05769666]\n",
      "  [-0.05337921 -0.05776002 -0.05769666  0.16883588]]]\n"
     ]
    }
   ],
   "source": [
    "import crysx_nn.activation as activation\n",
    "import numpy as np\n",
    "# inputs should be a 2d array where the rows correspond to the samples and the columns correspond to the nodes.\n",
    "inputs = np.random.random((5,4)) # BatchSize=nSamples=5; nodes=4\n",
    "output = activation.Softmax(inputs)\n",
    "jacobian_wrt_inputs = activation.Softmax_grad(inputs) \n",
    "print('Output\\n',output)\n",
    "print('Gradient\\n',jacobian_wrt_inputs)"
   ]
  },
  {
   "cell_type": "markdown",
   "id": "3062682f",
   "metadata": {},
   "source": [
    "## Using GPU\n",
    "\n",
    "*** In order to use the GPU, replace the numpy arrays with cupy arrays. Also, use the `_cupy` suffix after all the activation function names.***"
   ]
  },
  {
   "cell_type": "code",
   "execution_count": 9,
   "id": "5ab01397",
   "metadata": {},
   "outputs": [],
   "source": [
    "import cupy as cp\n",
    "cp.random.seed(0)"
   ]
  },
  {
   "cell_type": "markdown",
   "id": "d09eae4d",
   "metadata": {},
   "source": [
    "### Sigmoid GPU"
   ]
  },
  {
   "cell_type": "code",
   "execution_count": 10,
   "id": "4cef9069",
   "metadata": {},
   "outputs": [
    {
     "name": "stdout",
     "output_type": "stream",
     "text": [
      "Output\n",
      " [[0.60788984 0.61310069 0.56222935 0.6212233 ]\n",
      " [0.51324968 0.58363154 0.59790957 0.7056643 ]\n",
      " [0.61825941 0.51070831 0.62443465 0.65803499]\n",
      " [0.6254168  0.56569315 0.51299224 0.64083647]\n",
      " [0.59521253 0.71263483 0.65511965 0.57037936]]\n",
      "Gradient\n",
      " [[0.23835978 0.23720823 0.24612751 0.23530491]\n",
      " [0.24982445 0.24300577 0.24041372 0.2077022 ]\n",
      " [0.23601471 0.24988533 0.23451602 0.22502494]\n",
      " [0.23427063 0.24568441 0.2498312  0.23016509]\n",
      " [0.24093457 0.20478643 0.22593789 0.24504675]]\n"
     ]
    }
   ],
   "source": [
    "import crysx_nn.activation as activation\n",
    "import cupy as cp\n",
    "# inputs should be a 2d array where the rows correspond to the samples and the columns correspond to the nodes.\n",
    "inputs = cp.random.random((5,4)) # BatchSize=nSamples=5; nodes=4\n",
    "output = activation.Sigmoid_cupy(inputs)\n",
    "gradient_wrt_inputs = activation.Sigmoid_grad_cupy(inputs)\n",
    "print('Output\\n',output)\n",
    "print('Gradient\\n',gradient_wrt_inputs)"
   ]
  },
  {
   "cell_type": "markdown",
   "id": "29cf325e",
   "metadata": {},
   "source": [
    "### Tanh GPU"
   ]
  },
  {
   "cell_type": "code",
   "execution_count": 11,
   "id": "f8930729",
   "metadata": {},
   "outputs": [
    {
     "name": "stdout",
     "output_type": "stream",
     "text": [
      "Output\n",
      " [[0.57553054 0.04534073 0.39238007 0.05722523]\n",
      " [0.0814353  0.10527342 0.66435577 0.59922298]\n",
      " [0.73127392 0.74094491 0.13840816 0.33677763]\n",
      " [0.13772204 0.63270351 0.07732565 0.02832989]\n",
      " [0.42217611 0.59474599 0.36180122 0.24283991]]\n",
      "Gradient\n",
      " [[0.6687646  0.99794422 0.84603788 0.99672527]\n",
      " [0.99336829 0.98891751 0.55863141 0.64093183]\n",
      " [0.46523845 0.45100063 0.98084318 0.88658083]\n",
      " [0.98103264 0.59968627 0.99402074 0.99919742]\n",
      " [0.82176733 0.64627721 0.86909988 0.94102878]]\n"
     ]
    }
   ],
   "source": [
    "import crysx_nn.activation as activation\n",
    "import cupy as cp\n",
    "# inputs should be a 2d array where the rows correspond to the samples and the columns correspond to the nodes.\n",
    "inputs = cp.random.random((5,4)) # BatchSize=nSamples=5; nodes=4\n",
    "output = activation.Tanh_cupy(inputs)\n",
    "gradient_wrt_inputs = activation.Tanh_grad_cupy(inputs)\n",
    "print('Output\\n',output)\n",
    "print('Gradient\\n',gradient_wrt_inputs)"
   ]
  },
  {
   "cell_type": "markdown",
   "id": "0e5d0653",
   "metadata": {},
   "source": [
    "### Tanh_offset GPU"
   ]
  },
  {
   "cell_type": "code",
   "execution_count": 12,
   "id": "2a3a6858",
   "metadata": {},
   "outputs": [
    {
     "name": "stdout",
     "output_type": "stream",
     "text": [
      "Output\n",
      " [[0.60074977 0.78696583 0.81558852 0.59095794]\n",
      " [0.78504055 0.77932533 0.81425887 0.50152872]\n",
      " [0.54162475 0.74238721 0.62745101 0.87634078]\n",
      " [0.60938242 0.85180104 0.53977932 0.51030514]\n",
      " [0.71812883 0.55455601 0.83499787 0.63796673]]\n",
      "Gradient\n",
      " [[0.47969897 0.33530122 0.30080778 0.48345331]\n",
      " [0.33750376 0.34395472 0.30248273 0.49999533]\n",
      " [0.49653476 0.38249688 0.46751248 0.21673524]\n",
      " [0.47607097 0.25247205 0.49683521 0.49978761]\n",
      " [0.40483962 0.49404728 0.27555286 0.46193036]]\n"
     ]
    }
   ],
   "source": [
    "import crysx_nn.activation as activation\n",
    "import cupy as cp\n",
    "# inputs should be a 2d array where the rows correspond to the samples and the columns correspond to the nodes.\n",
    "inputs = cp.random.random((5,4)) # BatchSize=nSamples=5; nodes=4\n",
    "output = activation.Tanh_offset_cupy(inputs)\n",
    "gradient_wrt_inputs = activation.Tanh_offset_grad_cupy(inputs)\n",
    "print('Output\\n',output)\n",
    "print('Gradient\\n',gradient_wrt_inputs)"
   ]
  },
  {
   "cell_type": "markdown",
   "id": "240007dc",
   "metadata": {},
   "source": [
    "### Identity GPU"
   ]
  },
  {
   "cell_type": "code",
   "execution_count": 13,
   "id": "759b3761",
   "metadata": {},
   "outputs": [
    {
     "name": "stdout",
     "output_type": "stream",
     "text": [
      "Output\n",
      " [[0.88713763 0.56265382 0.98994989 0.24305214]\n",
      " [0.79833729 0.82992379 0.65200104 0.25202245]\n",
      " [0.54965062 0.40358132 0.10968819 0.81840714]\n",
      " [0.89731261 0.77122132 0.65229201 0.85391034]\n",
      " [0.42346823 0.95508329 0.33617054 0.13766885]]\n",
      "Gradient\n",
      " [[1. 1. 1. 1.]\n",
      " [1. 1. 1. 1.]\n",
      " [1. 1. 1. 1.]\n",
      " [1. 1. 1. 1.]\n",
      " [1. 1. 1. 1.]]\n"
     ]
    }
   ],
   "source": [
    "import crysx_nn.activation as activation\n",
    "import cupy as cp\n",
    "# inputs should be a 2d array where the rows correspond to the samples and the columns correspond to the nodes.\n",
    "inputs = cp.random.random((5,4)) # BatchSize=nSamples=5; nodes=4\n",
    "output = activation.Identity_cupy(inputs)\n",
    "gradient_wrt_inputs = activation.Identity_grad_cupy(inputs)\n",
    "print('Output\\n',output)\n",
    "print('Gradient\\n',gradient_wrt_inputs)"
   ]
  },
  {
   "cell_type": "markdown",
   "id": "05d6439b",
   "metadata": {},
   "source": [
    "### ReLU GPU"
   ]
  },
  {
   "cell_type": "code",
   "execution_count": 14,
   "id": "36fee14f",
   "metadata": {},
   "outputs": [
    {
     "name": "stdout",
     "output_type": "stream",
     "text": [
      "Output\n",
      " [[0.79431636 0.29322598 0.19465283 0.90575521]\n",
      " [0.11151696 0.97737315 0.0126922  0.0922648 ]\n",
      " [0.92461427 0.41958712 0.76254932 0.81891984]\n",
      " [0.5680262  0.18148492 0.18446183 0.19445675]\n",
      " [0.78633179 0.26517155 0.28181817 0.35346627]]\n",
      "Gradient\n",
      " [[1. 1. 1. 1.]\n",
      " [1. 1. 1. 1.]\n",
      " [1. 1. 1. 1.]\n",
      " [1. 1. 1. 1.]\n",
      " [1. 1. 1. 1.]]\n"
     ]
    }
   ],
   "source": [
    "import crysx_nn.activation as activation\n",
    "import cupy as cp\n",
    "# inputs should be a 2d array where the rows correspond to the samples and the columns correspond to the nodes.\n",
    "inputs = cp.random.random((5,4)) # BatchSize=nSamples=5; nodes=4\n",
    "output = activation.ReLU_cupy(inputs)\n",
    "gradient_wrt_inputs = activation.ReLU_grad_cupy(inputs)\n",
    "print('Output\\n',output)\n",
    "print('Gradient\\n',gradient_wrt_inputs)"
   ]
  },
  {
   "cell_type": "markdown",
   "id": "f976e6b8",
   "metadata": {},
   "source": [
    "### Softplus GPU"
   ]
  },
  {
   "cell_type": "code",
   "execution_count": 15,
   "id": "7dec3a49",
   "metadata": {},
   "outputs": [
    {
     "name": "stdout",
     "output_type": "stream",
     "text": [
      "Output\n",
      " [[0.91885823 0.7639514  0.90132921 1.22007504]\n",
      " [1.06023752 0.99012625 1.01944036 0.84007467]\n",
      " [1.19242887 1.07606607 1.17177768 1.08993645]\n",
      " [0.91852043 1.04740561 0.87053652 0.74268934]\n",
      " [0.82406833 1.07234487 0.79248434 0.81008479]]\n",
      "Gradient\n",
      " [[0.60102568 0.53417786 0.5939704  0.70479199]\n",
      " [0.65362647 0.62847022 0.6392032  0.56832171]\n",
      " [0.69651675 0.6590659  0.6901843  0.66376214]\n",
      " [0.60089089 0.6491532  0.58127316 0.52416748]\n",
      " [0.56135653 0.65779485 0.54728131 0.55517965]]\n"
     ]
    }
   ],
   "source": [
    "import crysx_nn.activation as activation\n",
    "import cupy as cp\n",
    "# inputs should be a 2d array where the rows correspond to the samples and the columns correspond to the nodes.\n",
    "inputs = cp.random.random((5,4)) # BatchSize=nSamples=5; nodes=4\n",
    "output = activation.Softplus_cupy(inputs)\n",
    "gradient_wrt_inputs = activation.Softplus_grad_cupy(inputs)\n",
    "print('Output\\n',output)\n",
    "print('Gradient\\n',gradient_wrt_inputs)"
   ]
  },
  {
   "cell_type": "markdown",
   "id": "f1e55bf6",
   "metadata": {},
   "source": [
    "### Softmax GPU"
   ]
  },
  {
   "cell_type": "code",
   "execution_count": 16,
   "id": "d9dbbe96",
   "metadata": {},
   "outputs": [
    {
     "name": "stdout",
     "output_type": "stream",
     "text": [
      "Output\n",
      " [[0.25747275 0.32568587 0.17966864 0.23717274]\n",
      " [0.39069779 0.16193293 0.17038333 0.27698596]\n",
      " [0.2505234  0.17156289 0.30927165 0.26864207]\n",
      " [0.16106974 0.35203962 0.33389437 0.15299627]\n",
      " [0.19930776 0.43635135 0.18970979 0.1746311 ]]\n",
      "Gradient\n",
      " [[[ 0.19118054 -0.08385524 -0.04625978 -0.06106552]\n",
      "  [-0.08385524  0.21961458 -0.05851554 -0.07724381]\n",
      "  [-0.04625978 -0.05851554  0.14738782 -0.0426125 ]\n",
      "  [-0.06106552 -0.07724381 -0.0426125   0.18092183]]\n",
      "\n",
      " [[ 0.23805303 -0.06326684 -0.06656839 -0.1082178 ]\n",
      "  [-0.06326684  0.13571066 -0.02759067 -0.04485315]\n",
      "  [-0.06656839 -0.02759067  0.14135285 -0.04719379]\n",
      "  [-0.1082178  -0.04485315 -0.04719379  0.20026474]]\n",
      "\n",
      " [[ 0.18776142 -0.04298052 -0.07747978 -0.06730112]\n",
      "  [-0.04298052  0.14212907 -0.05305954 -0.04608901]\n",
      "  [-0.07747978 -0.05305954  0.21362269 -0.08308337]\n",
      "  [-0.06730112 -0.04608901 -0.08308337  0.19647351]]\n",
      "\n",
      " [[ 0.13512628 -0.05670293 -0.05378028 -0.02464307]\n",
      "  [-0.05670293  0.22810773 -0.11754405 -0.05386075]\n",
      "  [-0.05378028 -0.11754405  0.22240892 -0.05108459]\n",
      "  [-0.02464307 -0.05386075 -0.05108459  0.12958841]]\n",
      "\n",
      " [[ 0.15958418 -0.08696821 -0.03781063 -0.03480533]\n",
      "  [-0.08696821  0.24594885 -0.08278012 -0.07620052]\n",
      "  [-0.03781063 -0.08278012  0.15371998 -0.03312923]\n",
      "  [-0.03480533 -0.07620052 -0.03312923  0.14413508]]]\n"
     ]
    }
   ],
   "source": [
    "import crysx_nn.activation as activation\n",
    "import cupy as cp\n",
    "# inputs should be a 2d array where the rows correspond to the samples and the columns correspond to the nodes.\n",
    "inputs = cp.random.random((5,4)) # BatchSize=nSamples=5; nodes=4\n",
    "output = activation.Softmax_cupy(inputs)\n",
    "jacobian_wrt_inputs = activation.Softmax_grad_cupy(inputs) \n",
    "print('Output\\n',output)\n",
    "print('Gradient\\n',jacobian_wrt_inputs)"
   ]
  },
  {
   "cell_type": "code",
   "execution_count": null,
   "id": "e934046c",
   "metadata": {},
   "outputs": [],
   "source": []
  }
 ],
 "metadata": {
  "kernelspec": {
   "display_name": "Python 3 (ipykernel)",
   "language": "python",
   "name": "python3"
  },
  "language_info": {
   "codemirror_mode": {
    "name": "ipython",
    "version": 3
   },
   "file_extension": ".py",
   "mimetype": "text/x-python",
   "name": "python",
   "nbconvert_exporter": "python",
   "pygments_lexer": "ipython3",
   "version": "3.7.11"
  }
 },
 "nbformat": 4,
 "nbformat_minor": 5
}
