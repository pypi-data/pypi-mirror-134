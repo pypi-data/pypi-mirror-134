{
 "cells": [
  {
   "cell_type": "markdown",
   "id": "3d64328b",
   "metadata": {},
   "source": [
    "# Simulating logic gates using `crysx_nn`"
   ]
  },
  {
   "cell_type": "code",
   "execution_count": 1,
   "id": "8425c979",
   "metadata": {},
   "outputs": [
    {
     "name": "stderr",
     "output_type": "stream",
     "text": [
      "C:\\Users\\manas\\anaconda3\\envs\\crysx_nn\\lib\\site-packages\\crysx_nn\\network.py:12: TqdmExperimentalWarning: Using `tqdm.autonotebook.tqdm` in notebook mode. Use `tqdm.tqdm` instead to force console mode (e.g. in jupyter console)\n",
      "  from tqdm.autonotebook import tqdm\n"
     ]
    }
   ],
   "source": [
    "import numpy as np\n",
    "import matplotlib.pyplot as plt\n",
    "\n",
    "\n",
    "# Import CrysX_nn related stuff\n",
    "\n",
    "# Import loss functions\n",
    "from crysx_nn.loss import MSE_loss, MSE_loss_grad\n",
    "from crysx_nn.loss import BCE_loss, BCE_loss_grad\n",
    "# Import neural network functions\n",
    "from crysx_nn.network import nn_optimize_fast\n",
    "from crysx_nn.network import visualize\n",
    "from crysx_nn.network import forward_feed"
   ]
  },
  {
   "cell_type": "markdown",
   "id": "1e04ce91",
   "metadata": {},
   "source": [
    "## Define some network parameters that we will be using later on"
   ]
  },
  {
   "cell_type": "code",
   "execution_count": 2,
   "id": "a25ad560",
   "metadata": {},
   "outputs": [],
   "source": [
    "nInputs = 2 # No. of nodes in the input layer\n",
    "neurons_per_layer = [3, 1] # Neurons per layer (excluding the input layer)\n",
    "activation_func_names = ['Tanh_offset', 'Tanh_offset']\n",
    "nLayers = len(neurons_per_layer)\n",
    "eeta = 0.5\n",
    "nEpochs=10**4\n",
    "batchSize = 4 # No. of input samples to process at a time for optimization"
   ]
  },
  {
   "cell_type": "markdown",
   "id": "0932dc0b",
   "metadata": {},
   "source": [
    "## Visualize the network"
   ]
  },
  {
   "cell_type": "code",
   "execution_count": 3,
   "id": "da6fc156",
   "metadata": {},
   "outputs": [
    {
     "data": {
      "image/png": "[encoded data removed]",
      "text/plain": [
       "<Figure size 1008x720 with 1 Axes>"
      ]
     },
     "metadata": {
      "needs_background": "light"
     },
     "output_type": "display_data"
    }
   ],
   "source": [
    "visualize(nInputs, neurons_per_layer, activation_func_names)"
   ]
  },
  {
   "cell_type": "markdown",
   "id": "c5d9a547",
   "metadata": {},
   "source": [
    "## Set the inputs (rows correspond to different set of inputs and columns represent the inputs)"
   ]
  },
  {
   "cell_type": "code",
   "execution_count": 4,
   "id": "72497675",
   "metadata": {},
   "outputs": [
    {
     "name": "stdout",
     "output_type": "stream",
     "text": [
      "[[0. 0.]\n",
      " [0. 1.]\n",
      " [1. 0.]\n",
      " [1. 1.]]\n",
      "float32\n"
     ]
    }
   ],
   "source": [
    "inputs = np.array([[0.,0.,1.,1.],[0.,1.,0.,1.]]).T.astype('float32')\n",
    "print(inputs)\n",
    "print(inputs.dtype)"
   ]
  },
  {
   "cell_type": "markdown",
   "id": "885dc2cf",
   "metadata": {},
   "source": [
    "## Outputs for different logic gates"
   ]
  },
  {
   "cell_type": "code",
   "execution_count": 5,
   "id": "b91298a9",
   "metadata": {},
   "outputs": [],
   "source": [
    "# AND function\n",
    "outputAND = np.array([0.,0.,0.,1.])\n",
    "outputAND = np.asarray([outputAND]).T\n",
    "# OR function\n",
    "outputOR = np.array([0.,1.,1.,1.])\n",
    "outputOR = np.asarray([outputOR]).T\n",
    "# NAND function\n",
    "outputNAND = np.array([1.,1.,1.,0.])\n",
    "outputNAND = np.asarray([outputNAND]).T\n",
    "# XOR function\n",
    "outputXOR = np.array([0.,1.,1.,0.])\n",
    "outputXOR = np.asarray([outputXOR]).T"
   ]
  },
  {
   "cell_type": "code",
   "execution_count": 6,
   "id": "f3262298",
   "metadata": {},
   "outputs": [
    {
     "name": "stdout",
     "output_type": "stream",
     "text": [
      "AND outputs\n",
      " [[0.]\n",
      " [0.]\n",
      " [0.]\n",
      " [1.]]\n",
      "OR outputs\n",
      " [[0.]\n",
      " [1.]\n",
      " [1.]\n",
      " [1.]]\n",
      "XOR outputs\n",
      " [[0.]\n",
      " [1.]\n",
      " [1.]\n",
      " [0.]]\n",
      "NAND outputs\n",
      " [[1.]\n",
      " [1.]\n",
      " [1.]\n",
      " [0.]]\n"
     ]
    }
   ],
   "source": [
    "print('AND outputs\\n', outputAND)\n",
    "print('OR outputs\\n', outputOR)\n",
    "print('XOR outputs\\n', outputXOR)\n",
    "print('NAND outputs\\n', outputNAND)"
   ]
  },
  {
   "cell_type": "markdown",
   "id": "9be09302",
   "metadata": {},
   "source": [
    "## Generate initial weights and biases"
   ]
  },
  {
   "cell_type": "code",
   "execution_count": 7,
   "id": "ee69acc0",
   "metadata": {},
   "outputs": [
    {
     "name": "stdout",
     "output_type": "stream",
     "text": [
      "Weights matrices: \n",
      " [array([[ 0.25591067,  0.53764406],\n",
      "       [-0.08837285, -0.04159074],\n",
      "       [ 0.53254541, -0.0698623 ]]), array([[0.4937847 , 0.22408043, 0.53364015]])]\n",
      "Biases: \n",
      " [array([0., 0., 0.]), array([0.])]\n"
     ]
    }
   ],
   "source": [
    "from crysx_nn.network import init_params\n",
    "weightsOriginal, biasesOriginal = init_params(nInputs, neurons_per_layer, method='Xavier')\n",
    "print('Weights matrices: \\n', weightsOriginal)\n",
    "print('Biases: \\n', biasesOriginal)"
   ]
  },
  {
   "cell_type": "markdown",
   "id": "96880a85",
   "metadata": {},
   "source": [
    "## You can also define your own custom initial guess and weights\n",
    "\n",
    "For example, for a neural network with 2 nodes in input layer, 3 nodes in hidden layer and 1 node in output layer use the following commented code"
   ]
  },
  {
   "cell_type": "code",
   "execution_count": 8,
   "id": "5a30e194",
   "metadata": {},
   "outputs": [],
   "source": [
    "# # Initial guesses for weights\n",
    "# w1 = 0.30\n",
    "# w2 = 0.55\n",
    "# w3 = 0.20\n",
    "# w4 = 0.45\n",
    "# w5 = 0.50\n",
    "# w6 = 0.35\n",
    "# w7 = 0.15\n",
    "# w8 = 0.40\n",
    "# w9 = 0.25\n",
    "\n",
    "# # Initial guesses for biases\n",
    "# b1 = 0.60\n",
    "# b2 = 0.05\n",
    "\n",
    "# # need to use a list instead of a numpy array, since the \n",
    "# #weight matrices at each layer are not of the same dimensions\n",
    "# weights = [] \n",
    "# # Weights for layer 1 --> 2\n",
    "# weights.append(np.array([[w1,w4],[w2, w5], [w3, w6]]))\n",
    "# # Weights for layer 2 --> 3\n",
    "# weights.append(np.array([[w7, w8, w9]]))\n",
    "# # List of biases at each layer\n",
    "# biases = []\n",
    "# biases.append(np.array([b1,b1,b1]))\n",
    "# biases.append(np.array([b2]))\n",
    "\n",
    "# weightsOriginal = weights\n",
    "# biasesOriginal = biases\n",
    "\n",
    "# print('Weights matrices: ',weights)\n",
    "# print('Biases: ',biases)"
   ]
  },
  {
   "cell_type": "markdown",
   "id": "061878d4",
   "metadata": {},
   "source": [
    "## Train neural network for AND gate\n",
    "We will use the Mean Squared Error loss function (MSE_loss)"
   ]
  },
  {
   "cell_type": "code",
   "execution_count": 9,
   "id": "f235eb69",
   "metadata": {},
   "outputs": [
    {
     "data": {
      "application/vnd.jupyter.widget-view+json": {
       "model_id": "e6bd0312426d4a42b1ba5d39822d22d5",
       "version_major": 2,
       "version_minor": 0
      },
      "text/plain": [
       "  0%|          | 0/10000 [00:00<?, ?it/s]"
      ]
     },
     "metadata": {},
     "output_type": "display_data"
    },
    {
     "name": "stdout",
     "output_type": "stream",
     "text": [
      "Average Error with initial weights and biases: 0.4941920988207942\n"
     ]
    }
   ],
   "source": [
    "\n",
    "# Run optimization\n",
    "optWeights, optBiases, errorPlot = nn_optimize_fast(inputs, outputAND, activation_func_names, nLayers, nEpochs=nEpochs, batchSize=batchSize, eeta=eeta, weights=weightsOriginal, biases=biasesOriginal, errorFunc=MSE_loss, gradErrorFunc=MSE_loss_grad,miniterEpoch=1,batchProgressBar=False,miniterBatch=100)\n",
    "\n"
   ]
  },
  {
   "cell_type": "markdown",
   "id": "8b25bc07",
   "metadata": {},
   "source": [
    "### Visualize the training loss"
   ]
  },
  {
   "cell_type": "code",
   "execution_count": 10,
   "id": "0c82e25f",
   "metadata": {},
   "outputs": [
    {
     "data": {
      "image/png": "[encoded data removed]",
      "text/plain": [
       "<Figure size 648x432 with 1 Axes>"
      ]
     },
     "metadata": {
      "needs_background": "light"
     },
     "output_type": "display_data"
    }
   ],
   "source": [
    "# Plot the error vs epochs\n",
    "plt.plot(errorPlot)\n",
    "plt.yscale('log')\n",
    "plt.show()"
   ]
  },
  {
   "cell_type": "markdown",
   "id": "7b33b211",
   "metadata": {},
   "source": [
    "### Optimized weights and biases"
   ]
  },
  {
   "cell_type": "code",
   "execution_count": 11,
   "id": "ea939b60",
   "metadata": {},
   "outputs": [
    {
     "name": "stdout",
     "output_type": "stream",
     "text": [
      "Optimized Weights:  [array([[ 1.43316341,  1.56844478],\n",
      "       [-1.16898867, -1.23513041],\n",
      "       [ 1.35839205,  1.13064868]]), array([[ 3.1833121 , -2.88742126,  2.53377804]])]\n",
      "Optimized Biases:  [array([-2.1628245 ,  1.69670397, -1.76078267]), array([-1.77522732])]\n"
     ]
    }
   ],
   "source": [
    "# Optimized weights and biases\n",
    "print('Optimized Weights: ', optWeights)\n",
    "print('Optimized Biases: ', optBiases)"
   ]
  },
  {
   "cell_type": "markdown",
   "id": "605cf9f2",
   "metadata": {},
   "source": [
    "### Make predictions using the optimized weights"
   ]
  },
  {
   "cell_type": "code",
   "execution_count": 12,
   "id": "0ccc8430",
   "metadata": {},
   "outputs": [
    {
     "name": "stdout",
     "output_type": "stream",
     "text": [
      "Outputs at each layer (including input layer):\n",
      "  [array([[0., 0.],\n",
      "       [0., 1.],\n",
      "       [1., 0.],\n",
      "       [1., 1.]], dtype=float32), array([[0.01305235, 0.96749788, 0.02870482],\n",
      "       [0.23348088, 0.71568292, 0.22092776],\n",
      "       [0.18857102, 0.74181636, 0.30900369],\n",
      "       [0.84258214, 0.19547332, 0.81099924]]), array([[1.35143279e-04],\n",
      "       [6.19768840e-03],\n",
      "       [6.25640828e-03],\n",
      "       [9.91796082e-01]])]\n",
      "Inputs at each layer :\n",
      "  [array([[-2.1628245 ,  1.69670397, -1.76078267],\n",
      "       [-0.59437972,  0.46157356, -0.63013399],\n",
      "       [-0.7296611 ,  0.5277153 , -0.40239062],\n",
      "       [ 0.83878369, -0.70741511,  0.72825805]]), array([[-4.45451993],\n",
      "       [-2.53868096],\n",
      "       [-2.53393648],\n",
      "       [ 2.39745286]])]\n",
      "New Average Error with optimized weights:\n",
      " 3.6219128685663396e-05\n",
      "Input:  [[0. 0.]\n",
      " [0. 1.]\n",
      " [1. 0.]\n",
      " [1. 1.]]\n",
      "Output:  [[1.35143279e-04]\n",
      " [6.19768840e-03]\n",
      " [6.25640828e-03]\n",
      " [9.91796082e-01]]\n",
      "Expected Output:  [[0.]\n",
      " [0.]\n",
      " [0.]\n",
      " [1.]]\n"
     ]
    }
   ],
   "source": [
    "# Forward feed with optimized weights\n",
    "# Perform Forward feed and get the outputs at each layers and the inputs at each layer\n",
    "a, z = forward_feed(inputs, nLayers, optWeights, optBiases, activation_func_names)\n",
    "print('Outputs at each layer (including input layer):\\n ',a)\n",
    "print('Inputs at each layer :\\n ', z)\n",
    "# New Error\n",
    "print('New Average Error with optimized weights:\\n', MSE_loss(a[nLayers],outputAND)/batchSize)\n",
    "print('Input: ',inputs)\n",
    "print('Output: ',a[nLayers])\n",
    "print('Expected Output: ',outputAND)"
   ]
  },
  {
   "cell_type": "markdown",
   "id": "dd94a3f0",
   "metadata": {},
   "source": [
    "## Train neural network for NAND gate\n",
    "We will use the Mean Squared Error loss function (MSE_loss)"
   ]
  },
  {
   "cell_type": "code",
   "execution_count": 13,
   "id": "82b7840f",
   "metadata": {},
   "outputs": [
    {
     "data": {
      "application/vnd.jupyter.widget-view+json": {
       "model_id": "8b5e3db32c544be69dea2a8aee507173",
       "version_major": 2,
       "version_minor": 0
      },
      "text/plain": [
       "  0%|          | 0/10000 [00:00<?, ?it/s]"
      ]
     },
     "metadata": {},
     "output_type": "display_data"
    },
    {
     "name": "stdout",
     "output_type": "stream",
     "text": [
      "Average Error with initial weights and biases: 0.21132476853556212\n"
     ]
    }
   ],
   "source": [
    "\n",
    "# Run optimization\n",
    "optWeights, optBiases, errorPlot = nn_optimize_fast(inputs, outputNAND, activation_func_names, nLayers, nEpochs=nEpochs, batchSize=batchSize, eeta=eeta, weights=weightsOriginal, biases=biasesOriginal, errorFunc=MSE_loss, gradErrorFunc=MSE_loss_grad,miniterEpoch=1,batchProgressBar=False,miniterBatch=100)\n",
    "\n"
   ]
  },
  {
   "cell_type": "markdown",
   "id": "4ca46cf5",
   "metadata": {},
   "source": [
    "### Visualize the training loss"
   ]
  },
  {
   "cell_type": "code",
   "execution_count": 14,
   "id": "8e90e1e2",
   "metadata": {},
   "outputs": [
    {
     "data": {
      "image/png": "[encoded data removed]",
      "text/plain": [
       "<Figure size 648x432 with 1 Axes>"
      ]
     },
     "metadata": {
      "needs_background": "light"
     },
     "output_type": "display_data"
    }
   ],
   "source": [
    "# Plot the error vs epochs\n",
    "plt.plot(errorPlot)\n",
    "plt.yscale('log')\n",
    "plt.show()"
   ]
  },
  {
   "cell_type": "markdown",
   "id": "fa5cb76f",
   "metadata": {},
   "source": [
    "### Optimized weights and biases"
   ]
  },
  {
   "cell_type": "code",
   "execution_count": 15,
   "id": "770846c7",
   "metadata": {},
   "outputs": [
    {
     "name": "stdout",
     "output_type": "stream",
     "text": [
      "Optimized Weights:  [array([[ 0.90667338,  1.00218951],\n",
      "       [-1.84203945, -1.57978137],\n",
      "       [-1.13194424, -1.34895649]]), array([[-2.48586749,  3.82444912,  2.5854256 ]])]\n",
      "Optimized Biases:  [array([-1.054241  ,  2.33915945,  1.56806341]), array([-0.97521519])]\n"
     ]
    }
   ],
   "source": [
    "# Optimized weights and biases\n",
    "print('Optimized Weights: ', optWeights)\n",
    "print('Optimized Biases: ', optBiases)"
   ]
  },
  {
   "cell_type": "markdown",
   "id": "cfa71972",
   "metadata": {},
   "source": [
    "### Make predictions using the optimized weights"
   ]
  },
  {
   "cell_type": "code",
   "execution_count": 16,
   "id": "0d26c68e",
   "metadata": {},
   "outputs": [
    {
     "name": "stdout",
     "output_type": "stream",
     "text": [
      "Outputs at each layer (including input layer):\n",
      "  [array([[0., 0.],\n",
      "       [0., 1.],\n",
      "       [1., 0.],\n",
      "       [1., 1.]], dtype=float32), array([[0.10827514, 0.99079097, 0.95835859],\n",
      "       [0.47399773, 0.82035525, 0.60783334],\n",
      "       [0.42674714, 0.72992459, 0.70521124],\n",
      "       [0.84673817, 0.10290803, 0.13875435]]), array([[0.99995661],\n",
      "       [0.99400495],\n",
      "       [0.9942772 ],\n",
      "       [0.00941887]])]\n",
      "Inputs at each layer :\n",
      "  [array([[-1.054241  ,  2.33915945,  1.56806341],\n",
      "       [-0.0520515 ,  0.75937808,  0.21910692],\n",
      "       [-0.14756762,  0.49712   ,  0.43611917],\n",
      "       [ 0.85462188, -1.08266137, -0.91283732]]), array([[ 5.02262162],\n",
      "       [ 2.55540404],\n",
      "       [ 2.5787786 ],\n",
      "       [-2.32778851]])]\n",
      "New Average Error with optimized weights:\n",
      " 3.935200813654528e-05\n",
      "Input:  [[0. 0.]\n",
      " [0. 1.]\n",
      " [1. 0.]\n",
      " [1. 1.]]\n",
      "Output:  [[0.99995661]\n",
      " [0.99400495]\n",
      " [0.9942772 ]\n",
      " [0.00941887]]\n",
      "Expected Output:  [[1.]\n",
      " [1.]\n",
      " [1.]\n",
      " [0.]]\n"
     ]
    }
   ],
   "source": [
    "# Forward feed with optimized weights\n",
    "# Perform Forward feed and get the outputs at each layers and the inputs at each layer\n",
    "a, z = forward_feed(inputs, nLayers, optWeights, optBiases, activation_func_names)\n",
    "print('Outputs at each layer (including input layer):\\n ',a)\n",
    "print('Inputs at each layer :\\n ', z)\n",
    "# New Error\n",
    "print('New Average Error with optimized weights:\\n', MSE_loss(a[nLayers],outputNAND)/batchSize)\n",
    "print('Input: ',inputs)\n",
    "print('Output: ',a[nLayers])\n",
    "print('Expected Output: ',outputNAND)"
   ]
  },
  {
   "cell_type": "markdown",
   "id": "025b4361",
   "metadata": {},
   "source": [
    "## Train neural network for OR gate\n",
    "We will use the Mean Squared Error loss function (MSE_loss)"
   ]
  },
  {
   "cell_type": "code",
   "execution_count": 17,
   "id": "05f386bc",
   "metadata": {},
   "outputs": [
    {
     "data": {
      "application/vnd.jupyter.widget-view+json": {
       "model_id": "2e48dff4e3864ba0bdcc2f88fe7c8412",
       "version_major": 2,
       "version_minor": 0
      },
      "text/plain": [
       "  0%|          | 0/10000 [00:00<?, ?it/s]"
      ]
     },
     "metadata": {},
     "output_type": "display_data"
    },
    {
     "name": "stdout",
     "output_type": "stream",
     "text": [
      "Average Error with initial weights and biases: 0.17229811968211609\n"
     ]
    }
   ],
   "source": [
    "\n",
    "# Run optimization\n",
    "optWeights, optBiases, errorPlot = nn_optimize_fast(inputs, outputOR, activation_func_names, nLayers, nEpochs=nEpochs, batchSize=batchSize, eeta=eeta, weights=weightsOriginal, biases=biasesOriginal, errorFunc=MSE_loss, gradErrorFunc=MSE_loss_grad,miniterEpoch=1,batchProgressBar=False,miniterBatch=100)\n",
    "\n"
   ]
  },
  {
   "cell_type": "markdown",
   "id": "708ebc97",
   "metadata": {},
   "source": [
    "### Visualize the training loss"
   ]
  },
  {
   "cell_type": "code",
   "execution_count": 18,
   "id": "268cc187",
   "metadata": {},
   "outputs": [
    {
     "data": {
      "image/png": "[encoded data removed]",
      "text/plain": [
       "<Figure size 648x432 with 1 Axes>"
      ]
     },
     "metadata": {
      "needs_background": "light"
     },
     "output_type": "display_data"
    }
   ],
   "source": [
    "# Plot the error vs epochs\n",
    "plt.plot(errorPlot)\n",
    "plt.yscale('log')\n",
    "plt.show()"
   ]
  },
  {
   "cell_type": "markdown",
   "id": "3db6437f",
   "metadata": {},
   "source": [
    "### Optimized weights and biases"
   ]
  },
  {
   "cell_type": "code",
   "execution_count": 19,
   "id": "2550afef",
   "metadata": {},
   "outputs": [
    {
     "name": "stdout",
     "output_type": "stream",
     "text": [
      "Optimized Weights:  [array([[ 2.02815088,  2.13134698],\n",
      "       [-0.6971973 , -0.69223835],\n",
      "       [ 1.85268409,  1.74806574]]), array([[ 3.28930656, -1.46949545,  2.67075294]])]\n",
      "Optimized Biases:  [array([-1.07546984,  0.40968278, -0.93880471]), array([-2.02558987])]\n"
     ]
    }
   ],
   "source": [
    "# Optimized weights and biases\n",
    "print('Optimized Weights: ', optWeights)\n",
    "print('Optimized Biases: ', optBiases)"
   ]
  },
  {
   "cell_type": "markdown",
   "id": "58703cea",
   "metadata": {},
   "source": [
    "### Make predictions using the optimized weights"
   ]
  },
  {
   "cell_type": "code",
   "execution_count": 20,
   "id": "bacdcc96",
   "metadata": {},
   "outputs": [
    {
     "name": "stdout",
     "output_type": "stream",
     "text": [
      "Outputs at each layer (including input layer):\n",
      "  [array([[0., 0.],\n",
      "       [0., 1.],\n",
      "       [1., 0.],\n",
      "       [1., 1.]], dtype=float32), array([[0.10424345, 0.69410165, 0.1326637 ],\n",
      "       [0.89204039, 0.36236567, 0.8345912 ],\n",
      "       [0.87049721, 0.36007721, 0.86149451],\n",
      "       [0.99790908, 0.12352055, 0.99514988]]), array([[0.00904249],\n",
      "       [0.99456904],\n",
      "       [0.99461586],\n",
      "       [0.99942826]])]\n",
      "Inputs at each layer :\n",
      "  [array([[-1.07546984,  0.40968278, -0.93880471],\n",
      "       [ 1.05587714, -0.28255557,  0.80926103],\n",
      "       [ 0.95268104, -0.28751452,  0.91387938],\n",
      "       [ 3.08402802, -0.97975287,  2.66194512]]), array([[-2.34836846],\n",
      "       [ 2.60509666],\n",
      "       [ 2.60944948],\n",
      "       [ 3.73312559]])]\n",
      "New Average Error with optimized weights:\n",
      " 3.514446188629844e-05\n",
      "Input:  [[0. 0.]\n",
      " [0. 1.]\n",
      " [1. 0.]\n",
      " [1. 1.]]\n",
      "Output:  [[0.00904249]\n",
      " [0.99456904]\n",
      " [0.99461586]\n",
      " [0.99942826]]\n",
      "Expected Output:  [[0.]\n",
      " [1.]\n",
      " [1.]\n",
      " [1.]]\n"
     ]
    }
   ],
   "source": [
    "# Forward feed with optimized weights\n",
    "# Perform Forward feed and get the outputs at each layers and the inputs at each layer\n",
    "a, z = forward_feed(inputs, nLayers, optWeights, optBiases, activation_func_names)\n",
    "print('Outputs at each layer (including input layer):\\n ',a)\n",
    "print('Inputs at each layer :\\n ', z)\n",
    "# New Error\n",
    "print('New Average Error with optimized weights:\\n', MSE_loss(a[nLayers],outputOR)/batchSize)\n",
    "print('Input: ',inputs)\n",
    "print('Output: ',a[nLayers])\n",
    "print('Expected Output: ',outputOR)"
   ]
  },
  {
   "cell_type": "markdown",
   "id": "41614673",
   "metadata": {},
   "source": [
    "## Train neural network for XOR gate\n",
    "We will use the Mean Squared Error loss function (MSE_loss)"
   ]
  },
  {
   "cell_type": "code",
   "execution_count": 21,
   "id": "6f7d4d6a",
   "metadata": {},
   "outputs": [
    {
     "data": {
      "application/vnd.jupyter.widget-view+json": {
       "model_id": "d5227ab767144e088d125f4e27b21e74",
       "version_major": 2,
       "version_minor": 0
      },
      "text/plain": [
       "  0%|          | 0/10000 [00:00<?, ?it/s]"
      ]
     },
     "metadata": {},
     "output_type": "display_data"
    },
    {
     "name": "stdout",
     "output_type": "stream",
     "text": [
      "Average Error with initial weights and biases: 0.35010493035870915\n"
     ]
    }
   ],
   "source": [
    "\n",
    "# Run optimization\n",
    "optWeights, optBiases, errorPlot = nn_optimize_fast(inputs, outputXOR, activation_func_names, nLayers, nEpochs=nEpochs, batchSize=batchSize, eeta=eeta, weights=weightsOriginal, biases=biasesOriginal, errorFunc=MSE_loss, gradErrorFunc=MSE_loss_grad,miniterEpoch=1,batchProgressBar=False,miniterBatch=100)\n",
    "\n"
   ]
  },
  {
   "cell_type": "markdown",
   "id": "d5968459",
   "metadata": {},
   "source": [
    "### Visualize the training loss"
   ]
  },
  {
   "cell_type": "code",
   "execution_count": 22,
   "id": "3d179c16",
   "metadata": {},
   "outputs": [
    {
     "data": {
      "image/png": "[encoded data removed]",
      "text/plain": [
       "<Figure size 648x432 with 1 Axes>"
      ]
     },
     "metadata": {
      "needs_background": "light"
     },
     "output_type": "display_data"
    }
   ],
   "source": [
    "# Plot the error vs epochs\n",
    "plt.plot(errorPlot)\n",
    "plt.yscale('log')\n",
    "plt.show()"
   ]
  },
  {
   "cell_type": "markdown",
   "id": "25cb08b9",
   "metadata": {},
   "source": [
    "### Optimized weights and biases"
   ]
  },
  {
   "cell_type": "code",
   "execution_count": 23,
   "id": "31d4bfa6",
   "metadata": {},
   "outputs": [
    {
     "name": "stdout",
     "output_type": "stream",
     "text": [
      "Optimized Weights:  [array([[ 3.37862764,  3.36774344],\n",
      "       [-0.26976856, -0.32924483],\n",
      "       [ 2.42436415,  2.42020363]]), array([[ 5.18982444,  0.0233883 , -5.48656225]])]\n",
      "Optimized Biases:  [array([-1.49381292,  0.02177776, -3.70793679]), array([-2.44530581])]\n"
     ]
    }
   ],
   "source": [
    "# Optimized weights and biases\n",
    "print('Optimized Weights: ', optWeights)\n",
    "print('Optimized Biases: ', optBiases)"
   ]
  },
  {
   "cell_type": "markdown",
   "id": "f9d62182",
   "metadata": {},
   "source": [
    "### Make predictions using the optimized weights"
   ]
  },
  {
   "cell_type": "code",
   "execution_count": 24,
   "id": "58de2485",
   "metadata": {},
   "outputs": [
    {
     "name": "stdout",
     "output_type": "stream",
     "text": [
      "Outputs at each layer (including input layer):\n",
      "  [array([[0., 0.],\n",
      "       [0., 1.],\n",
      "       [1., 0.],\n",
      "       [1., 1.]], dtype=float32), array([[4.79880372e-02, 5.10887157e-01, 6.01264855e-04],\n",
      "       [9.76974562e-01, 3.50934478e-01, 7.07341544e-02],\n",
      "       [9.77459197e-01, 3.78485469e-01, 7.12830605e-02],\n",
      "       [9.99972605e-01, 2.39673337e-01, 9.06638266e-01]]), array([[0.01242904],\n",
      "       [0.98890696],\n",
      "       [0.9889102 ],\n",
      "       [0.0115587 ]])]\n",
      "Inputs at each layer :\n",
      "  [array([[-1.49381292,  0.02177776, -3.70793679],\n",
      "       [ 1.87393051, -0.30746707, -1.28773316],\n",
      "       [ 1.88481472, -0.2479908 , -1.28357264],\n",
      "       [ 5.25255815, -0.57723563,  1.13663099]]), array([[-2.18760641],\n",
      "       [ 2.24514108],\n",
      "       [ 2.24528901],\n",
      "       [-2.22434528]])]\n",
      "New Average Error with optimized weights:\n",
      " 0.0001335309518508381\n",
      "Input:  [[0. 0.]\n",
      " [0. 1.]\n",
      " [1. 0.]\n",
      " [1. 1.]]\n",
      "Output:  [[0.01242904]\n",
      " [0.98890696]\n",
      " [0.9889102 ]\n",
      " [0.0115587 ]]\n",
      "Expected Output:  [[0.]\n",
      " [1.]\n",
      " [1.]\n",
      " [0.]]\n"
     ]
    }
   ],
   "source": [
    "# Forward feed with optimized weights\n",
    "# Perform Forward feed and get the outputs at each layers and the inputs at each layer\n",
    "a, z = forward_feed(inputs, nLayers, optWeights, optBiases, activation_func_names)\n",
    "print('Outputs at each layer (including input layer):\\n ',a)\n",
    "print('Inputs at each layer :\\n ', z)\n",
    "# New Error\n",
    "print('New Average Error with optimized weights:\\n', MSE_loss(a[nLayers],outputXOR)/batchSize)\n",
    "print('Input: ',inputs)\n",
    "print('Output: ',a[nLayers])\n",
    "print('Expected Output: ',outputXOR)"
   ]
  }
 ],
 "metadata": {
  "kernelspec": {
   "display_name": "Python 3 (ipykernel)",
   "language": "python",
   "name": "python3"
  },
  "language_info": {
   "codemirror_mode": {
    "name": "ipython",
    "version": 3
   },
   "file_extension": ".py",
   "mimetype": "text/x-python",
   "name": "python",
   "nbconvert_exporter": "python",
   "pygments_lexer": "ipython3",
   "version": "3.7.11"
  }
 },
 "nbformat": 4,
 "nbformat_minor": 5
}
