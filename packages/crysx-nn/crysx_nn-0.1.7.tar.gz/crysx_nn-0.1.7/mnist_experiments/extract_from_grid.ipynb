{
 "cells": [
  {
   "cell_type": "markdown",
   "id": "2f269deb",
   "metadata": {},
   "source": [
    "# Extract the grid boxes (individual images) from the larger grid image used for handwriting data generation"
   ]
  },
  {
   "cell_type": "markdown",
   "id": "34ba520f",
   "metadata": {},
   "source": [
    "## Directory in which the images/data would be extracted to"
   ]
  },
  {
   "cell_type": "code",
   "execution_count": 1,
   "id": "d5542863",
   "metadata": {},
   "outputs": [],
   "source": [
    "dir_name = 'mnist_plus_png/4'"
   ]
  },
  {
   "cell_type": "markdown",
   "id": "a05176b8",
   "metadata": {},
   "source": [
    "## Extract the images from the grid and perform processing"
   ]
  },
  {
   "cell_type": "code",
   "execution_count": 2,
   "id": "c271faf9",
   "metadata": {},
   "outputs": [],
   "source": [
    "from PIL import Image\n",
    "import cv2\n",
    "import numpy as np\n",
    "import image_slicer\n",
    "# import torchvision, torch\n",
    "\n",
    "filename_ = dir_name+'/4_grid_225'\n",
    "filename = filename_+'.png'\n",
    "img = Image.open(filename, mode='r')\n",
    "\n",
    "\n",
    "\n",
    "image_slicer.slice(filename, 225)\n",
    "\n",
    "for i in range(1,16,1):\n",
    "    for j in range(1,16,1):\n",
    "        tilename = filename_+'_'+str(i).zfill(2)+'_'+str(j).zfill(2)+'.png'\n",
    "#         print(tilename)\n",
    "        tileImg = Image.open(tilename, mode='r')\n",
    "        w, h = tileImg.size\n",
    "        tileImg = tileImg.crop((2, 2, w-2, h-2))\n",
    "        tileImg.save(tilename)\n",
    "        \n",
    "        ###### Centering begin\n",
    "        # Load image as grayscale and obtain bounding box coordinates\n",
    "        image = cv2.imread(tilename, 0)\n",
    "\n",
    "        height, width = image.shape\n",
    "        x,y,w,h = cv2.boundingRect(image)\n",
    "\n",
    "        # Create new blank image and shift ROI to new coordinates\n",
    "        ROI = image[y:y+h, x:x+w]\n",
    "        mask = np.zeros([ROI.shape[0]+10,ROI.shape[1]+10])\n",
    "        width, height = mask.shape\n",
    "        #     print(ROI.shape)\n",
    "        #     print(mask.shape)\n",
    "        x = width//2 - ROI.shape[0]//2 \n",
    "        y = height//2 - ROI.shape[1]//2 \n",
    "        #     print(x,y)\n",
    "        mask[y:y+h, x:x+w] = ROI\n",
    "\n",
    "        output_image = Image.fromarray(mask)\n",
    "        compressed_output_image = output_image.resize((22,22))\n",
    "        \n",
    "        image_array = np.array(compressed_output_image.getdata()).reshape(22,22)\n",
    "#         print(image_array.shape)\n",
    "        image_array = np.pad(image_array, (3,3),'constant', constant_values=(0,0))\n",
    "        padded_output_image = Image.fromarray(image_array)\n",
    "        padded_output_image = padded_output_image.convert(\"L\")\n",
    "        padded_output_image.save(tilename)\n",
    "#         convert_tensor = torchvision.transforms.ToTensor() # Normalization\n",
    "#         tensor_image = convert_tensor(compressed_output_image) \n",
    "#         tensor_image = torch.nn.functional.pad(tensor_image, (3,3,3,3), \"constant\", 0) # Padding\n",
    "#         # Standardization should be done after padding i guess\n",
    "#         convert_tensor = torchvision.transforms.Normalize((0.1307), (0.3081)) # Standardization (mean and std from MNIST)\n",
    "#         tensor_image = convert_tensor(tensor_image)\n",
    "#         # plt.imshow(tensor_image.detach().cpu().numpy().reshape(28,28), cmap='viridis')\n",
    "\n",
    "#         processed_image = Image.fromarray(tensor_image.detach().cpu().numpy().reshape(28,28))\n",
    "#         processed_image = processed_image.convert(\"L\")\n",
    "#         processed_image.save(tilename)\n",
    "        "
   ]
  },
  {
   "cell_type": "code",
   "execution_count": null,
   "id": "e5b2f1fc",
   "metadata": {},
   "outputs": [],
   "source": [
    "\n"
   ]
  }
 ],
 "metadata": {
  "kernelspec": {
   "display_name": "Python 3 (ipykernel)",
   "language": "python",
   "name": "python3"
  },
  "language_info": {
   "codemirror_mode": {
    "name": "ipython",
    "version": 3
   },
   "file_extension": ".py",
   "mimetype": "text/x-python",
   "name": "python",
   "nbconvert_exporter": "python",
   "pygments_lexer": "ipython3",
   "version": "3.7.11"
  }
 },
 "nbformat": 4,
 "nbformat_minor": 5
}
