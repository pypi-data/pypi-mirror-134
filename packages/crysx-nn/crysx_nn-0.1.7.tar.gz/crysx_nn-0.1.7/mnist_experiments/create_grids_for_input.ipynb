{
 "cells": [
  {
   "cell_type": "markdown",
   "id": "61cbaf51",
   "metadata": {},
   "source": [
    "# This code can be used to generate a blank grid where a user can enter their handwritten digits, which can later be processed and included in the handwriting recognition training dataset"
   ]
  },
  {
   "cell_type": "markdown",
   "id": "f0deebe9",
   "metadata": {},
   "source": [
    "grids are of 200x200 sizes which will later be scaled down and processed."
   ]
  },
  {
   "cell_type": "code",
   "execution_count": 2,
   "id": "18fc9706",
   "metadata": {},
   "outputs": [],
   "source": [
    "from PIL import Image, ImageDraw\n",
    "\n",
    "# Load the image\n",
    "height = 3000\n",
    "width = 3000\n",
    "img = Image.new(mode='L', size=(height, width), color=0)\n",
    "img.show()\n",
    "\n",
    "## Draw grids\n",
    "# draw horizontal lines\n",
    "draw = ImageDraw.Draw(img, mode='L')\n",
    "for i in range(200, img.height,200):\n",
    "    x_start = 0.0\n",
    "    x_end = img.width\n",
    "    y_start = i\n",
    "    y_end = i\n",
    "    line = ((x_start, y_start), (x_end, y_end))\n",
    "    draw.line(line, fill=200,width=1)\n",
    "# draw vertical lines\n",
    "draw = ImageDraw.Draw(img, mode='L')\n",
    "for i in range(200, img.height,200):\n",
    "    x_start = i\n",
    "    x_end = i\n",
    "    y_start = img.height\n",
    "    y_end = 0\n",
    "    line = ((x_start, y_start), (x_end, y_end))\n",
    "    draw.line(line, fill=200,width=1)\n",
    "\n",
    "img.save('empty_grid.png')"
   ]
  },
  {
   "cell_type": "code",
   "execution_count": null,
   "id": "b1dfd44f",
   "metadata": {},
   "outputs": [],
   "source": []
  }
 ],
 "metadata": {
  "kernelspec": {
   "display_name": "Python 3 (ipykernel)",
   "language": "python",
   "name": "python3"
  },
  "language_info": {
   "codemirror_mode": {
    "name": "ipython",
    "version": 3
   },
   "file_extension": ".py",
   "mimetype": "text/x-python",
   "name": "python",
   "nbconvert_exporter": "python",
   "pygments_lexer": "ipython3",
   "version": "3.7.11"
  }
 },
 "nbformat": 4,
 "nbformat_minor": 5
}
