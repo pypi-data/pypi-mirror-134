{
 "cells": [
  {
   "cell_type": "markdown",
   "metadata": {
    "execution": {
     "iopub.execute_input": "2021-12-26T22:07:49.572013Z",
     "iopub.status.busy": "2021-12-26T22:07:49.571647Z",
     "iopub.status.idle": "2021-12-26T22:07:49.593881Z",
     "shell.execute_reply": "2021-12-26T22:07:49.593150Z",
     "shell.execute_reply.started": "2021-12-26T22:07:49.571919Z"
    }
   },
   "source": [
    "# CuPy vs NumPy einsum performance"
   ]
  },
  {
   "cell_type": "code",
   "execution_count": 1,
   "metadata": {
    "execution": {
     "iopub.execute_input": "2021-12-26T23:08:02.541366Z",
     "iopub.status.busy": "2021-12-26T23:08:02.540923Z",
     "iopub.status.idle": "2021-12-26T23:08:04.761072Z",
     "shell.execute_reply": "2021-12-26T23:08:04.760283Z",
     "shell.execute_reply.started": "2021-12-26T23:08:02.541273Z"
    }
   },
   "outputs": [],
   "source": [
    "import cupy as cp\n",
    "import numpy as np"
   ]
  },
  {
   "cell_type": "code",
   "execution_count": 2,
   "metadata": {
    "execution": {
     "iopub.execute_input": "2021-12-26T23:08:04.763270Z",
     "iopub.status.busy": "2021-12-26T23:08:04.762974Z",
     "iopub.status.idle": "2021-12-26T23:08:04.767285Z",
     "shell.execute_reply": "2021-12-26T23:08:04.766429Z",
     "shell.execute_reply.started": "2021-12-26T23:08:04.763235Z"
    }
   },
   "outputs": [],
   "source": [
    "nsize = 500"
   ]
  },
  {
   "cell_type": "code",
   "execution_count": 3,
   "metadata": {
    "execution": {
     "iopub.execute_input": "2021-12-26T23:08:04.769113Z",
     "iopub.status.busy": "2021-12-26T23:08:04.768551Z",
     "iopub.status.idle": "2021-12-26T23:08:05.202138Z",
     "shell.execute_reply": "2021-12-26T23:08:05.201400Z",
     "shell.execute_reply.started": "2021-12-26T23:08:04.769076Z"
    }
   },
   "outputs": [],
   "source": [
    "a = np.random.rand(nsize,nsize).astype(np.float32)\n",
    "b = np.random.rand(nsize,nsize).astype(np.float32)\n",
    "\n",
    "a_cupy = cp.asarray(a)\n",
    "b_cupy = cp.asarray(b)"
   ]
  },
  {
   "cell_type": "markdown",
   "metadata": {},
   "source": [
    "CuPy"
   ]
  },
  {
   "cell_type": "code",
   "execution_count": 4,
   "metadata": {
    "execution": {
     "iopub.execute_input": "2021-12-26T23:08:05.203702Z",
     "iopub.status.busy": "2021-12-26T23:08:05.203459Z",
     "iopub.status.idle": "2021-12-26T23:08:39.184060Z",
     "shell.execute_reply": "2021-12-26T23:08:39.183303Z",
     "shell.execute_reply.started": "2021-12-26T23:08:05.203670Z"
    }
   },
   "outputs": [
    {
     "name": "stdout",
     "output_type": "stream",
     "text": [
      "81.3 µs ± 39.9 µs per loop (mean ± std. dev. of 7 runs, 1 loop each)\n",
      "4.24 ms ± 54.7 µs per loop (mean ± std. dev. of 7 runs, 1000 loops each)\n"
     ]
    }
   ],
   "source": [
    "%timeit cp.einsum('ij,jk->ijk',a_cupy,b_cupy)\n",
    "%timeit cp.einsum('ij,ik->ijk',a_cupy,a_cupy)"
   ]
  },
  {
   "cell_type": "markdown",
   "metadata": {},
   "source": [
    "NumPy"
   ]
  },
  {
   "cell_type": "code",
   "execution_count": 5,
   "metadata": {
    "execution": {
     "iopub.execute_input": "2021-12-26T23:08:39.196688Z",
     "iopub.status.busy": "2021-12-26T23:08:39.186230Z",
     "iopub.status.idle": "2021-12-26T23:08:55.240375Z",
     "shell.execute_reply": "2021-12-26T23:08:55.238796Z",
     "shell.execute_reply.started": "2021-12-26T23:08:39.196650Z"
    }
   },
   "outputs": [
    {
     "name": "stdout",
     "output_type": "stream",
     "text": [
      "210 ms ± 5.01 ms per loop (mean ± std. dev. of 7 runs, 1 loop each)\n",
      "151 ms ± 31.6 ms per loop (mean ± std. dev. of 7 runs, 10 loops each)\n"
     ]
    }
   ],
   "source": [
    "%timeit np.einsum('ij,jk->ijk',a,b)\n",
    "%timeit np.einsum('ij,ik->ijk',a,a)"
   ]
  },
  {
   "cell_type": "markdown",
   "metadata": {},
   "source": [
    "## SoftmaxTimesVector (the name of one of the functions in crysx_n)"
   ]
  },
  {
   "cell_type": "code",
   "execution_count": 6,
   "metadata": {
    "execution": {
     "iopub.execute_input": "2021-12-26T23:10:47.852511Z",
     "iopub.status.busy": "2021-12-26T23:10:47.852250Z",
     "iopub.status.idle": "2021-12-26T23:10:47.958093Z",
     "shell.execute_reply": "2021-12-26T23:10:47.957241Z",
     "shell.execute_reply.started": "2021-12-26T23:10:47.852484Z"
    }
   },
   "outputs": [],
   "source": [
    "a = np.random.rand(32,nsize,nsize).astype(np.float32)\n",
    "b = np.random.rand(32,nsize).astype(np.float32)\n",
    "\n",
    "a_cupy = cp.asarray(a)\n",
    "b_cupy = cp.asarray(b)"
   ]
  },
  {
   "cell_type": "code",
   "execution_count": 7,
   "metadata": {
    "execution": {
     "iopub.execute_input": "2021-12-26T23:10:48.174927Z",
     "iopub.status.busy": "2021-12-26T23:10:48.174216Z",
     "iopub.status.idle": "2021-12-26T23:10:48.178594Z",
     "shell.execute_reply": "2021-12-26T23:10:48.177922Z",
     "shell.execute_reply.started": "2021-12-26T23:10:48.174892Z"
    }
   },
   "outputs": [],
   "source": [
    "from numba import njit, prange, cuda"
   ]
  },
  {
   "cell_type": "code",
   "execution_count": 8,
   "metadata": {
    "execution": {
     "iopub.execute_input": "2021-12-26T23:10:48.507166Z",
     "iopub.status.busy": "2021-12-26T23:10:48.506620Z",
     "iopub.status.idle": "2021-12-26T23:10:48.511792Z",
     "shell.execute_reply": "2021-12-26T23:10:48.510833Z",
     "shell.execute_reply.started": "2021-12-26T23:10:48.507130Z"
    }
   },
   "outputs": [],
   "source": [
    "def softmaxTimesVector_cupy(a,b):\n",
    "    # Reference: https://stackoverflow.com/questions/59289754/numpy-multiply-3d-array-with-2d-array\n",
    "    ## Both the following methods are equally fast and give correct results\n",
    "    output = cp.einsum('ijk,ik->ij',a,b)\n",
    "    # output = (a @ b[..., cp.newaxis])[..., 0]\n",
    "    return output"
   ]
  },
  {
   "cell_type": "code",
   "execution_count": 9,
   "metadata": {
    "execution": {
     "iopub.execute_input": "2021-12-26T23:11:04.594521Z",
     "iopub.status.busy": "2021-12-26T23:11:04.594261Z",
     "iopub.status.idle": "2021-12-26T23:11:07.725540Z",
     "shell.execute_reply": "2021-12-26T23:11:07.724898Z",
     "shell.execute_reply.started": "2021-12-26T23:11:04.594492Z"
    }
   },
   "outputs": [
    {
     "name": "stdout",
     "output_type": "stream",
     "text": [
      "449 µs ± 117 µs per loop (mean ± std. dev. of 7 runs, 1 loop each)\n"
     ]
    }
   ],
   "source": [
    "\n",
    "\n",
    "%timeit softmaxTimesVector_cupy(a_cupy,b_cupy)"
   ]
  },
  {
   "cell_type": "code",
   "execution_count": 10,
   "metadata": {
    "execution": {
     "iopub.execute_input": "2021-12-26T23:11:07.731283Z",
     "iopub.status.busy": "2021-12-26T23:11:07.729500Z",
     "iopub.status.idle": "2021-12-26T23:11:07.739147Z",
     "shell.execute_reply": "2021-12-26T23:11:07.738252Z",
     "shell.execute_reply.started": "2021-12-26T23:11:07.731247Z"
    }
   },
   "outputs": [],
   "source": [
    "@njit(cache=False,fastmath=True, parallel=False) #Works faster without tha parallel flag\n",
    "def softmaxTimesVector(a,b):\n",
    "    output = np.zeros((a.shape[0],a.shape[1]),dtype=np.float32)\n",
    "    for i in prange(a.shape[0]):\n",
    "#         a_temp = \n",
    "#         output[i,:] = np.dot(a[i,:,:], b[i,:]).T \n",
    "        output[i] = np.dot(a[i], b[i])\n",
    "    return output"
   ]
  },
  {
   "cell_type": "code",
   "execution_count": 11,
   "metadata": {
    "execution": {
     "iopub.execute_input": "2021-12-26T23:11:07.746182Z",
     "iopub.status.busy": "2021-12-26T23:11:07.743565Z",
     "iopub.status.idle": "2021-12-26T23:11:07.998016Z",
     "shell.execute_reply": "2021-12-26T23:11:07.997081Z",
     "shell.execute_reply.started": "2021-12-26T23:11:07.745997Z"
    }
   },
   "outputs": [
    {
     "name": "stdout",
     "output_type": "stream",
     "text": [
      "5.41 ms ± 593 µs per loop (mean ± std. dev. of 7 runs, 1 loop each)\n"
     ]
    }
   ],
   "source": [
    "%timeit softmaxTimesVector(a,b)"
   ]
  },
  {
   "cell_type": "code",
   "execution_count": null,
   "metadata": {},
   "outputs": [],
   "source": []
  },
  {
   "cell_type": "code",
   "execution_count": null,
   "metadata": {},
   "outputs": [],
   "source": []
  }
 ],
 "metadata": {
  "kernelspec": {
   "display_name": "Python 3 (ipykernel)",
   "language": "python",
   "name": "python3"
  },
  "language_info": {
   "codemirror_mode": {
    "name": "ipython",
    "version": 3
   },
   "file_extension": ".py",
   "mimetype": "text/x-python",
   "name": "python",
   "nbconvert_exporter": "python",
   "pygments_lexer": "ipython3",
   "version": "3.7.11"
  }
 },
 "nbformat": 4,
 "nbformat_minor": 4
}
