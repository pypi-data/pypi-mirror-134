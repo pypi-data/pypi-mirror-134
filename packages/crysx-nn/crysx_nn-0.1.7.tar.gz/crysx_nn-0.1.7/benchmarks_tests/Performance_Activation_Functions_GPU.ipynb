{
 "cells": [
  {
   "cell_type": "markdown",
   "id": "6552ade6",
   "metadata": {
    "id": "6552ade6"
   },
   "source": [
    "# Performance as well as Validation benchmarks for activation function implementations in the different frameworks\n",
    "\n",
    "# GPU versions only\n"
   ]
  },
  {
   "cell_type": "markdown",
   "id": "N57upmF3l9fG",
   "metadata": {
    "id": "N57upmF3l9fG"
   },
   "source": [
    "## Run the following for Google colab \n",
    "then restart runtime"
   ]
  },
  {
   "cell_type": "code",
   "execution_count": 1,
   "id": "s1vpf81h3qfU",
   "metadata": {
    "colab": {
     "base_uri": "https://localhost:8080/",
     "height": 1000
    },
    "id": "s1vpf81h3qfU",
    "outputId": "2671637b-a50f-4069-887a-198453dd7069"
   },
   "outputs": [
    {
     "name": "stdout",
     "output_type": "stream",
     "text": [
      "Collecting https://github.com/manassharma07/crysx_nn/tarball/main\n",
      "  Downloading https://github.com/manassharma07/crysx_nn/tarball/main (8.2 MB)\n",
      "\u001b[K     |████████████████████████████████| 8.2 MB 4.4 MB/s \n",
      "\u001b[?25hCollecting numba>=0.54.1\n",
      "  Downloading numba-0.54.1-cp37-cp37m-manylinux2014_x86_64.manylinux_2_17_x86_64.whl (3.3 MB)\n",
      "\u001b[K     |████████████████████████████████| 3.3 MB 12.9 MB/s \n",
      "\u001b[?25hCollecting numpy==1.19.2\n",
      "  Downloading numpy-1.19.2-cp37-cp37m-manylinux2010_x86_64.whl (14.5 MB)\n",
      "\u001b[K     |████████████████████████████████| 14.5 MB 19.6 MB/s \n",
      "\u001b[?25hRequirement already satisfied: autograd in /usr/local/lib/python3.7/dist-packages (from crysx-nn==0.1.6) (1.3)\n",
      "Requirement already satisfied: tqdm in /usr/local/lib/python3.7/dist-packages (from crysx-nn==0.1.6) (4.62.3)\n",
      "Requirement already satisfied: opt_einsum in /usr/local/lib/python3.7/dist-packages (from crysx-nn==0.1.6) (3.3.0)\n",
      "Collecting nnv\n",
      "  Downloading nnv-0.0.5-py3-none-any.whl (4.9 kB)\n",
      "Requirement already satisfied: matplotlib in /usr/local/lib/python3.7/dist-packages (from crysx-nn==0.1.6) (3.2.2)\n",
      "Requirement already satisfied: numexpr in /usr/local/lib/python3.7/dist-packages (from crysx-nn==0.1.6) (2.7.3)\n",
      "Requirement already satisfied: tomli in /usr/local/lib/python3.7/dist-packages (from crysx-nn==0.1.6) (1.2.2)\n",
      "Collecting llvmlite<0.38,>=0.37.0rc1\n",
      "  Downloading llvmlite-0.37.0-cp37-cp37m-manylinux2014_x86_64.whl (26.3 MB)\n",
      "\u001b[K     |████████████████████████████████| 26.3 MB 1.7 MB/s \n",
      "\u001b[?25hRequirement already satisfied: setuptools in /usr/local/lib/python3.7/dist-packages (from numba>=0.54.1->crysx-nn==0.1.6) (57.4.0)\n",
      "Requirement already satisfied: future>=0.15.2 in /usr/local/lib/python3.7/dist-packages (from autograd->crysx-nn==0.1.6) (0.16.0)\n",
      "Requirement already satisfied: cycler>=0.10 in /usr/local/lib/python3.7/dist-packages (from matplotlib->crysx-nn==0.1.6) (0.11.0)\n",
      "Requirement already satisfied: kiwisolver>=1.0.1 in /usr/local/lib/python3.7/dist-packages (from matplotlib->crysx-nn==0.1.6) (1.3.2)\n",
      "Requirement already satisfied: python-dateutil>=2.1 in /usr/local/lib/python3.7/dist-packages (from matplotlib->crysx-nn==0.1.6) (2.8.2)\n",
      "Requirement already satisfied: pyparsing!=2.0.4,!=2.1.2,!=2.1.6,>=2.0.1 in /usr/local/lib/python3.7/dist-packages (from matplotlib->crysx-nn==0.1.6) (3.0.6)\n",
      "Requirement already satisfied: six>=1.5 in /usr/local/lib/python3.7/dist-packages (from python-dateutil>=2.1->matplotlib->crysx-nn==0.1.6) (1.15.0)\n",
      "Building wheels for collected packages: crysx-nn\n",
      "  Building wheel for crysx-nn (setup.py) ... \u001b[?25l\u001b[?25hdone\n",
      "  Created wheel for crysx-nn: filename=crysx_nn-0.1.6-py3-none-any.whl size=16785 sha256=e5f85be760f9ab68cee78843c8b0363768972c68e3022d47c82fb5786e215437\n",
      "  Stored in directory: /tmp/pip-ephem-wheel-cache-6ivu6vk9/wheels/03/f2/75/44d7d7a633df57a5b8fcc71630e2452ea280c9aad937ebe2a0\n",
      "Successfully built crysx-nn\n",
      "Installing collected packages: numpy, llvmlite, numba, nnv, crysx-nn\n",
      "  Attempting uninstall: numpy\n",
      "    Found existing installation: numpy 1.19.5\n",
      "    Uninstalling numpy-1.19.5:\n",
      "      Successfully uninstalled numpy-1.19.5\n",
      "  Attempting uninstall: llvmlite\n",
      "    Found existing installation: llvmlite 0.34.0\n",
      "    Uninstalling llvmlite-0.34.0:\n",
      "      Successfully uninstalled llvmlite-0.34.0\n",
      "  Attempting uninstall: numba\n",
      "    Found existing installation: numba 0.51.2\n",
      "    Uninstalling numba-0.51.2:\n",
      "      Successfully uninstalled numba-0.51.2\n",
      "\u001b[31mERROR: pip's dependency resolver does not currently take into account all the packages that are installed. This behaviour is the source of the following dependency conflicts.\n",
      "datascience 0.10.6 requires folium==0.2.1, but you have folium 0.8.3 which is incompatible.\n",
      "albumentations 0.1.12 requires imgaug<0.2.7,>=0.2.5, but you have imgaug 0.2.9 which is incompatible.\u001b[0m\n",
      "Successfully installed crysx-nn-0.1.6 llvmlite-0.37.0 nnv-0.0.5 numba-0.54.1 numpy-1.19.2\n"
     ]
    },
    {
     "data": {
      "application/vnd.colab-display-data+json": {
       "pip_warning": {
        "packages": [
         "numpy"
        ]
       }
      }
     },
     "metadata": {},
     "output_type": "display_data"
    },
    {
     "name": "stdout",
     "output_type": "stream",
     "text": [
      "Collecting IPython==7.7.0\n",
      "  Downloading ipython-7.7.0-py3-none-any.whl (774 kB)\n",
      "\u001b[?25l\r",
      "\u001b[K     |▍                               | 10 kB 22.4 MB/s eta 0:00:01\r",
      "\u001b[K     |▉                               | 20 kB 28.2 MB/s eta 0:00:01\r",
      "\u001b[K     |█▎                              | 30 kB 20.4 MB/s eta 0:00:01\r",
      "\u001b[K     |█▊                              | 40 kB 16.3 MB/s eta 0:00:01\r",
      "\u001b[K     |██▏                             | 51 kB 14.8 MB/s eta 0:00:01\r",
      "\u001b[K     |██▌                             | 61 kB 12.9 MB/s eta 0:00:01\r",
      "\u001b[K     |███                             | 71 kB 12.1 MB/s eta 0:00:01\r",
      "\u001b[K     |███▍                            | 81 kB 13.3 MB/s eta 0:00:01\r",
      "\u001b[K     |███▉                            | 92 kB 13.5 MB/s eta 0:00:01\r",
      "\u001b[K     |████▎                           | 102 kB 11.9 MB/s eta 0:00:01\r",
      "\u001b[K     |████▋                           | 112 kB 11.9 MB/s eta 0:00:01\r",
      "\u001b[K     |█████                           | 122 kB 11.9 MB/s eta 0:00:01\r",
      "\u001b[K     |█████▌                          | 133 kB 11.9 MB/s eta 0:00:01\r",
      "\u001b[K     |██████                          | 143 kB 11.9 MB/s eta 0:00:01\r",
      "\u001b[K     |██████▍                         | 153 kB 11.9 MB/s eta 0:00:01\r",
      "\u001b[K     |██████▊                         | 163 kB 11.9 MB/s eta 0:00:01\r",
      "\u001b[K     |███████▏                        | 174 kB 11.9 MB/s eta 0:00:01\r",
      "\u001b[K     |███████▋                        | 184 kB 11.9 MB/s eta 0:00:01\r",
      "\u001b[K     |████████                        | 194 kB 11.9 MB/s eta 0:00:01\r",
      "\u001b[K     |████████▌                       | 204 kB 11.9 MB/s eta 0:00:01\r",
      "\u001b[K     |████████▉                       | 215 kB 11.9 MB/s eta 0:00:01\r",
      "\u001b[K     |█████████▎                      | 225 kB 11.9 MB/s eta 0:00:01\r",
      "\u001b[K     |█████████▊                      | 235 kB 11.9 MB/s eta 0:00:01\r",
      "\u001b[K     |██████████▏                     | 245 kB 11.9 MB/s eta 0:00:01\r",
      "\u001b[K     |██████████▋                     | 256 kB 11.9 MB/s eta 0:00:01\r",
      "\u001b[K     |███████████                     | 266 kB 11.9 MB/s eta 0:00:01\r",
      "\u001b[K     |███████████▍                    | 276 kB 11.9 MB/s eta 0:00:01\r",
      "\u001b[K     |███████████▉                    | 286 kB 11.9 MB/s eta 0:00:01\r",
      "\u001b[K     |████████████▎                   | 296 kB 11.9 MB/s eta 0:00:01\r",
      "\u001b[K     |████████████▊                   | 307 kB 11.9 MB/s eta 0:00:01\r",
      "\u001b[K     |█████████████▏                  | 317 kB 11.9 MB/s eta 0:00:01\r",
      "\u001b[K     |█████████████▌                  | 327 kB 11.9 MB/s eta 0:00:01\r",
      "\u001b[K     |██████████████                  | 337 kB 11.9 MB/s eta 0:00:01\r",
      "\u001b[K     |██████████████▍                 | 348 kB 11.9 MB/s eta 0:00:01\r",
      "\u001b[K     |██████████████▉                 | 358 kB 11.9 MB/s eta 0:00:01\r",
      "\u001b[K     |███████████████▎                | 368 kB 11.9 MB/s eta 0:00:01\r",
      "\u001b[K     |███████████████▋                | 378 kB 11.9 MB/s eta 0:00:01\r",
      "\u001b[K     |████████████████                | 389 kB 11.9 MB/s eta 0:00:01\r",
      "\u001b[K     |████████████████▌               | 399 kB 11.9 MB/s eta 0:00:01\r",
      "\u001b[K     |█████████████████               | 409 kB 11.9 MB/s eta 0:00:01\r",
      "\u001b[K     |█████████████████▍              | 419 kB 11.9 MB/s eta 0:00:01\r",
      "\u001b[K     |█████████████████▊              | 430 kB 11.9 MB/s eta 0:00:01\r",
      "\u001b[K     |██████████████████▏             | 440 kB 11.9 MB/s eta 0:00:01\r",
      "\u001b[K     |██████████████████▋             | 450 kB 11.9 MB/s eta 0:00:01\r",
      "\u001b[K     |███████████████████             | 460 kB 11.9 MB/s eta 0:00:01\r",
      "\u001b[K     |███████████████████▌            | 471 kB 11.9 MB/s eta 0:00:01\r",
      "\u001b[K     |███████████████████▉            | 481 kB 11.9 MB/s eta 0:00:01\r",
      "\u001b[K     |████████████████████▎           | 491 kB 11.9 MB/s eta 0:00:01\r",
      "\u001b[K     |████████████████████▊           | 501 kB 11.9 MB/s eta 0:00:01\r",
      "\u001b[K     |█████████████████████▏          | 512 kB 11.9 MB/s eta 0:00:01\r",
      "\u001b[K     |█████████████████████▋          | 522 kB 11.9 MB/s eta 0:00:01\r",
      "\u001b[K     |██████████████████████          | 532 kB 11.9 MB/s eta 0:00:01\r",
      "\u001b[K     |██████████████████████▍         | 542 kB 11.9 MB/s eta 0:00:01\r",
      "\u001b[K     |██████████████████████▉         | 552 kB 11.9 MB/s eta 0:00:01\r",
      "\u001b[K     |███████████████████████▎        | 563 kB 11.9 MB/s eta 0:00:01\r",
      "\u001b[K     |███████████████████████▊        | 573 kB 11.9 MB/s eta 0:00:01\r",
      "\u001b[K     |████████████████████████▏       | 583 kB 11.9 MB/s eta 0:00:01\r",
      "\u001b[K     |████████████████████████▌       | 593 kB 11.9 MB/s eta 0:00:01\r",
      "\u001b[K     |█████████████████████████       | 604 kB 11.9 MB/s eta 0:00:01\r",
      "\u001b[K     |█████████████████████████▍      | 614 kB 11.9 MB/s eta 0:00:01\r",
      "\u001b[K     |█████████████████████████▉      | 624 kB 11.9 MB/s eta 0:00:01\r",
      "\u001b[K     |██████████████████████████▎     | 634 kB 11.9 MB/s eta 0:00:01\r",
      "\u001b[K     |██████████████████████████▋     | 645 kB 11.9 MB/s eta 0:00:01\r",
      "\u001b[K     |███████████████████████████     | 655 kB 11.9 MB/s eta 0:00:01\r",
      "\u001b[K     |███████████████████████████▌    | 665 kB 11.9 MB/s eta 0:00:01\r",
      "\u001b[K     |████████████████████████████    | 675 kB 11.9 MB/s eta 0:00:01\r",
      "\u001b[K     |████████████████████████████▍   | 686 kB 11.9 MB/s eta 0:00:01\r",
      "\u001b[K     |████████████████████████████▊   | 696 kB 11.9 MB/s eta 0:00:01\r",
      "\u001b[K     |█████████████████████████████▏  | 706 kB 11.9 MB/s eta 0:00:01\r",
      "\u001b[K     |█████████████████████████████▋  | 716 kB 11.9 MB/s eta 0:00:01\r",
      "\u001b[K     |██████████████████████████████  | 727 kB 11.9 MB/s eta 0:00:01\r",
      "\u001b[K     |██████████████████████████████▌ | 737 kB 11.9 MB/s eta 0:00:01\r",
      "\u001b[K     |██████████████████████████████▉ | 747 kB 11.9 MB/s eta 0:00:01\r",
      "\u001b[K     |███████████████████████████████▎| 757 kB 11.9 MB/s eta 0:00:01\r",
      "\u001b[K     |███████████████████████████████▊| 768 kB 11.9 MB/s eta 0:00:01\r",
      "\u001b[K     |████████████████████████████████| 774 kB 11.9 MB/s \n",
      "\u001b[?25hRequirement already satisfied: pygments in /usr/local/lib/python3.7/dist-packages (from IPython==7.7.0) (2.6.1)\n",
      "Requirement already satisfied: pexpect in /usr/local/lib/python3.7/dist-packages (from IPython==7.7.0) (4.8.0)\n",
      "Requirement already satisfied: backcall in /usr/local/lib/python3.7/dist-packages (from IPython==7.7.0) (0.2.0)\n",
      "Requirement already satisfied: traitlets>=4.2 in /usr/local/lib/python3.7/dist-packages (from IPython==7.7.0) (5.1.1)\n",
      "Requirement already satisfied: pickleshare in /usr/local/lib/python3.7/dist-packages (from IPython==7.7.0) (0.7.5)\n",
      "Requirement already satisfied: setuptools>=18.5 in /usr/local/lib/python3.7/dist-packages (from IPython==7.7.0) (57.4.0)\n",
      "Requirement already satisfied: decorator in /usr/local/lib/python3.7/dist-packages (from IPython==7.7.0) (4.4.2)\n",
      "Requirement already satisfied: jedi>=0.10 in /usr/local/lib/python3.7/dist-packages (from IPython==7.7.0) (0.18.1)\n",
      "Collecting prompt-toolkit<2.1.0,>=2.0.0\n",
      "  Downloading prompt_toolkit-2.0.10-py3-none-any.whl (340 kB)\n",
      "\u001b[K     |████████████████████████████████| 340 kB 48.3 MB/s \n",
      "\u001b[?25hRequirement already satisfied: parso<0.9.0,>=0.8.0 in /usr/local/lib/python3.7/dist-packages (from jedi>=0.10->IPython==7.7.0) (0.8.3)\n",
      "Requirement already satisfied: wcwidth in /usr/local/lib/python3.7/dist-packages (from prompt-toolkit<2.1.0,>=2.0.0->IPython==7.7.0) (0.2.5)\n",
      "Requirement already satisfied: six>=1.9.0 in /usr/local/lib/python3.7/dist-packages (from prompt-toolkit<2.1.0,>=2.0.0->IPython==7.7.0) (1.15.0)\n",
      "Requirement already satisfied: ptyprocess>=0.5 in /usr/local/lib/python3.7/dist-packages (from pexpect->IPython==7.7.0) (0.7.0)\n",
      "Installing collected packages: prompt-toolkit, IPython\n",
      "  Attempting uninstall: prompt-toolkit\n",
      "    Found existing installation: prompt-toolkit 1.0.18\n",
      "    Uninstalling prompt-toolkit-1.0.18:\n",
      "      Successfully uninstalled prompt-toolkit-1.0.18\n",
      "  Attempting uninstall: IPython\n",
      "    Found existing installation: ipython 5.5.0\n",
      "    Uninstalling ipython-5.5.0:\n",
      "      Successfully uninstalled ipython-5.5.0\n",
      "\u001b[31mERROR: pip's dependency resolver does not currently take into account all the packages that are installed. This behaviour is the source of the following dependency conflicts.\n",
      "jupyter-console 5.2.0 requires prompt-toolkit<2.0.0,>=1.0.0, but you have prompt-toolkit 2.0.10 which is incompatible.\n",
      "google-colab 1.0.0 requires ipython~=5.5.0, but you have ipython 7.7.0 which is incompatible.\u001b[0m\n",
      "Successfully installed IPython-7.7.0 prompt-toolkit-2.0.10\n"
     ]
    },
    {
     "data": {
      "application/vnd.colab-display-data+json": {
       "pip_warning": {
        "packages": [
         "IPython",
         "prompt_toolkit"
        ]
       }
      }
     },
     "metadata": {},
     "output_type": "display_data"
    }
   ],
   "source": [
    "! pip install --upgrade --no-cache-dir https://github.com/manassharma07/crysx_nn/tarball/main\n",
    "! pip install IPython==7.7.0"
   ]
  },
  {
   "cell_type": "code",
   "execution_count": 27,
   "id": "35de3f19",
   "metadata": {
    "colab": {
     "base_uri": "https://localhost:8080/"
    },
    "id": "35de3f19",
    "outputId": "e041a238-9827-4e57-eac1-55d2d7da2178"
   },
   "outputs": [
    {
     "name": "stdout",
     "output_type": "stream",
     "text": [
      "blas_mkl_info:\n",
      "  NOT AVAILABLE\n",
      "blis_info:\n",
      "  NOT AVAILABLE\n",
      "openblas_info:\n",
      "    libraries = ['openblas', 'openblas']\n",
      "    library_dirs = ['/usr/local/lib']\n",
      "    language = c\n",
      "    define_macros = [('HAVE_CBLAS', None)]\n",
      "blas_opt_info:\n",
      "    libraries = ['openblas', 'openblas']\n",
      "    library_dirs = ['/usr/local/lib']\n",
      "    language = c\n",
      "    define_macros = [('HAVE_CBLAS', None)]\n",
      "lapack_mkl_info:\n",
      "  NOT AVAILABLE\n",
      "openblas_lapack_info:\n",
      "    libraries = ['openblas', 'openblas']\n",
      "    library_dirs = ['/usr/local/lib']\n",
      "    language = c\n",
      "    define_macros = [('HAVE_CBLAS', None)]\n",
      "lapack_opt_info:\n",
      "    libraries = ['openblas', 'openblas']\n",
      "    library_dirs = ['/usr/local/lib']\n",
      "    language = c\n",
      "    define_macros = [('HAVE_CBLAS', None)]\n",
      "numpy 1.19.2\n",
      "crysx_nn 0.1.6\n",
      "torch 1.10.0+cu111\n",
      "tensorflow 2.7.0\n",
      "cupy 9.4.0\n"
     ]
    }
   ],
   "source": [
    "\n",
    "\n",
    "import numpy as np\n",
    "np.show_config()\n",
    "print('numpy',np.__version__)\n",
    "import matplotlib.pyplot as plt\n",
    "\n",
    "# Import activation functions from crysx_nn\n",
    "from crysx_nn.activation import Sigmoid_cupy, Sigmoid_grad_cupy\n",
    "from crysx_nn.activation import Softmax_cupy, Softmax_grad_cupy\n",
    "from crysx_nn.activation import ReLU_cupy, ReLU_grad_cupy\n",
    "import crysx_nn\n",
    "print('crysx_nn',crysx_nn.__version__)\n",
    "\n",
    "# PyTorch\n",
    "import torch\n",
    "print('torch',torch.__version__)\n",
    "\n",
    "# Tensorflow\n",
    "import tensorflow as tf\n",
    "print('tensorflow',tf.__version__)\n",
    "\n",
    "import cupy as cp\n",
    "print('cupy',cp.__version__)"
   ]
  },
  {
   "cell_type": "markdown",
   "id": "2fa7f96f",
   "metadata": {
    "id": "2fa7f96f"
   },
   "source": [
    "## Ensure that evertyhing is only using GPU"
   ]
  },
  {
   "cell_type": "code",
   "execution_count": 28,
   "id": "d2989c59",
   "metadata": {
    "colab": {
     "base_uri": "https://localhost:8080/"
    },
    "id": "d2989c59",
    "outputId": "90b40d9a-45ce-43a2-cfdf-72e84286a46b"
   },
   "outputs": [
    {
     "data": {
      "text/plain": [
       "True"
      ]
     },
     "execution_count": 28,
     "metadata": {},
     "output_type": "execute_result"
    }
   ],
   "source": [
    "torch.cuda.is_available()"
   ]
  },
  {
   "cell_type": "code",
   "execution_count": 29,
   "id": "KkvwtNuL8QlZ",
   "metadata": {
    "colab": {
     "base_uri": "https://localhost:8080/"
    },
    "id": "KkvwtNuL8QlZ",
    "outputId": "30b91d56-5615-41af-94f5-23c9062d09bc"
   },
   "outputs": [
    {
     "name": "stdout",
     "output_type": "stream",
     "text": [
      "0\n",
      "<torch.cuda.device object at 0x7efdf01dfd90>\n",
      "1\n",
      "Tesla K80\n"
     ]
    }
   ],
   "source": [
    "print(torch.cuda.current_device())\n",
    "print(torch.cuda.device(0))\n",
    "print(torch.cuda.device_count())\n",
    "print(torch.cuda.get_device_name(0))"
   ]
  },
  {
   "cell_type": "code",
   "execution_count": 30,
   "id": "9e8ae4f1",
   "metadata": {
    "colab": {
     "base_uri": "https://localhost:8080/"
    },
    "id": "9e8ae4f1",
    "outputId": "4263a664-d26b-4a8f-f769-9855e942c252"
   },
   "outputs": [
    {
     "name": "stdout",
     "output_type": "stream",
     "text": [
      "Num GPUs Available:  1\n"
     ]
    }
   ],
   "source": [
    "print(\"Num GPUs Available: \", len(tf.config.list_physical_devices('GPU')))"
   ]
  },
  {
   "cell_type": "code",
   "execution_count": 31,
   "id": "a5fb5e5b",
   "metadata": {
    "colab": {
     "base_uri": "https://localhost:8080/"
    },
    "id": "a5fb5e5b",
    "outputId": "04b6ba13-0e7e-4939-e2a1-e22af3968c10"
   },
   "outputs": [
    {
     "data": {
      "text/plain": [
       "True"
      ]
     },
     "execution_count": 31,
     "metadata": {},
     "output_type": "execute_result"
    }
   ],
   "source": [
    "tf.test.is_gpu_available()"
   ]
  },
  {
   "cell_type": "code",
   "execution_count": 32,
   "id": "pSkV1Eo9ZlK4",
   "metadata": {
    "colab": {
     "base_uri": "https://localhost:8080/"
    },
    "id": "pSkV1Eo9ZlK4",
    "outputId": "97da68a7-7bca-4eb7-faff-d64a679f2e18"
   },
   "outputs": [
    {
     "data": {
      "text/plain": [
       "[PhysicalDevice(name='/physical_device:GPU:0', device_type='GPU')]"
      ]
     },
     "execution_count": 32,
     "metadata": {},
     "output_type": "execute_result"
    }
   ],
   "source": [
    "tf.config.list_physical_devices('GPU')"
   ]
  },
  {
   "cell_type": "code",
   "execution_count": 33,
   "id": "388538ba",
   "metadata": {
    "colab": {
     "base_uri": "https://localhost:8080/"
    },
    "id": "388538ba",
    "outputId": "893f506f-f454-4cca-9614-193ae8b133a8"
   },
   "outputs": [
    {
     "name": "stdout",
     "output_type": "stream",
     "text": [
      "True\n"
     ]
    }
   ],
   "source": [
    "print(tf.test.is_built_with_cuda())"
   ]
  },
  {
   "cell_type": "code",
   "execution_count": 34,
   "id": "a3wcJQXRY8T3",
   "metadata": {
    "id": "a3wcJQXRY8T3"
   },
   "outputs": [],
   "source": [
    "# tf.debugging.set_log_device_placement(True)"
   ]
  },
  {
   "cell_type": "markdown",
   "id": "8b18d617",
   "metadata": {
    "id": "8b18d617"
   },
   "source": [
    "## Generate an input `2d array` of type `float32` for benchmark (let's say using `torch`)"
   ]
  },
  {
   "cell_type": "code",
   "execution_count": 35,
   "id": "bb32968b",
   "metadata": {
    "colab": {
     "base_uri": "https://localhost:8080/"
    },
    "id": "bb32968b",
    "outputId": "3e5cf65c-af86-4661-b1bf-8df7eb7263ec"
   },
   "outputs": [
    {
     "name": "stdout",
     "output_type": "stream",
     "text": [
      "tensor([[0.0246, 0.6959, 0.1862,  ..., 0.9414, 0.6671, 0.1007],\n",
      "        [0.0120, 0.0344, 0.7181,  ..., 0.1802, 0.5848, 0.5270],\n",
      "        [0.0993, 0.9282, 0.3344,  ..., 0.3759, 0.1500, 0.1033],\n",
      "        ...,\n",
      "        [0.7569, 0.4561, 0.0076,  ..., 0.5868, 0.2152, 0.5475],\n",
      "        [0.7849, 0.5425, 0.2914,  ..., 0.8174, 0.5026, 0.9743],\n",
      "        [0.7845, 0.2733, 0.9774,  ..., 0.9086, 0.6597, 0.2743]],\n",
      "       grad_fn=<ToCopyBackward0>)\n"
     ]
    }
   ],
   "source": [
    "X_torch = torch.rand((300,100),requires_grad=True)\n",
    "X_torch = X_torch.cuda()\n",
    "print(X_torch.cpu())"
   ]
  },
  {
   "cell_type": "markdown",
   "id": "ea839198",
   "metadata": {
    "id": "ea839198"
   },
   "source": [
    "## Convert it to numpy for `crysx_nn`"
   ]
  },
  {
   "cell_type": "code",
   "execution_count": 36,
   "id": "5dfe4aef",
   "metadata": {
    "colab": {
     "base_uri": "https://localhost:8080/"
    },
    "id": "5dfe4aef",
    "outputId": "ebb5fad1-eff3-4ba7-91bb-8117c6f7e26c"
   },
   "outputs": [
    {
     "name": "stdout",
     "output_type": "stream",
     "text": [
      "float32\n"
     ]
    }
   ],
   "source": [
    "X_crysx_nn = X_torch.cpu().detach().numpy()\n",
    "X_cupy = cp.asarray(X_crysx_nn)\n",
    "print(X_crysx_nn.dtype)"
   ]
  },
  {
   "cell_type": "markdown",
   "id": "989ccc01",
   "metadata": {
    "id": "989ccc01"
   },
   "source": [
    "## Now finally convert it to a tensorflow tensor"
   ]
  },
  {
   "cell_type": "code",
   "execution_count": 37,
   "id": "468a51b4",
   "metadata": {
    "id": "468a51b4"
   },
   "outputs": [],
   "source": [
    "X_tf = tf.convert_to_tensor(X_crysx_nn, dtype=tf.float32)"
   ]
  },
  {
   "cell_type": "markdown",
   "id": "7116bed6",
   "metadata": {
    "id": "7116bed6"
   },
   "source": [
    "## Benchmark ReLU"
   ]
  },
  {
   "cell_type": "markdown",
   "id": "b2d54c40",
   "metadata": {
    "id": "b2d54c40"
   },
   "source": [
    "### Confirm that all frameworks give the same results"
   ]
  },
  {
   "cell_type": "code",
   "execution_count": 38,
   "id": "470bbd47",
   "metadata": {
    "colab": {
     "base_uri": "https://localhost:8080/"
    },
    "id": "470bbd47",
    "outputId": "f80d98ac-3104-43ca-dfe8-370498e4ed1f"
   },
   "outputs": [
    {
     "name": "stdout",
     "output_type": "stream",
     "text": [
      "Max abs diff b/w torch and tf 0.0\n",
      "Max abs diff b/w torch and CrysX 0.0\n"
     ]
    }
   ],
   "source": [
    "# Torch\n",
    "relu_torch_func = torch.nn.ReLU() # Get an instance of ReLU class for Pytorch\n",
    "relu_torch_value = relu_torch_func(X_torch)\n",
    "\n",
    "# CrysX\n",
    "relu_crysx_nn_value = ReLU_cupy(X_cupy)\n",
    "\n",
    "# Tensorflow\n",
    "relu_tf_value = tf.nn.relu(X_tf)#tf.keras.activations.relu(X_tf)\n",
    "\n",
    "#Diff b/w tf and torch\n",
    "print('Max abs diff b/w torch and tf', abs(relu_torch_value.cpu().detach().numpy() - relu_tf_value.numpy()).max())\n",
    "\n",
    "#Diff b/w crysx_nn and torch\n",
    "print('Max abs diff b/w torch and CrysX', abs(relu_torch_value.cpu().detach().numpy() - cp.asnumpy(relu_crysx_nn_value)).max())"
   ]
  },
  {
   "cell_type": "markdown",
   "id": "099cf5bc",
   "metadata": {
    "id": "099cf5bc"
   },
   "source": [
    "### Compare performance"
   ]
  },
  {
   "cell_type": "code",
   "execution_count": 39,
   "id": "66bc3c9a",
   "metadata": {
    "colab": {
     "base_uri": "https://localhost:8080/"
    },
    "id": "66bc3c9a",
    "outputId": "08c2bc57-8fcd-422b-dfb3-984c3511d7cf"
   },
   "outputs": [
    {
     "name": "stdout",
     "output_type": "stream",
     "text": [
      "PyTorch\n",
      "23.7 µs ± 6.33 µs per loop (mean ± std. dev. of 7 runs, 1000 loops each)\n",
      "CrysX-NN (crysx_nn)\n",
      "134 µs ± 36.8 µs per loop (mean ± std. dev. of 7 runs, 1000 loops each)\n",
      "Tensorflow\n",
      "106 µs ± 5.55 µs per loop (mean ± std. dev. of 7 runs, 1000 loops each)\n"
     ]
    }
   ],
   "source": [
    "# Torch\n",
    "print('PyTorch')\n",
    "relu_torch_func = torch.nn.ReLU() # Get an instance of ReLU class for Pytorch\n",
    "%timeit -n 1000 relu_torch_func(X_torch)\n",
    "\n",
    "# CrysX\n",
    "print('CrysX-NN (crysx_nn)')\n",
    "%timeit -n 1000 ReLU_cupy(X_cupy)\n",
    "\n",
    "# Tensorflow\n",
    "print('Tensorflow')\n",
    "%timeit -n 1000 tf.keras.activations.relu(X_tf)\n"
   ]
  },
  {
   "cell_type": "markdown",
   "id": "7e154ec2",
   "metadata": {
    "id": "7e154ec2"
   },
   "source": [
    "### Compare performance with arrays of different sizes"
   ]
  },
  {
   "cell_type": "code",
   "execution_count": 40,
   "id": "bd3a77a8",
   "metadata": {
    "colab": {
     "base_uri": "https://localhost:8080/"
    },
    "id": "bd3a77a8",
    "outputId": "2dd7ec6c-0d1e-4627-c338-63d7106934e5"
   },
   "outputs": [
    {
     "name": "stdout",
     "output_type": "stream",
     "text": [
      "52 µs ± 9.06 µs per loop (mean ± std. dev. of 7 runs, 500 loops each)\n",
      "134 µs ± 7.01 µs per loop (mean ± std. dev. of 7 runs, 500 loops each)\n",
      "65.6 µs ± 8.57 µs per loop (mean ± std. dev. of 7 runs, 500 loops each)\n",
      "47.3 µs ± 979 ns per loop (mean ± std. dev. of 7 runs, 500 loops each)\n",
      "151 µs ± 27.9 µs per loop (mean ± std. dev. of 7 runs, 500 loops each)\n",
      "64.4 µs ± 8.14 µs per loop (mean ± std. dev. of 7 runs, 500 loops each)\n",
      "53.1 µs ± 4.83 µs per loop (mean ± std. dev. of 7 runs, 500 loops each)\n",
      "149 µs ± 20.9 µs per loop (mean ± std. dev. of 7 runs, 500 loops each)\n",
      "66.9 µs ± 4.47 µs per loop (mean ± std. dev. of 7 runs, 500 loops each)\n",
      "82.2 µs ± 31.3 µs per loop (mean ± std. dev. of 7 runs, 500 loops each)\n",
      "241 µs ± 6.28 µs per loop (mean ± std. dev. of 7 runs, 500 loops each)\n",
      "125 µs ± 53.8 µs per loop (mean ± std. dev. of 7 runs, 500 loops each)\n",
      "The slowest run took 4.39 times longer than the fastest. This could mean that an intermediate result is being cached.\n",
      "143 µs ± 69.9 µs per loop (mean ± std. dev. of 7 runs, 500 loops each)\n",
      "419 µs ± 10.9 µs per loop (mean ± std. dev. of 7 runs, 500 loops each)\n",
      "The slowest run took 22.27 times longer than the fastest. This could mean that an intermediate result is being cached.\n",
      "217 µs ± 172 µs per loop (mean ± std. dev. of 7 runs, 500 loops each)\n",
      "The slowest run took 14.84 times longer than the fastest. This could mean that an intermediate result is being cached.\n",
      "220 µs ± 127 µs per loop (mean ± std. dev. of 7 runs, 500 loops each)\n",
      "648 µs ± 13.6 µs per loop (mean ± std. dev. of 7 runs, 500 loops each)\n",
      "The slowest run took 35.30 times longer than the fastest. This could mean that an intermediate result is being cached.\n",
      "335 µs ± 282 µs per loop (mean ± std. dev. of 7 runs, 500 loops each)\n"
     ]
    }
   ],
   "source": [
    "time_torch = []\n",
    "time_crysx_nn = []\n",
    "time_tf = []\n",
    "sizes = []\n",
    "\n",
    "for n_size in range(10,3000,500):\n",
    "    sizes.append(n_size*n_size)\n",
    "    # Torch input\n",
    "    X_torch = torch.rand((n_size,n_size),requires_grad=True)\n",
    "    X_torch = X_torch.cuda()\n",
    "    # CrysX-NN input\n",
    "    X_crysx_nn = X_torch.cpu().detach().numpy()\n",
    "    X_cupy = cp.asarray(X_crysx_nn)\n",
    "    # Tensorflow input\n",
    "    X_tf = tf.convert_to_tensor(X_crysx_nn, dtype=tf.float32)\n",
    "    \n",
    "    ##--Timings--\n",
    "    # Torch\n",
    "    relu_torch_func = torch.nn.ReLU() # Get an instance of ReLU class for Pytorch\n",
    "    time = %timeit -n 500 -o relu_torch_func(X_torch)\n",
    "    # For time of each run\n",
    "    time_torch.append(np.mean(time.timings)) \n",
    "    # For total time\n",
    "#     time_torch.append(np.mean(time.all_runs)) \n",
    "    # CrysX\n",
    "    time = %timeit -n 500 -o ReLU_cupy(X_cupy)\n",
    "    # For time of each run\n",
    "    time_crysx_nn.append(np.mean(time.timings))\n",
    "    # Tensorflow\n",
    "    time = %timeit -n 500 -o tf.nn.relu(X_tf)\n",
    "    # For time of each run\n",
    "    time_tf.append(np.mean(time.timings))"
   ]
  },
  {
   "cell_type": "markdown",
   "id": "976002e4",
   "metadata": {
    "id": "976002e4"
   },
   "source": [
    "### Plot the results"
   ]
  },
  {
   "cell_type": "code",
   "execution_count": 41,
   "id": "e2fd1e34",
   "metadata": {
    "colab": {
     "base_uri": "https://localhost:8080/",
     "height": 295
    },
    "id": "e2fd1e34",
    "outputId": "97c73c52-ff2a-45aa-f380-e289121d53dd",
    "scrolled": true
   },
   "outputs": [
    {
     "data": {
      "image/png": "[encoded data removed]",
      "text/plain": [
       "<Figure size 432x288 with 1 Axes>"
      ]
     },
     "metadata": {
      "needs_background": "light"
     },
     "output_type": "display_data"
    }
   ],
   "source": [
    "\n",
    "plt.plot(sizes,time_torch, label='PyTorch')\n",
    "plt.plot(sizes,time_crysx_nn, label='CrysX-NN')\n",
    "plt.plot(sizes,time_tf, label='Tensorflow')\n",
    "plt.legend()\n",
    "plt.xlabel('Array sizes')\n",
    "plt.ylabel('Timings')\n",
    "plt.title('Benchmark ReLU')\n",
    "plt.show()"
   ]
  },
  {
   "cell_type": "markdown",
   "id": "7045b443",
   "metadata": {
    "id": "7045b443"
   },
   "source": [
    "## Benchmark ReLU derivative (gradient) wrt input batch\n",
    "\n",
    "This is slightly tricky. \n",
    "PyTorch and Tensorflow don't explicitly come with a function that gives the gradient. \n",
    "Rather they use atuomatic differentiation.\n",
    "\n",
    "This is why, PyTorch would require the value of the output of the activation function as well, rather than just an input function. \n",
    "\n",
    "I will try to do the timings in a way that we can exclude this time from results.\n",
    "\n",
    "However, it is still not really evident if the timings can be taken as a good representative of the performance of PyTorch and Tensorflow frameworks.\n",
    "\n",
    "So take the timing results with a grain of salt."
   ]
  },
  {
   "cell_type": "code",
   "execution_count": 42,
   "id": "f5282ecd",
   "metadata": {
    "id": "f5282ecd"
   },
   "outputs": [],
   "source": [
    "def tf_relu_grad(x):\n",
    "    with tf.GradientTape() as g:\n",
    "        g.watch(x)\n",
    "        relu_values = tf.nn.relu(x)\n",
    "    grad = g.gradient(relu_values, x)\n",
    "    return grad#.numpy()"
   ]
  },
  {
   "cell_type": "code",
   "execution_count": 43,
   "id": "ed465fd1",
   "metadata": {
    "id": "ed465fd1"
   },
   "outputs": [],
   "source": [
    "def torch_relu_grad(relu_values, x):\n",
    "    device='cuda'\n",
    "    gradient = torch.autograd.grad(outputs=relu_values, inputs=x,\n",
    "                          grad_outputs=torch.ones(relu_values.size()).to(device),\n",
    "                          create_graph=True, retain_graph=True, only_inputs=True)[0]\n",
    "    return gradient"
   ]
  },
  {
   "cell_type": "markdown",
   "id": "fbe0b62a",
   "metadata": {
    "id": "fbe0b62a"
   },
   "source": [
    "### Confirm that all frameworks give the same results"
   ]
  },
  {
   "cell_type": "code",
   "execution_count": 44,
   "id": "915234f9",
   "metadata": {
    "colab": {
     "base_uri": "https://localhost:8080/"
    },
    "id": "915234f9",
    "outputId": "064b870a-d98a-489e-b260-fd8f36a8bec9"
   },
   "outputs": [
    {
     "name": "stdout",
     "output_type": "stream",
     "text": [
      "Max abs diff b/w torch and tf 0.0\n",
      "Max abs diff b/w torch and CrysX 0.0\n"
     ]
    }
   ],
   "source": [
    "# Torch input\n",
    "X_torch = torch.rand((1000,1000),requires_grad=True)\n",
    "X_torch = X_torch.cuda()\n",
    "# CrysX-NN input\n",
    "X_crysx_nn = X_torch.cpu().detach().numpy()\n",
    "X_cupy = cp.asarray(X_crysx_nn)\n",
    "# Tensorflow input\n",
    "X_tf = tf.convert_to_tensor(X_crysx_nn, dtype=tf.float32)\n",
    "\n",
    "\n",
    "# Torch\n",
    "relu_torch_func = torch.nn.ReLU() # Get an instance of ReLU class for Pytorch\n",
    "relu_torch_value = relu_torch_func(X_torch)\n",
    "gradientsTorch = torch_relu_grad(relu_torch_value, X_torch)\n",
    "# print(gradientsTorch)\n",
    "\n",
    "# CrysX\n",
    "# softmax_crysx_nn_value = Softmax(X_crysx_nn)\n",
    "gradientsCrysx = ReLU_grad_cupy(X_cupy)\n",
    "# print(gradientsCrysx)\n",
    "\n",
    "# Tensorflow\n",
    "gradientsTF = tf_relu_grad(X_tf) # requires a computation of sigmoid values again\n",
    "with tf.GradientTape() as g:\n",
    "    g.watch(X_tf)\n",
    "    relu_tf_value = tf.nn.relu(X_tf)\n",
    "gradientsTF = g.gradient(relu_tf_value, X_tf)\n",
    "del g\n",
    "# print(gradientsTF)\n",
    "\n",
    "#Diff b/w tf and torch\n",
    "print('Max abs diff b/w torch and tf', abs(gradientsTorch.cpu().detach().numpy() - gradientsTF.numpy()).max())\n",
    "\n",
    "#Diff b/w crysx_nn and torch\n",
    "print('Max abs diff b/w torch and CrysX', abs(gradientsTorch.cpu().detach().numpy() - cp.asnumpy(gradientsCrysx)).max())\n"
   ]
  },
  {
   "cell_type": "markdown",
   "id": "23e53f07",
   "metadata": {
    "id": "23e53f07"
   },
   "source": [
    "### Compare performance\n",
    "\n",
    "Since, CrysX-NN also requires the calculation of softmax function, therefore we should also include this calculation time for PyTorch and Tensorflow.\n",
    "\n",
    "I would like to stress here again, that I am not really sure if the autodifferentiated implementations of softmax gradients that I have used, are a good representative of the real-world performance or not. \n",
    "\n",
    "Especially, the torch jacobian would be extreeeemely slowww due to the for loops. But tensorflow implementation isn't that fast either.\n",
    "\n",
    "So we would skip the plots of timings vs array_size for benchmarks."
   ]
  },
  {
   "cell_type": "code",
   "execution_count": 45,
   "id": "adfb64db",
   "metadata": {
    "colab": {
     "base_uri": "https://localhost:8080/"
    },
    "id": "adfb64db",
    "outputId": "3c235c10-11d1-4db4-a039-28a3215c9d41"
   },
   "outputs": [
    {
     "name": "stdout",
     "output_type": "stream",
     "text": [
      "PyTorch gradient only\n",
      "1.32 ms ± 35.9 µs per loop (mean ± std. dev. of 7 runs, 100 loops each)\n",
      "CrysX-NN (crysx_nn) gradient only\n",
      "50.5 µs ± 7.5 µs per loop (mean ± std. dev. of 7 runs, 100 loops each)\n",
      "Tensorflow gradient+value\n",
      "412 µs ± 62.3 µs per loop (mean ± std. dev. of 7 runs, 100 loops each)\n",
      "Tensorflow value only\n",
      "56.6 µs ± 19.7 µs per loop (mean ± std. dev. of 7 runs, 100 loops each)\n"
     ]
    }
   ],
   "source": [
    "# Torch\n",
    "print('PyTorch gradient only')\n",
    "relu_torch_func = torch.nn.ReLU() # Get an instance of ReLU class for Pytorch\n",
    "relu_torch_value = relu_torch_func(X_torch)\n",
    "%timeit -n 100 torch_relu_grad(relu_torch_value, X_torch)\n",
    "\n",
    "# CrysX\n",
    "print('CrysX-NN (crysx_nn) gradient only')\n",
    "%timeit -n 100 ReLU_grad_cupy(X_cupy)\n",
    "\n",
    "# Tensorflow\n",
    "print('Tensorflow gradient+value')\n",
    "with tf.GradientTape(persistent=False) as g:\n",
    "    g.watch(X_tf)\n",
    "    relu_tf_value = tf.nn.relu(X_tf)\n",
    "# %timeit -n 100 g.gradient(relu_tf_value, X_tf) # Doesn't work due to multiple runs of timeit and tape not supporting it\n",
    "%timeit -n 100  tf_relu_grad(X_tf)\n",
    "\n",
    "print('Tensorflow value only')\n",
    "%timeit -n 100 tf.keras.activations.relu(X_tf)\n"
   ]
  },
  {
   "cell_type": "markdown",
   "id": "56cafce9",
   "metadata": {
    "id": "56cafce9"
   },
   "source": [
    "In the above, we see that PyTorch is again quite fast a million element array. \n",
    "CrysX-NN gives decent performance.\n",
    "\n",
    "Tensorflow is a bit tricky. Due to `%timeit` requiring multiple runs, and tape being only restricted to a single run, I had to use the other implementation of gradient using tensorflow, where the `values+gradients` are computed.\n",
    "\n",
    "Therefore, to get a good idea of the tensorflow gradient performance I have also calculated the time taken by tensorflow for just evaluating the functions."
   ]
  },
  {
   "cell_type": "markdown",
   "id": "918ee5a5",
   "metadata": {
    "id": "918ee5a5"
   },
   "source": [
    "## Benchmark Sigmoid"
   ]
  },
  {
   "cell_type": "markdown",
   "id": "16dd0075",
   "metadata": {
    "id": "16dd0075"
   },
   "source": [
    "### Confirm that all frameworks give the same results"
   ]
  },
  {
   "cell_type": "code",
   "execution_count": 46,
   "id": "9b757401",
   "metadata": {
    "colab": {
     "base_uri": "https://localhost:8080/"
    },
    "id": "9b757401",
    "outputId": "eb6f2720-0974-4eda-9e92-3b08750cb25f"
   },
   "outputs": [
    {
     "name": "stdout",
     "output_type": "stream",
     "text": [
      "Max abs diff b/w torch and tf 0.0\n",
      "Max abs diff b/w torch and CrysX 1.1920929e-07\n"
     ]
    }
   ],
   "source": [
    "# Torch input\n",
    "X_torch = torch.rand((1000,1000),requires_grad=True)\n",
    "X_torch = X_torch.cuda()\n",
    "# CrysX-NN input\n",
    "X_crysx_nn = X_torch.cpu().detach().numpy()\n",
    "X_cupy = cp.asarray(X_crysx_nn)\n",
    "# Tensorflow input\n",
    "X_tf = tf.convert_to_tensor(X_crysx_nn, dtype=tf.float32)\n",
    "\n",
    "# Torch\n",
    "sigmoid_torch_func = torch.nn.Sigmoid() # Get an instance of Sigmoid class for Pytorch\n",
    "sigmoid_torch_value = sigmoid_torch_func(X_torch)\n",
    "\n",
    "# CrysX\n",
    "sigmoid_crysx_nn_value = Sigmoid_cupy(X_cupy)\n",
    "\n",
    "# Tensorflow\n",
    "sigmoid_tf_value = tf.keras.activations.sigmoid(X_tf)\n",
    "\n",
    "#Diff b/w tf and torch\n",
    "print('Max abs diff b/w torch and tf', abs(sigmoid_torch_value.cpu().detach().numpy() - sigmoid_tf_value.numpy()).max())\n",
    "\n",
    "#Diff b/w crysx_nn and torch\n",
    "print('Max abs diff b/w torch and CrysX', abs(sigmoid_torch_value.cpu().detach().numpy() - cp.asnumpy(sigmoid_crysx_nn_value)).max())\n"
   ]
  },
  {
   "cell_type": "markdown",
   "id": "721632a0",
   "metadata": {
    "id": "721632a0"
   },
   "source": [
    "### Compare performance"
   ]
  },
  {
   "cell_type": "code",
   "execution_count": 47,
   "id": "cf835656",
   "metadata": {
    "colab": {
     "base_uri": "https://localhost:8080/"
    },
    "id": "cf835656",
    "outputId": "290e3e4c-81aa-4c50-a7ea-4bed674f3518"
   },
   "outputs": [
    {
     "name": "stdout",
     "output_type": "stream",
     "text": [
      "PyTorch\n",
      "The slowest run took 4.46 times longer than the fastest. This could mean that an intermediate result is being cached.\n",
      "28.6 µs ± 16.2 µs per loop (mean ± std. dev. of 7 runs, 100 loops each)\n",
      "CrysX-NN (crysx_nn)\n",
      "The slowest run took 4.18 times longer than the fastest. This could mean that an intermediate result is being cached.\n",
      "185 µs ± 79.7 µs per loop (mean ± std. dev. of 7 runs, 100 loops each)\n",
      "Tensorflow\n",
      "66.8 µs ± 18.1 µs per loop (mean ± std. dev. of 7 runs, 100 loops each)\n"
     ]
    }
   ],
   "source": [
    "# Torch\n",
    "print('PyTorch')\n",
    "sigmoid_torch_func = torch.nn.Sigmoid() # Get an instance of Sigmoid class for Pytorch\n",
    "%timeit -n 100 sigmoid_torch_func(X_torch)\n",
    "\n",
    "# CrysX\n",
    "print('CrysX-NN (crysx_nn)')\n",
    "%timeit -n 100 Sigmoid_cupy(X_cupy)\n",
    "\n",
    "# Tensorflow\n",
    "print('Tensorflow')\n",
    "%timeit -n 100 tf.keras.activations.sigmoid(X_tf)\n"
   ]
  },
  {
   "cell_type": "markdown",
   "id": "a5796281",
   "metadata": {
    "id": "a5796281"
   },
   "source": [
    "### Compare performance with arrays of different sizes"
   ]
  },
  {
   "cell_type": "code",
   "execution_count": 48,
   "id": "d7d8244d",
   "metadata": {
    "colab": {
     "base_uri": "https://localhost:8080/"
    },
    "id": "d7d8244d",
    "outputId": "b56ad079-a749-432a-ca70-8b816dc47c93"
   },
   "outputs": [
    {
     "name": "stdout",
     "output_type": "stream",
     "text": [
      "14.3 µs ± 596 ns per loop (mean ± std. dev. of 7 runs, 100 loops each)\n",
      "61.6 µs ± 6.96 µs per loop (mean ± std. dev. of 7 runs, 100 loops each)\n",
      "52 µs ± 2.7 µs per loop (mean ± std. dev. of 7 runs, 100 loops each)\n",
      "16.1 µs ± 3.43 µs per loop (mean ± std. dev. of 7 runs, 100 loops each)\n",
      "64.8 µs ± 13.9 µs per loop (mean ± std. dev. of 7 runs, 100 loops each)\n",
      "50 µs ± 2.59 µs per loop (mean ± std. dev. of 7 runs, 100 loops each)\n",
      "20.5 µs ± 11.4 µs per loop (mean ± std. dev. of 7 runs, 100 loops each)\n",
      "The slowest run took 4.94 times longer than the fastest. This could mean that an intermediate result is being cached.\n",
      "196 µs ± 86.6 µs per loop (mean ± std. dev. of 7 runs, 100 loops each)\n",
      "52.8 µs ± 6.95 µs per loop (mean ± std. dev. of 7 runs, 100 loops each)\n",
      "15.2 µs ± 1.74 µs per loop (mean ± std. dev. of 7 runs, 100 loops each)\n",
      "The slowest run took 7.86 times longer than the fastest. This could mean that an intermediate result is being cached.\n",
      "443 µs ± 162 µs per loop (mean ± std. dev. of 7 runs, 100 loops each)\n",
      "53 µs ± 5.33 µs per loop (mean ± std. dev. of 7 runs, 100 loops each)\n",
      "14.5 µs ± 752 ns per loop (mean ± std. dev. of 7 runs, 100 loops each)\n",
      "The slowest run took 13.19 times longer than the fastest. This could mean that an intermediate result is being cached.\n",
      "789 µs ± 298 µs per loop (mean ± std. dev. of 7 runs, 100 loops each)\n",
      "53.1 µs ± 7.14 µs per loop (mean ± std. dev. of 7 runs, 100 loops each)\n",
      "15.3 µs ± 937 ns per loop (mean ± std. dev. of 7 runs, 100 loops each)\n",
      "The slowest run took 13.07 times longer than the fastest. This could mean that an intermediate result is being cached.\n",
      "1.23 ms ± 462 µs per loop (mean ± std. dev. of 7 runs, 100 loops each)\n",
      "51.8 µs ± 4.84 µs per loop (mean ± std. dev. of 7 runs, 100 loops each)\n"
     ]
    }
   ],
   "source": [
    "time_torch = []\n",
    "time_crysx_nn = []\n",
    "time_tf = []\n",
    "sizes = []\n",
    "\n",
    "for n_size in range(10,3000,500):\n",
    "    sizes.append(n_size*n_size)\n",
    "    # Torch input\n",
    "    X_torch = torch.rand((n_size,n_size),requires_grad=True)\n",
    "    X_torch = X_torch.cuda()\n",
    "    # CrysX-NN input\n",
    "    X_crysx_nn = X_torch.cpu().detach().numpy()\n",
    "    X_cupy = cp.asarray(X_crysx_nn)\n",
    "    # Tensorflow input\n",
    "    X_tf = tf.convert_to_tensor(X_crysx_nn, dtype=tf.float32)\n",
    "    \n",
    "    ##--Timings--\n",
    "    # Torch\n",
    "    sigmoid_torch_func = torch.nn.Sigmoid() # Get an instance of Sigmoid class for Pytorch\n",
    "    time = %timeit -n 100 -o sigmoid_torch_func(X_torch)\n",
    "    # For time of each run\n",
    "    time_torch.append(np.mean(time.timings)) \n",
    "    # For total time\n",
    "#     time_torch.append(np.mean(time.all_runs)) \n",
    "    # CrysX\n",
    "    time = %timeit -n 100 -o Sigmoid_cupy(X_cupy)\n",
    "    # For time of each run\n",
    "    time_crysx_nn.append(np.mean(time.timings))\n",
    "    # Tensorflow\n",
    "    time = %timeit -n 100 -o tf.keras.activations.sigmoid(X_tf)\n",
    "    # For time of each run\n",
    "    time_tf.append(np.mean(time.timings))\n",
    "    "
   ]
  },
  {
   "cell_type": "markdown",
   "id": "d193ae36",
   "metadata": {
    "id": "d193ae36"
   },
   "source": [
    "### Plot the results"
   ]
  },
  {
   "cell_type": "code",
   "execution_count": 49,
   "id": "4b3de13a",
   "metadata": {
    "colab": {
     "base_uri": "https://localhost:8080/",
     "height": 295
    },
    "id": "4b3de13a",
    "outputId": "36a321db-b1f2-44db-9623-8137c4d6f887"
   },
   "outputs": [
    {
     "data": {
      "image/png": "[encoded data removed]",
      "text/plain": [
       "<Figure size 432x288 with 1 Axes>"
      ]
     },
     "metadata": {
      "needs_background": "light"
     },
     "output_type": "display_data"
    }
   ],
   "source": [
    "\n",
    "plt.plot(sizes,time_torch, label='PyTorch')\n",
    "plt.plot(sizes,time_crysx_nn, label='CrysX-NN')\n",
    "plt.plot(sizes,time_tf, label='Tensorflow')\n",
    "plt.legend()\n",
    "plt.xlabel('Array sizes')\n",
    "plt.ylabel('Timings')\n",
    "plt.title('Benchmark Sigmoid')\n",
    "plt.show()\n"
   ]
  },
  {
   "cell_type": "markdown",
   "id": "d365982e",
   "metadata": {
    "id": "d365982e"
   },
   "source": [
    "## Benchmark Sigmoid derivative (gradient) wrt input batch\n",
    "\n",
    "This is slightly tricky. \n",
    "PyTorch and Tensorflow don't explicitly come with a function that gives the gradient. \n",
    "Rather they use atuomatic differentiation.\n",
    "\n",
    "This is why, PyTorch would require the value of the output of the activation function as well, rather than just an input function. \n",
    "\n",
    "I will try to do the timings in a way that we can exclude this time from results.\n",
    "\n",
    "However, it is still not really evident if the timings can be taken as a good representative of the performance of PyTorch and Tensorflow frameworks.\n",
    "\n",
    "So take the timing results with a grain of salt."
   ]
  },
  {
   "cell_type": "code",
   "execution_count": 50,
   "id": "bc6aa900",
   "metadata": {
    "id": "bc6aa900"
   },
   "outputs": [],
   "source": [
    "def tf_sigmoid_grad(x):\n",
    "    with tf.GradientTape() as g:\n",
    "        g.watch(x)\n",
    "        sigmoid_values = tf.nn.sigmoid(x)\n",
    "    grad = g.gradient(sigmoid_values, x)\n",
    "    return grad#.numpy()"
   ]
  },
  {
   "cell_type": "code",
   "execution_count": 51,
   "id": "8a893e2e",
   "metadata": {
    "id": "8a893e2e"
   },
   "outputs": [],
   "source": [
    "def torch_sigmoid_grad(sigmoid_values, x):\n",
    "    device='cuda'\n",
    "    gradient = torch.autograd.grad(outputs=sigmoid_values, inputs=x,\n",
    "                          grad_outputs=torch.ones(sigmoid_values.size()).to(device),\n",
    "                          create_graph=True, retain_graph=True, only_inputs=True)[0]\n",
    "    return gradient"
   ]
  },
  {
   "cell_type": "markdown",
   "id": "aa6678b2",
   "metadata": {
    "id": "aa6678b2"
   },
   "source": [
    "### Confirm that all frameworks give the same results"
   ]
  },
  {
   "cell_type": "code",
   "execution_count": 52,
   "id": "47d1c8fa",
   "metadata": {
    "colab": {
     "base_uri": "https://localhost:8080/"
    },
    "id": "47d1c8fa",
    "outputId": "38ed9ad8-8a9c-4755-9b6e-6f72a15f140c"
   },
   "outputs": [
    {
     "name": "stdout",
     "output_type": "stream",
     "text": [
      "Max abs diff b/w torch and tf 0.0\n",
      "Max abs diff b/w torch and CrysX 7.4505806e-08\n"
     ]
    }
   ],
   "source": [
    "# Torch input\n",
    "X_torch = torch.rand((1000,1000),requires_grad=True)\n",
    "X_torch = X_torch.cuda()\n",
    "# CrysX-NN input\n",
    "X_crysx_nn = X_torch.cpu().detach().numpy()\n",
    "X_cupy = cp.asarray(X_crysx_nn)\n",
    "# Tensorflow input\n",
    "X_tf = tf.convert_to_tensor(X_crysx_nn, dtype=tf.float32)\n",
    "\n",
    "\n",
    "# Torch\n",
    "sigmoid_torch_func = torch.nn.Sigmoid() # Get an instance of Sigmoid class for Pytorch\n",
    "sigmoid_torch_value = sigmoid_torch_func(X_torch)\n",
    "gradientsTorch = torch_sigmoid_grad(sigmoid_torch_value, X_torch)\n",
    "# print(gradientsTorch)\n",
    "\n",
    "# CrysX\n",
    "# softmax_crysx_nn_value = Softmax(X_crysx_nn)\n",
    "gradientsCrysx = Sigmoid_grad_cupy(X_cupy)\n",
    "# print(gradientsCrysx)\n",
    "\n",
    "# Tensorflow\n",
    "gradientsTF = tf_sigmoid_grad(X_tf) # requires a computation of sigmoid values again\n",
    "with tf.GradientTape() as g:\n",
    "    g.watch(X_tf)\n",
    "    sigmoid_tf_value = tf.nn.sigmoid(X_tf)\n",
    "gradientsTF = g.gradient(sigmoid_tf_value, X_tf)\n",
    "del g\n",
    "# print(gradientsTF)\n",
    "\n",
    "#Diff b/w tf and torch\n",
    "print('Max abs diff b/w torch and tf', abs(gradientsTorch.cpu().detach().numpy() - gradientsTF.numpy()).max())\n",
    "\n",
    "#Diff b/w crysx_nn and torch\n",
    "print('Max abs diff b/w torch and CrysX', abs(gradientsTorch.cpu().detach().numpy() - cp.asnumpy(gradientsCrysx)).max())\n"
   ]
  },
  {
   "cell_type": "markdown",
   "id": "db0c5e50",
   "metadata": {
    "id": "db0c5e50"
   },
   "source": [
    "### Compare performance\n",
    "\n",
    "Since, CrysX-NN also requires the calculation of softmax function, therefore we should also include this calculation time for PyTorch and Tensorflow.\n",
    "\n",
    "I would like to stress here again, that I am not really sure if the autodifferentiated implementations of softmax gradients that I have used, are a good representative of the real-world performance or not. \n",
    "\n",
    "Especially, the torch jacobian would be extreeeemely slowww due to the for loops. But tensorflow implementation isn't that fast either.\n",
    "\n",
    "So we would skip the plots of timings vs array_size for benchmarks."
   ]
  },
  {
   "cell_type": "code",
   "execution_count": 53,
   "id": "97e0e0c4",
   "metadata": {
    "colab": {
     "base_uri": "https://localhost:8080/"
    },
    "id": "97e0e0c4",
    "outputId": "cb598108-e94d-4800-a78f-1a335de35c1d"
   },
   "outputs": [
    {
     "name": "stdout",
     "output_type": "stream",
     "text": [
      "PyTorch gradient only\n",
      "1.3 ms ± 29.2 µs per loop (mean ± std. dev. of 7 runs, 100 loops each)\n",
      "CrysX-NN (crysx_nn) gradient only\n",
      "254 µs ± 108 µs per loop (mean ± std. dev. of 7 runs, 100 loops each)\n",
      "Tensorflow gradient+value\n",
      "438 µs ± 32.1 µs per loop (mean ± std. dev. of 7 runs, 100 loops each)\n",
      "Tensorflow value only\n",
      "52.5 µs ± 4.22 µs per loop (mean ± std. dev. of 7 runs, 100 loops each)\n"
     ]
    }
   ],
   "source": [
    "# Torch\n",
    "print('PyTorch gradient only')\n",
    "sigmoid_torch_func = torch.nn.Sigmoid() # Get an instance of Sigmoid class for Pytorch\n",
    "sigmoid_torch_value = sigmoid_torch_func(X_torch)\n",
    "%timeit -n 100 torch_sigmoid_grad(sigmoid_torch_value, X_torch)\n",
    "\n",
    "# CrysX\n",
    "print('CrysX-NN (crysx_nn) gradient only')\n",
    "%timeit -n 100 Sigmoid_grad_cupy(X_cupy)\n",
    "\n",
    "# Tensorflow\n",
    "print('Tensorflow gradient+value')\n",
    "with tf.GradientTape(persistent=False) as g:\n",
    "    g.watch(X_tf)\n",
    "    sigmoid_tf_value = tf.nn.sigmoid(X_tf)\n",
    "# %timeit -n 100 g.gradient(sigmoid_tf_value, X_tf) # Doesn't work due to multiple runs of timeit and tape not supporting it\n",
    "%timeit -n 100  tf_sigmoid_grad(X_tf)\n",
    "print('Tensorflow value only')\n",
    "%timeit -n 100 tf.keras.activations.sigmoid(X_tf)\n",
    "\n"
   ]
  },
  {
   "cell_type": "markdown",
   "id": "f22b3e63",
   "metadata": {
    "id": "f22b3e63"
   },
   "source": [
    "In the above, we see that PyTorch is again quite fast for a million element array. \n",
    "CrysX-NN gives decent performance.\n",
    "\n",
    "Tensorflow is a bit tricky. Due to `%timeit` requiring multiple runs, and tape being only restricted to a single run, I had to use the other implementation of gradient using tensorflow, where the `values+gradients` are computed.\n",
    "\n",
    "Therefore, to get a good idea of the tensorflow gradient performance I have also calculated the time taken by tensorflow for just evaluating the functions."
   ]
  },
  {
   "cell_type": "markdown",
   "id": "5851d1a9",
   "metadata": {
    "id": "5851d1a9"
   },
   "source": [
    "## Benchmark Softmax"
   ]
  },
  {
   "cell_type": "markdown",
   "id": "550907c0",
   "metadata": {
    "id": "550907c0"
   },
   "source": [
    "### Confirm that all frameworks give the same results"
   ]
  },
  {
   "cell_type": "code",
   "execution_count": 54,
   "id": "492611ca",
   "metadata": {
    "colab": {
     "base_uri": "https://localhost:8080/"
    },
    "id": "492611ca",
    "outputId": "9967bc4d-842c-4ee4-c9eb-a02ed573d491"
   },
   "outputs": [
    {
     "name": "stderr",
     "output_type": "stream",
     "text": [
      "/usr/local/lib/python3.7/dist-packages/ipykernel_launcher.py:13: UserWarning: Implicit dimension choice for softmax has been deprecated. Change the call to include dim=X as an argument.\n",
      "  del sys.path[0]\n"
     ]
    },
    {
     "name": "stdout",
     "output_type": "stream",
     "text": [
      "Max abs diff b/w torch and tf 3.4924597e-10\n",
      "Max abs diff b/w torch and CrysX 4.656613e-10\n"
     ]
    }
   ],
   "source": [
    "# Torch input\n",
    "X_torch = torch.rand((1000,1000),requires_grad=True)\n",
    "X_torch = X_torch.cuda()\n",
    "# CrysX-NN input\n",
    "X_crysx_nn = X_torch.cpu().detach().numpy()\n",
    "X_cupy = cp.asarray(X_crysx_nn)\n",
    "# Tensorflow input\n",
    "X_tf = tf.convert_to_tensor(X_crysx_nn, dtype=tf.float32)\n",
    "\n",
    "\n",
    "# Torch\n",
    "softmax_torch_func = torch.nn.Softmax() # Get an instance of Softmax class for Pytorch\n",
    "softmax_torch_value = softmax_torch_func(X_torch)\n",
    "\n",
    "# CrysX\n",
    "softmax_crysx_nn_value = Softmax_cupy(X_cupy)\n",
    "\n",
    "# Tensorflow\n",
    "softmax_tf_value = tf.keras.activations.softmax(X_tf)\n",
    "\n",
    "#Diff b/w tf and torch\n",
    "print('Max abs diff b/w torch and tf', abs(softmax_torch_value.cpu().detach().numpy() - softmax_tf_value.numpy()).max())\n",
    "\n",
    "#Diff b/w crysx_nn and torch\n",
    "print('Max abs diff b/w torch and CrysX', abs(softmax_torch_value.cpu().detach().numpy() - cp.asnumpy(softmax_crysx_nn_value)).max())\n"
   ]
  },
  {
   "cell_type": "markdown",
   "id": "4c2e7e63",
   "metadata": {
    "id": "4c2e7e63"
   },
   "source": [
    "### Compare performance"
   ]
  },
  {
   "cell_type": "code",
   "execution_count": 55,
   "id": "1c4d15a3",
   "metadata": {
    "colab": {
     "base_uri": "https://localhost:8080/"
    },
    "id": "1c4d15a3",
    "outputId": "86b6542d-b116-4c0f-9883-b5975f7771fb"
   },
   "outputs": [
    {
     "name": "stdout",
     "output_type": "stream",
     "text": [
      "PyTorch\n",
      "35.2 µs ± 21.3 µs per loop (mean ± std. dev. of 7 runs, 100 loops each)\n",
      "CrysX-NN (crysx_nn)\n"
     ]
    },
    {
     "name": "stderr",
     "output_type": "stream",
     "text": [
      "/usr/local/lib/python3.7/dist-packages/ipykernel_launcher.py:1: UserWarning: Implicit dimension choice for softmax has been deprecated. Change the call to include dim=X as an argument.\n",
      "  \"\"\"Entry point for launching an IPython kernel.\n"
     ]
    },
    {
     "name": "stdout",
     "output_type": "stream",
     "text": [
      "The slowest run took 12.62 times longer than the fastest. This could mean that an intermediate result is being cached.\n",
      "1.09 ms ± 606 µs per loop (mean ± std. dev. of 7 runs, 100 loops each)\n",
      "Tensorflow\n",
      "The slowest run took 42.99 times longer than the fastest. This could mean that an intermediate result is being cached.\n",
      "511 µs ± 963 µs per loop (mean ± std. dev. of 7 runs, 100 loops each)\n"
     ]
    }
   ],
   "source": [
    "# Torch\n",
    "print('PyTorch')\n",
    "softmax_torch_func = torch.nn.Softmax() # Get an instance of Softmax class for Pytorch\n",
    "%timeit -n 100 softmax_torch_func(X_torch)\n",
    "\n",
    "# CrysX\n",
    "print('CrysX-NN (crysx_nn)')\n",
    "%timeit -n 100 Softmax_cupy(X_cupy)\n",
    "\n",
    "# Tensorflow\n",
    "print('Tensorflow')\n",
    "%timeit -n 100 tf.keras.activations.softmax(X_tf)\n"
   ]
  },
  {
   "cell_type": "markdown",
   "id": "0f6c0a4b",
   "metadata": {
    "id": "0f6c0a4b"
   },
   "source": [
    "### Compare performance with arrays of different sizes"
   ]
  },
  {
   "cell_type": "code",
   "execution_count": 56,
   "id": "5759d8ef",
   "metadata": {
    "colab": {
     "base_uri": "https://localhost:8080/"
    },
    "id": "5759d8ef",
    "outputId": "f5a67658-0ebc-47f3-a71f-59c4258dffa2"
   },
   "outputs": [
    {
     "name": "stdout",
     "output_type": "stream",
     "text": [
      "24.9 µs ± 3.35 µs per loop (mean ± std. dev. of 7 runs, 100 loops each)\n",
      "111 µs ± 6.64 µs per loop (mean ± std. dev. of 7 runs, 100 loops each)\n"
     ]
    },
    {
     "name": "stderr",
     "output_type": "stream",
     "text": [
      "/usr/local/lib/python3.7/dist-packages/ipykernel_launcher.py:1: UserWarning: Implicit dimension choice for softmax has been deprecated. Change the call to include dim=X as an argument.\n",
      "  \"\"\"Entry point for launching an IPython kernel.\n"
     ]
    },
    {
     "name": "stdout",
     "output_type": "stream",
     "text": [
      "81.4 µs ± 18.9 µs per loop (mean ± std. dev. of 7 runs, 100 loops each)\n",
      "25.4 µs ± 2.11 µs per loop (mean ± std. dev. of 7 runs, 100 loops each)\n",
      "309 µs ± 147 µs per loop (mean ± std. dev. of 7 runs, 100 loops each)\n",
      "The slowest run took 11.66 times longer than the fastest. This could mean that an intermediate result is being cached.\n",
      "168 µs ± 234 µs per loop (mean ± std. dev. of 7 runs, 100 loops each)\n",
      "24.9 µs ± 1.44 µs per loop (mean ± std. dev. of 7 runs, 100 loops each)\n",
      "The slowest run took 12.32 times longer than the fastest. This could mean that an intermediate result is being cached.\n",
      "1.12 ms ± 599 µs per loop (mean ± std. dev. of 7 runs, 100 loops each)\n",
      "The slowest run took 43.30 times longer than the fastest. This could mean that an intermediate result is being cached.\n",
      "523 µs ± 998 µs per loop (mean ± std. dev. of 7 runs, 100 loops each)\n",
      "25.3 µs ± 2.15 µs per loop (mean ± std. dev. of 7 runs, 100 loops each)\n",
      "The slowest run took 13.62 times longer than the fastest. This could mean that an intermediate result is being cached.\n",
      "2.53 ms ± 1.17 ms per loop (mean ± std. dev. of 7 runs, 100 loops each)\n",
      "The slowest run took 87.46 times longer than the fastest. This could mean that an intermediate result is being cached.\n",
      "1.12 ms ± 2.25 ms per loop (mean ± std. dev. of 7 runs, 100 loops each)\n",
      "28.7 µs ± 5.4 µs per loop (mean ± std. dev. of 7 runs, 100 loops each)\n",
      "The slowest run took 11.27 times longer than the fastest. This could mean that an intermediate result is being cached.\n",
      "4.43 ms ± 2.04 ms per loop (mean ± std. dev. of 7 runs, 100 loops each)\n",
      "The slowest run took 150.64 times longer than the fastest. This could mean that an intermediate result is being cached.\n",
      "1.95 ms ± 3.99 ms per loop (mean ± std. dev. of 7 runs, 100 loops each)\n"
     ]
    }
   ],
   "source": [
    "time_torch = []\n",
    "time_crysx_nn = []\n",
    "time_tf = []\n",
    "sizes = []\n",
    "\n",
    "for n_size in range(10,2500,500):\n",
    "    sizes.append(n_size*n_size)\n",
    "    # Torch input\n",
    "    X_torch = torch.rand((n_size,n_size),requires_grad=True)\n",
    "    X_torch = X_torch.cuda()\n",
    "    # CrysX-NN input\n",
    "    X_crysx_nn = X_torch.cpu().detach().numpy()\n",
    "    X_cupy = cp.asarray(X_crysx_nn)\n",
    "    # Tensorflow input\n",
    "    X_tf = tf.convert_to_tensor(X_crysx_nn, dtype=tf.float32)\n",
    "    \n",
    "    ##--Timings--\n",
    "    # Torch\n",
    "    softmax_torch_func = torch.nn.Softmax() # Get an instance of Sigmoid class for Pytorch\n",
    "    time = %timeit -n 100 -o softmax_torch_func(X_torch)\n",
    "    # For time of each run\n",
    "    time_torch.append(np.mean(time.timings)) \n",
    "    # For total time\n",
    "#     time_torch.append(np.mean(time.all_runs)) \n",
    "    # CrysX\n",
    "    time = %timeit -n 100 -o Softmax_cupy(X_cupy)\n",
    "    # For time of each run\n",
    "    time_crysx_nn.append(np.mean(time.timings))\n",
    "    # Tensorflow\n",
    "    time = %timeit -n 100 -o tf.keras.activations.softmax(X_tf)\n",
    "    # For time of each run\n",
    "    time_tf.append(np.mean(time.timings))\n",
    "    "
   ]
  },
  {
   "cell_type": "markdown",
   "id": "7c96c36b",
   "metadata": {
    "id": "7c96c36b"
   },
   "source": [
    "### Plot the results"
   ]
  },
  {
   "cell_type": "code",
   "execution_count": 57,
   "id": "a947be53",
   "metadata": {
    "colab": {
     "base_uri": "https://localhost:8080/",
     "height": 295
    },
    "id": "a947be53",
    "outputId": "10773cf8-63ee-4fa3-edd3-ccb62bd237e0"
   },
   "outputs": [
    {
     "data": {
      "image/png": "[encoded data removed]",
      "text/plain": [
       "<Figure size 432x288 with 1 Axes>"
      ]
     },
     "metadata": {
      "needs_background": "light"
     },
     "output_type": "display_data"
    }
   ],
   "source": [
    "\n",
    "plt.plot(sizes,time_torch, label='PyTorch')\n",
    "plt.plot(sizes,time_crysx_nn, label='CrysX-NN')\n",
    "plt.plot(sizes,time_tf, label='Tensorflow')\n",
    "plt.legend()\n",
    "plt.xlabel('Array sizes')\n",
    "plt.ylabel('Timings')\n",
    "plt.title('Benchmark Softmax')\n",
    "plt.show()\n"
   ]
  },
  {
   "cell_type": "markdown",
   "id": "59a07d20",
   "metadata": {
    "id": "59a07d20"
   },
   "source": [
    "## Benchmark Softmax derivative (gradient) wrt input batch\n",
    "\n",
    "This is slightly tricky. \n",
    "PyTorch and Tensorflow don't explicitly come with a function that gives the gradient. \n",
    "Rather they use atuomatic differentiation.\n",
    "\n",
    "This is why, PyTorch would require the value of the output of the activation function as well, rather than just an input function.\n",
    "\n",
    "Therefore, it is not really evident if the timings can be taken as a good representative of the performance of PyTorch and Tensorflow frameworks.\n",
    "\n",
    "#### Update: Seems to be really problematic to get the jacobian of Softmax wrt inputs in an efficient manner using the PyTorch framework. \n",
    "\n",
    "There are ways in which you can do it, but they would be slow. (https://discuss.pytorch.org/t/how-to-compute-jacobian-matrix-in-pytorch/14968/16)\n",
    "\n",
    "So take the timing results with a grain of salt."
   ]
  },
  {
   "cell_type": "code",
   "execution_count": 58,
   "id": "1eda9eb2",
   "metadata": {
    "id": "1eda9eb2"
   },
   "outputs": [],
   "source": [
    "def tf_softmax_grad(z):\n",
    "#   z = tf.constant(z, dtype=tf.float32)\n",
    "    with tf.GradientTape() as g:\n",
    "        g.watch(z)\n",
    "        a = tf.nn.softmax(z) \n",
    "    jacob = g.batch_jacobian(a, z)\n",
    "    return jacob#.numpy()"
   ]
  },
  {
   "cell_type": "code",
   "execution_count": 59,
   "id": "2ec068cd",
   "metadata": {
    "id": "2ec068cd"
   },
   "outputs": [],
   "source": [
    "# Reference: https://discuss.pytorch.org/t/how-to-compute-jacobian-matrix-in-pytorch/14968/16\n",
    "def torch_softmax_grad(wrt):\n",
    "    jacobian = []\n",
    "    softmax_func = torch.nn.Softmax() # Get an instance of Softmax class for Pytorch\n",
    "    softmax_func.eval()\n",
    "    for i in range(wrt.shape[0]):\n",
    "        jac = torch.autograd.functional.jacobian(softmax_func, wrt[i])\n",
    "        jacobian.append(jac)\n",
    "        #\n",
    "    return torch.stack(jacobian, 0)"
   ]
  },
  {
   "cell_type": "markdown",
   "id": "a5a55fc7",
   "metadata": {
    "id": "a5a55fc7"
   },
   "source": [
    "### Confirm that all frameworks give the same results"
   ]
  },
  {
   "cell_type": "code",
   "execution_count": 60,
   "id": "7d1a9a63",
   "metadata": {
    "colab": {
     "base_uri": "https://localhost:8080/"
    },
    "id": "7d1a9a63",
    "outputId": "d33e17c3-832b-4543-b0b8-6cce980e70e0"
   },
   "outputs": [
    {
     "name": "stderr",
     "output_type": "stream",
     "text": [
      "/usr/local/lib/python3.7/dist-packages/torch/autograd/functional.py:482: UserWarning: Implicit dimension choice for softmax has been deprecated. Change the call to include dim=X as an argument.\n",
      "  outputs = func(*inputs)\n"
     ]
    },
    {
     "name": "stdout",
     "output_type": "stream",
     "text": [
      "Max abs diff b/w torch and tf 3.7252903e-09\n",
      "Max abs diff b/w torch and CrysX 4.452886059880257e-09\n"
     ]
    }
   ],
   "source": [
    "# Torch input\n",
    "X_torch = torch.rand((300,100),requires_grad=True)\n",
    "X_torch = X_torch.cuda()\n",
    "# CrysX-NN input\n",
    "X_crysx_nn = X_torch.cpu().detach().numpy()\n",
    "X_cupy = cp.asarray(X_crysx_nn)\n",
    "# Tensorflow input\n",
    "X_tf = tf.convert_to_tensor(X_crysx_nn, dtype=tf.float32)\n",
    "\n",
    "\n",
    "# Torch\n",
    "# softmax_torch_func = torch.nn.Softmax() # Get an instance of Softmax class for Pytorch\n",
    "# softmax_torch_value = softmax_torch_func(X_torch)\n",
    "device = 'cuda'\n",
    "gradientsTorch = torch_softmax_grad(X_torch)#torch.autograd.grad(outputs=softmax_torch_value, inputs=X_torch,\n",
    "#                           grad_outputs=torch.ones(softmax_torch_value.size()).to(device),\n",
    "#                           create_graph=True, retain_graph=True, only_inputs=True)[0]\n",
    "# print(gradientsTorch)\n",
    "\n",
    "# CrysX\n",
    "# softmax_crysx_nn_value = Softmax(X_crysx_nn)\n",
    "gradientsCrysx = Softmax_grad_cupy(X_cupy)\n",
    "# print(gradientsCrysx)\n",
    "\n",
    "# Tensorflow\n",
    "# softmax_tf_value = tf.nn.softmax(X_tf)\n",
    "gradientsTF = tf_softmax_grad(X_tf)\n",
    "# print(gradientsTF)\n",
    "\n",
    "#Diff b/w tf and torch\n",
    "print('Max abs diff b/w torch and tf', abs(gradientsTorch.cpu().detach().numpy() - gradientsTF.numpy()).max())\n",
    "\n",
    "#Diff b/w crysx_nn and torch\n",
    "print('Max abs diff b/w torch and CrysX', abs(gradientsTorch.cpu().detach().numpy() - cp.asnumpy(gradientsCrysx)).max())\n"
   ]
  },
  {
   "cell_type": "markdown",
   "id": "533e2cd0",
   "metadata": {
    "id": "533e2cd0"
   },
   "source": [
    "### Compare performance\n",
    "\n",
    "Since, CrysX-NN also requires the calculation of softmax function, therefore we should also include this calculation time for PyTorch and Tensorflow.\n",
    "\n",
    "I would like to stress here again, that I am not really sure if the autodifferentiated implementations of softmax gradients that I have used, are a good representative of the real-world performance or not. \n",
    "\n",
    "Especially, the torch jacobian would be extreeeemely slowww due to the for loops. But tensorflow implementation isn't that fast either.\n",
    "\n",
    "So we would skip the plots of timings vs array_size for benchmarks."
   ]
  },
  {
   "cell_type": "code",
   "execution_count": 61,
   "id": "3622fa31",
   "metadata": {
    "colab": {
     "base_uri": "https://localhost:8080/"
    },
    "id": "3622fa31",
    "outputId": "ee5cd9b8-8ede-4591-9cdc-0317a5087c8e"
   },
   "outputs": [
    {
     "name": "stdout",
     "output_type": "stream",
     "text": [
      "PyTorch\n",
      "9.39 s ± 208 ms per loop (mean ± std. dev. of 7 runs, 2 loops each)\n",
      "CrysX-NN (crysx_nn)\n",
      "738 µs ± 443 µs per loop (mean ± std. dev. of 7 runs, 2 loops each)\n",
      "Tensorflow\n",
      "WARNING:tensorflow:5 out of the last 5 calls to <function pfor.<locals>.f at 0x7efdf027d950> triggered tf.function retracing. Tracing is expensive and the excessive number of tracings could be due to (1) creating @tf.function repeatedly in a loop, (2) passing tensors with different shapes, (3) passing Python objects instead of tensors. For (1), please define your @tf.function outside of the loop. For (2), @tf.function has experimental_relax_shapes=True option that relaxes argument shapes that can avoid unnecessary retracing. For (3), please refer to https://www.tensorflow.org/guide/function#controlling_retracing and https://www.tensorflow.org/api_docs/python/tf/function for  more details.\n",
      "WARNING:tensorflow:6 out of the last 6 calls to <function pfor.<locals>.f at 0x7efdf00ef200> triggered tf.function retracing. Tracing is expensive and the excessive number of tracings could be due to (1) creating @tf.function repeatedly in a loop, (2) passing tensors with different shapes, (3) passing Python objects instead of tensors. For (1), please define your @tf.function outside of the loop. For (2), @tf.function has experimental_relax_shapes=True option that relaxes argument shapes that can avoid unnecessary retracing. For (3), please refer to https://www.tensorflow.org/guide/function#controlling_retracing and https://www.tensorflow.org/api_docs/python/tf/function for  more details.\n",
      "273 ms ± 7.85 ms per loop (mean ± std. dev. of 7 runs, 2 loops each)\n"
     ]
    }
   ],
   "source": [
    "# Torch\n",
    "print('PyTorch')\n",
    "%timeit -n 2 torch_softmax_grad(X_torch)\n",
    "\n",
    "# CrysX\n",
    "print('CrysX-NN (crysx_nn)')\n",
    "%timeit -n 2 Softmax_grad_cupy(X_cupy)\n",
    "\n",
    "# Tensorflow\n",
    "print('Tensorflow')\n",
    "%timeit -n 2 tf_softmax_grad(X_tf)\n"
   ]
  },
  {
   "cell_type": "code",
   "execution_count": 61,
   "id": "SiNhQcM3GMeL",
   "metadata": {
    "id": "SiNhQcM3GMeL"
   },
   "outputs": [],
   "source": []
  }
 ],
 "metadata": {
  "accelerator": "GPU",
  "colab": {
   "collapsed_sections": [],
   "name": "Performance_Activation_Functions_GPU.ipynb",
   "provenance": []
  },
  "kernelspec": {
   "display_name": "Python 3 (ipykernel)",
   "language": "python",
   "name": "python3"
  },
  "language_info": {
   "codemirror_mode": {
    "name": "ipython",
    "version": 3
   },
   "file_extension": ".py",
   "mimetype": "text/x-python",
   "name": "python",
   "nbconvert_exporter": "python",
   "pygments_lexer": "ipython3",
   "version": "3.7.11"
  }
 },
 "nbformat": 4,
 "nbformat_minor": 5
}
