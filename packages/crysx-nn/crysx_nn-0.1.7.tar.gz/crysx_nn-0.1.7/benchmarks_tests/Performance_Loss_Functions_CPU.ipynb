{
 "cells": [
  {
   "cell_type": "code",
   "execution_count": null,
   "id": "83d84a69",
   "metadata": {},
   "outputs": [],
   "source": []
  },
  {
   "cell_type": "markdown",
   "id": "cc6c6ea4",
   "metadata": {},
   "source": [
    "# This notebook serves as the validation fo the correct implementation of the loss functions and their derivatives in CrysX-NN\n",
    "\n",
    "# Plus, as a benchmark of the speed"
   ]
  },
  {
   "cell_type": "markdown",
   "id": "0f1da3b7",
   "metadata": {},
   "source": [
    "## Run the following for Google colab \n",
    "then restart runtime"
   ]
  },
  {
   "cell_type": "code",
   "execution_count": 1,
   "id": "85649fc6",
   "metadata": {},
   "outputs": [],
   "source": [
    "! pip install --upgrade --no-cache-dir https://github.com/manassharma07/crysx_nn/tarball/main\n",
    "! pip install IPython==7.7.0"
   ]
  },
  {
   "cell_type": "code",
   "execution_count": 1,
   "id": "5284e96f",
   "metadata": {},
   "outputs": [
    {
     "name": "stdout",
     "output_type": "stream",
     "text": [
      "blas_mkl_info:\n",
      "    libraries = ['mkl_rt']\n",
      "    library_dirs = ['C:/Users/manas/anaconda3/envs/crysx_nn\\\\Library\\\\lib']\n",
      "    define_macros = [('SCIPY_MKL_H', None), ('HAVE_CBLAS', None)]\n",
      "    include_dirs = ['C:/Users/manas/anaconda3/envs/crysx_nn\\\\Library\\\\include']\n",
      "blas_opt_info:\n",
      "    libraries = ['mkl_rt']\n",
      "    library_dirs = ['C:/Users/manas/anaconda3/envs/crysx_nn\\\\Library\\\\lib']\n",
      "    define_macros = [('SCIPY_MKL_H', None), ('HAVE_CBLAS', None)]\n",
      "    include_dirs = ['C:/Users/manas/anaconda3/envs/crysx_nn\\\\Library\\\\include']\n",
      "lapack_mkl_info:\n",
      "    libraries = ['mkl_rt']\n",
      "    library_dirs = ['C:/Users/manas/anaconda3/envs/crysx_nn\\\\Library\\\\lib']\n",
      "    define_macros = [('SCIPY_MKL_H', None), ('HAVE_CBLAS', None)]\n",
      "    include_dirs = ['C:/Users/manas/anaconda3/envs/crysx_nn\\\\Library\\\\include']\n",
      "lapack_opt_info:\n",
      "    libraries = ['mkl_rt']\n",
      "    library_dirs = ['C:/Users/manas/anaconda3/envs/crysx_nn\\\\Library\\\\lib']\n",
      "    define_macros = [('SCIPY_MKL_H', None), ('HAVE_CBLAS', None)]\n",
      "    include_dirs = ['C:/Users/manas/anaconda3/envs/crysx_nn\\\\Library\\\\include']\n",
      "CrysX-NN 0.1.6\n",
      "torch 1.10.1\n",
      "tensorflow 2.2.3\n"
     ]
    }
   ],
   "source": [
    "import os\n",
    "os.environ[\"CUDA_VISIBLE_DEVICES\"] = \"-1\" # Ensure that evertyhing is only using CPU¶\n",
    "\n",
    "import numpy as np\n",
    "np.show_config()\n",
    "import matplotlib.pyplot as plt\n",
    "\n",
    "# Import activation functions from crysx_nn\n",
    "from crysx_nn.loss import MSE_loss, MSE_loss_grad\n",
    "from crysx_nn.loss import MAE_loss, MAE_loss_grad\n",
    "from crysx_nn.loss import BCE_loss, BCE_loss_grad\n",
    "from crysx_nn.loss import CCE_loss, CCE_loss_grad\n",
    "import crysx_nn\n",
    "print('CrysX-NN',crysx_nn.__version__)\n",
    "\n",
    "# PyTorch\n",
    "import torch\n",
    "print('torch',torch.__version__)\n",
    "\n",
    "# Tensorflow\n",
    "import tensorflow as tf\n",
    "print('tensorflow',tf.__version__)"
   ]
  },
  {
   "cell_type": "markdown",
   "id": "f7f81111",
   "metadata": {},
   "source": [
    "## Ensure that evertyhing is only using CPU"
   ]
  },
  {
   "cell_type": "code",
   "execution_count": 2,
   "id": "64db5cb7",
   "metadata": {},
   "outputs": [
    {
     "data": {
      "text/plain": [
       "False"
      ]
     },
     "execution_count": 2,
     "metadata": {},
     "output_type": "execute_result"
    }
   ],
   "source": [
    "torch.cuda.is_available()"
   ]
  },
  {
   "cell_type": "code",
   "execution_count": 3,
   "id": "8bf30fa3",
   "metadata": {},
   "outputs": [
    {
     "name": "stdout",
     "output_type": "stream",
     "text": [
      "Num GPUs Available:  0\n"
     ]
    }
   ],
   "source": [
    "print(\"Num GPUs Available: \", len(tf.config.list_physical_devices('GPU')))"
   ]
  },
  {
   "cell_type": "code",
   "execution_count": 10,
   "id": "3cb12b26",
   "metadata": {},
   "outputs": [
    {
     "name": "stdout",
     "output_type": "stream",
     "text": [
      "WARNING:tensorflow:From C:\\Users\\manas\\AppData\\Local\\Temp/ipykernel_25552/337460670.py:1: is_gpu_available (from tensorflow.python.framework.test_util) is deprecated and will be removed in a future version.\n",
      "Instructions for updating:\n",
      "Use `tf.config.list_physical_devices('GPU')` instead.\n"
     ]
    },
    {
     "data": {
      "text/plain": [
       "False"
      ]
     },
     "execution_count": 10,
     "metadata": {},
     "output_type": "execute_result"
    }
   ],
   "source": [
    "tf.test.is_gpu_available()"
   ]
  },
  {
   "cell_type": "code",
   "execution_count": 11,
   "id": "5d5c0f0b",
   "metadata": {},
   "outputs": [
    {
     "name": "stdout",
     "output_type": "stream",
     "text": [
      "True\n"
     ]
    }
   ],
   "source": [
    "print(tf.test.is_built_with_cuda())"
   ]
  },
  {
   "cell_type": "markdown",
   "id": "3e09381f",
   "metadata": {},
   "source": [
    "## Generate an input `2d array` of type `float32` for benchmark (let's say using `torch`)"
   ]
  },
  {
   "cell_type": "code",
   "execution_count": 6,
   "id": "d1ac102d",
   "metadata": {},
   "outputs": [
    {
     "name": "stdout",
     "output_type": "stream",
     "text": [
      "tensor([[7.8325e+01, 7.1665e+01, 2.2816e+01,  ..., 3.7080e+01, 7.5645e+01,\n",
      "         8.4311e+01],\n",
      "        [6.0137e+01, 7.2536e+01, 8.0802e+01,  ..., 3.1254e+01, 9.2218e+01,\n",
      "         6.5933e+01],\n",
      "        [1.4337e+01, 5.7792e+01, 6.8158e+01,  ..., 8.3601e+00, 6.9265e+01,\n",
      "         8.8062e+01],\n",
      "        ...,\n",
      "        [1.5256e+01, 3.2807e+01, 8.5318e-02,  ..., 9.7137e+01, 7.7739e+01,\n",
      "         7.4735e+01],\n",
      "        [6.0158e+00, 5.8915e+01, 3.2583e+01,  ..., 6.8470e+01, 8.4217e+00,\n",
      "         9.1502e+01],\n",
      "        [9.4338e+01, 1.6464e+01, 4.4108e+01,  ..., 7.4684e+01, 3.1274e+01,\n",
      "         4.1247e+00]], grad_fn=<MulBackward0>)\n",
      "tensor([[ 9.0868, 34.9519, 34.9496,  ..., 40.7303,  6.9180,  4.4952],\n",
      "        [40.6986, 56.5676, 45.2916,  ..., 77.8941, 51.2611, 19.5253],\n",
      "        [36.1892, 14.3350, 88.4473,  ..., 42.1479, 59.8267, 17.1892],\n",
      "        ...,\n",
      "        [47.4327, 94.0944, 57.9000,  ..., 78.6854, 21.6182,  5.1914],\n",
      "        [68.0604, 25.3448, 96.9070,  ..., 97.4925, 38.3283, 88.3539],\n",
      "        [ 7.9165, 65.2029, 27.3672,  ..., 59.6985, 84.0486, 70.9564]],\n",
      "       grad_fn=<MulBackward0>)\n"
     ]
    }
   ],
   "source": [
    "predictions_torch = 100*torch.rand((300,100),requires_grad=True)\n",
    "print(predictions_torch)\n",
    "targets_torch = 100*torch.rand((300,100),requires_grad=True)\n",
    "print(targets_torch)"
   ]
  },
  {
   "cell_type": "markdown",
   "id": "ff1bffee",
   "metadata": {},
   "source": [
    "## Convert it to numpy for `crysx_nn`"
   ]
  },
  {
   "cell_type": "code",
   "execution_count": 7,
   "id": "def94718",
   "metadata": {},
   "outputs": [
    {
     "name": "stdout",
     "output_type": "stream",
     "text": [
      "float32\n",
      "float32\n"
     ]
    }
   ],
   "source": [
    "predictions_crysx_nn = predictions_torch.cpu().detach().numpy()\n",
    "print(predictions_crysx_nn.dtype)\n",
    "targets_crysx_nn = targets_torch.cpu().detach().numpy()\n",
    "print(targets_crysx_nn.dtype)"
   ]
  },
  {
   "cell_type": "markdown",
   "id": "c863f928",
   "metadata": {},
   "source": [
    "## Now finally convert it to a tensorflow tensor"
   ]
  },
  {
   "cell_type": "code",
   "execution_count": 8,
   "id": "4191adb6",
   "metadata": {},
   "outputs": [],
   "source": [
    "predictions_tf = tf.convert_to_tensor(predictions_crysx_nn, dtype=tf.float32)\n",
    "targets_tf = tf.convert_to_tensor(targets_crysx_nn, dtype=tf.float32)"
   ]
  },
  {
   "cell_type": "markdown",
   "id": "0bc3a32c",
   "metadata": {},
   "source": [
    "## Benchmark MSE_loss"
   ]
  },
  {
   "cell_type": "markdown",
   "id": "d753f50d",
   "metadata": {},
   "source": [
    "### Confirm that all frameworks give the same results"
   ]
  },
  {
   "cell_type": "markdown",
   "id": "2904171d",
   "metadata": {},
   "source": [
    "PyTorch expects predictions first then targets\n",
    "\n",
    "PyTorch - https://pytorch.org/docs/stable/generated/torch.nn.MSELoss.html\n",
    "\n",
    "TensorFlow expects targets first then predictions\n",
    "\n",
    "Tensorflow - https://www.tensorflow.org/api_docs/python/tf/keras/losses/MeanSquaredError\n",
    "\n",
    "CrysX-NN doesn't return values averaged over samples. So take care of that."
   ]
  },
  {
   "cell_type": "code",
   "execution_count": 9,
   "id": "5f06c8a6",
   "metadata": {},
   "outputs": [
    {
     "name": "stdout",
     "output_type": "stream",
     "text": [
      "<class 'float'>\n",
      "Max abs diff b/w torch and tf 0.00012207031\n",
      "Max abs diff b/w torch and CrysX 8.392161203119031e-05\n"
     ]
    }
   ],
   "source": [
    "# Torch\n",
    "mse_loss_func = torch.nn.MSELoss()\n",
    "mse_torch_value = mse_loss_func(predictions_torch, targets_torch)\n",
    "\n",
    "# CrysX\n",
    "mse_crysx_nn_value = MSE_loss(predictions_crysx_nn, targets_crysx_nn)/predictions_crysx_nn.shape[0]\n",
    "print(type(mse_crysx_nn_value))\n",
    "\n",
    "# Tensorflow\n",
    "mse_tf_func = tf.keras.losses.MeanSquaredError()\n",
    "mse_tf_value = mse_tf_func(targets_tf, predictions_tf)\n",
    "\n",
    "#Diff b/w tf and torch\n",
    "print('Max abs diff b/w torch and tf', abs(mse_torch_value.cpu().detach().numpy() - mse_tf_value.numpy()).max())\n",
    "\n",
    "#Diff b/w crysx_nn and torch\n",
    "print('Max abs diff b/w torch and CrysX', abs(mse_torch_value.cpu().detach().numpy() - mse_crysx_nn_value).max())"
   ]
  },
  {
   "cell_type": "markdown",
   "id": "85aaea9f",
   "metadata": {},
   "source": [
    "### Compare performance with arrays of different sizes"
   ]
  },
  {
   "cell_type": "code",
   "execution_count": 10,
   "id": "2e0f23df",
   "metadata": {},
   "outputs": [
    {
     "name": "stdout",
     "output_type": "stream",
     "text": [
      "18.4 µs ± 535 ns per loop (mean ± std. dev. of 7 runs, 500 loops each)\n",
      "6.95 µs ± 402 ns per loop (mean ± std. dev. of 7 runs, 500 loops each)\n",
      "155 µs ± 20.4 µs per loop (mean ± std. dev. of 7 runs, 500 loops each)\n",
      "Size: (10, 10)\n",
      "Max abs diff b/w torch and tf 0.00012207031\n",
      "Max abs diff b/w torch and CrysX 0.00011098352251792676\n",
      "64.5 µs ± 3.6 µs per loop (mean ± std. dev. of 7 runs, 500 loops each)\n",
      "78 µs ± 9.95 µs per loop (mean ± std. dev. of 7 runs, 500 loops each)\n",
      "305 µs ± 11.4 µs per loop (mean ± std. dev. of 7 runs, 500 loops each)\n",
      "Size: (510, 510)\n",
      "Max abs diff b/w torch and tf 0.0\n",
      "Max abs diff b/w torch and CrysX 6.1520047211161e-05\n",
      "730 µs ± 58.7 µs per loop (mean ± std. dev. of 7 runs, 500 loops each)\n",
      "211 µs ± 36.1 µs per loop (mean ± std. dev. of 7 runs, 500 loops each)\n",
      "1.09 ms ± 26.8 µs per loop (mean ± std. dev. of 7 runs, 500 loops each)\n",
      "Size: (1010, 1010)\n",
      "Max abs diff b/w torch and tf 0.00024414062\n",
      "Max abs diff b/w torch and CrysX 7.428284948218788e-05\n",
      "2.22 ms ± 580 µs per loop (mean ± std. dev. of 7 runs, 500 loops each)\n",
      "480 µs ± 56.1 µs per loop (mean ± std. dev. of 7 runs, 500 loops each)\n",
      "1.89 ms ± 226 µs per loop (mean ± std. dev. of 7 runs, 500 loops each)\n",
      "Size: (1510, 1510)\n",
      "Max abs diff b/w torch and tf 0.00012207031\n",
      "Max abs diff b/w torch and CrysX 2.1202879906923044e-05\n",
      "3.37 ms ± 700 µs per loop (mean ± std. dev. of 7 runs, 500 loops each)\n",
      "849 µs ± 77.5 µs per loop (mean ± std. dev. of 7 runs, 500 loops each)\n",
      "3.43 ms ± 32.3 µs per loop (mean ± std. dev. of 7 runs, 500 loops each)\n",
      "Size: (2010, 2010)\n",
      "Max abs diff b/w torch and tf 0.00024414062\n",
      "Max abs diff b/w torch and CrysX 1.0207915693172254e-05\n",
      "5.02 ms ± 71.8 µs per loop (mean ± std. dev. of 7 runs, 500 loops each)\n",
      "1.57 ms ± 166 µs per loop (mean ± std. dev. of 7 runs, 500 loops each)\n",
      "5.37 ms ± 62.4 µs per loop (mean ± std. dev. of 7 runs, 500 loops each)\n",
      "Size: (2510, 2510)\n",
      "Max abs diff b/w torch and tf 0.00012207031\n",
      "Max abs diff b/w torch and CrysX 0.00017460711819694552\n"
     ]
    }
   ],
   "source": [
    "time_torch = []\n",
    "time_crysx_nn = []\n",
    "time_tf = []\n",
    "sizes = []\n",
    "\n",
    "for n_size in range(10,3000,500):\n",
    "    sizes.append(n_size*n_size)\n",
    "    # Torch input\n",
    "    predictions_torch = 100*torch.rand((n_size,n_size),requires_grad=True)\n",
    "    targets_torch = 100*torch.rand((n_size,n_size),requires_grad=True)\n",
    "    # CrysX-NN input\n",
    "    predictions_crysx_nn = predictions_torch.cpu().detach().numpy()\n",
    "    targets_crysx_nn = targets_torch.cpu().detach().numpy()\n",
    "    # Tensorflow input\n",
    "    predictions_tf = tf.convert_to_tensor(predictions_crysx_nn, dtype=tf.float32)\n",
    "    targets_tf = tf.convert_to_tensor(targets_crysx_nn, dtype=tf.float32)\n",
    "    \n",
    "    ##--Timings--\n",
    "    # Torch\n",
    "    mse_loss_func = torch.nn.MSELoss()\n",
    "    mse_torch_value = mse_loss_func(predictions_torch, targets_torch)\n",
    "    time = %timeit -n 500 -o mse_loss_func(predictions_torch, targets_torch)\n",
    "    # For time of each run\n",
    "    time_torch.append(np.mean(time.timings)) \n",
    "    # For total time\n",
    "#     time_torch.append(np.mean(time.all_runs)) \n",
    "    # CrysX\n",
    "    mse_crysx_nn_value = MSE_loss(predictions_crysx_nn, targets_crysx_nn)/predictions_crysx_nn.shape[0]\n",
    "    time = %timeit -n 500 -o MSE_loss(predictions_crysx_nn, targets_crysx_nn)/predictions_crysx_nn.shape[0]\n",
    "    # For time of each run\n",
    "    time_crysx_nn.append(np.mean(time.timings))\n",
    "    # Tensorflow\n",
    "    mse_tf_func = tf.keras.losses.MeanSquaredError()\n",
    "    mse_tf_value = mse_tf_func(targets_tf, predictions_tf)\n",
    "    time = %timeit -n 500 -o mse_tf_func(targets_tf, predictions_tf)\n",
    "    # For time of each run\n",
    "    time_tf.append(np.mean(time.timings))\n",
    "    print('Size:', predictions_crysx_nn.shape)\n",
    "    #Diff b/w tf and torch\n",
    "    print('Max abs diff b/w torch and tf', abs(mse_torch_value.cpu().detach().numpy() - mse_tf_value.numpy()).max())\n",
    "    #Diff b/w crysx_nn and torch\n",
    "    print('Max abs diff b/w torch and CrysX', abs(mse_torch_value.cpu().detach().numpy() - mse_crysx_nn_value).max())"
   ]
  },
  {
   "cell_type": "markdown",
   "id": "ff5bfcd1",
   "metadata": {},
   "source": [
    "### Plot the results"
   ]
  },
  {
   "cell_type": "code",
   "execution_count": 11,
   "id": "51a5ca51",
   "metadata": {
    "scrolled": true
   },
   "outputs": [
    {
     "data": {
      "image/png": "[encoded data removed]",
      "text/plain": [
       "<Figure size 432x288 with 1 Axes>"
      ]
     },
     "metadata": {
      "needs_background": "light"
     },
     "output_type": "display_data"
    }
   ],
   "source": [
    "\n",
    "plt.plot(sizes,time_torch, label='PyTorch')\n",
    "plt.plot(sizes,time_crysx_nn, label='CrysX-NN')\n",
    "plt.plot(sizes,time_tf, label='Tensorflow')\n",
    "plt.legend()\n",
    "plt.xlabel('Array sizes')\n",
    "plt.ylabel('Timings')\n",
    "plt.title('Benchmark MSE_loss')\n",
    "plt.show()"
   ]
  },
  {
   "cell_type": "markdown",
   "id": "0eb92839",
   "metadata": {},
   "source": [
    "### Validate gradients"
   ]
  },
  {
   "cell_type": "code",
   "execution_count": 21,
   "id": "e95b2ee0",
   "metadata": {},
   "outputs": [],
   "source": [
    "def tf_mse_grad(targets_tf, predictions_tf):\n",
    "    with tf.GradientTape() as g:\n",
    "        g.watch(predictions_tf)\n",
    "        mse_tf_func = tf.keras.losses.MeanSquaredError()\n",
    "        mse_tf_value = mse_tf_func(targets_tf, predictions_tf)\n",
    "    grad = g.gradient(mse_tf_value, predictions_tf)\n",
    "    return grad#.numpy()"
   ]
  },
  {
   "cell_type": "code",
   "execution_count": 22,
   "id": "fb4b66d4",
   "metadata": {},
   "outputs": [
    {
     "name": "stdout",
     "output_type": "stream",
     "text": [
      "Max abs diff b/w torch and tf 4.656613e-10\n",
      "Max abs diff b/w torch and CrysX 2.3283064e-10\n"
     ]
    }
   ],
   "source": [
    "# Torch input\n",
    "predictions_torch = 10000*torch.rand((2000,3000),requires_grad=True)\n",
    "targets_torch = 10000*torch.rand((2000,3000),requires_grad=True)\n",
    "# CrysX-NN input\n",
    "predictions_crysx_nn = predictions_torch.cpu().detach().numpy()\n",
    "targets_crysx_nn = targets_torch.cpu().detach().numpy()\n",
    "# Tensorflow input\n",
    "predictions_tf = tf.convert_to_tensor(predictions_crysx_nn, dtype=tf.float32)\n",
    "targets_tf = tf.convert_to_tensor(targets_crysx_nn, dtype=tf.float32)\n",
    "\n",
    "# Torch\n",
    "mse_loss_func = torch.nn.MSELoss()\n",
    "mse_torch_value = mse_loss_func(predictions_torch, targets_torch)\n",
    "mse_torch_value.backward()\n",
    "gradientTorch = torch.autograd.grad(mse_loss_func(predictions_torch,targets_torch),predictions_torch)[0]\n",
    "# print(gradientTorch)\n",
    "\n",
    "# CrysX\n",
    "gradientCrysX_NN = MSE_loss_grad(predictions_crysx_nn, targets_crysx_nn)/predictions_crysx_nn.shape[0]\n",
    "\n",
    "# Tensorflow\n",
    "gradientTF = tf_mse_grad(targets_tf, predictions_tf)\n",
    "\n",
    "#Diff b/w tf and torch\n",
    "print('Max abs diff b/w torch and tf', abs(gradientTorch.cpu().detach().numpy() - gradientTF.numpy()).max())\n",
    "\n",
    "#Diff b/w crysx_nn and torch\n",
    "print('Max abs diff b/w torch and CrysX', abs(gradientTorch.cpu().detach().numpy() - gradientCrysX_NN).max())"
   ]
  },
  {
   "cell_type": "markdown",
   "id": "caa5242f",
   "metadata": {},
   "source": [
    "## Benchmark BCE_loss"
   ]
  },
  {
   "cell_type": "markdown",
   "id": "31b6bbf0",
   "metadata": {},
   "source": [
    "### Confirm that all frameworks give the same results"
   ]
  },
  {
   "cell_type": "markdown",
   "id": "0a45c485",
   "metadata": {},
   "source": [
    "PyTorch expects predictions first then targets\n",
    "\n",
    "PyTorch - https://pytorch.org/docs/stable/generated/torch.nn.BCELoss.html\n",
    "\n",
    "TensorFlow expects targets first then predictions\n",
    "\n",
    "Tensorflow - https://www.tensorflow.org/api_docs/python/tf/keras/losses/BinaryCrossentropy\n",
    "\n",
    "CrysX-NN doesn't return values averaged over samples. So take care of that."
   ]
  },
  {
   "cell_type": "code",
   "execution_count": 14,
   "id": "a540f503",
   "metadata": {},
   "outputs": [
    {
     "name": "stdout",
     "output_type": "stream",
     "text": [
      "Max abs diff b/w torch and tf 1.66893e-06\n",
      "Max abs diff b/w torch and CrysX 7.136674584629077e-09\n"
     ]
    }
   ],
   "source": [
    "# Torch input\n",
    "predictions_torch = torch.rand((2000,3000),requires_grad=True)\n",
    "# print(predictions_torch)\n",
    "targets_torch = torch.randint(low=0,high=2, size=(2000,3000)).float()\n",
    "# print(targets_torch)\n",
    "# CrysX-NN input\n",
    "predictions_crysx_nn = predictions_torch.cpu().detach().numpy()\n",
    "targets_crysx_nn = targets_torch.cpu().detach().numpy()\n",
    "# Tensorflow input\n",
    "predictions_tf = tf.convert_to_tensor(predictions_crysx_nn, dtype=tf.float32)\n",
    "targets_tf = tf.convert_to_tensor(targets_crysx_nn, dtype=tf.float32)\n",
    "\n",
    "# Torch\n",
    "bce_loss_func = torch.nn.BCELoss()\n",
    "bce_torch_value = bce_loss_func(predictions_torch, targets_torch)\n",
    "\n",
    "# CrysX\n",
    "bce_crysx_nn_value = BCE_loss(predictions_crysx_nn, targets_crysx_nn)/predictions_crysx_nn.shape[0]\n",
    "# print(bce_crysx_nn_value)\n",
    "\n",
    "# Tensorflow\n",
    "bce_tf_func = tf.keras.losses.BinaryCrossentropy()\n",
    "bce_tf_value = bce_tf_func(targets_tf, predictions_tf)\n",
    "\n",
    "#Diff b/w tf and torch\n",
    "print('Max abs diff b/w torch and tf', abs(bce_torch_value.cpu().detach().numpy() - bce_tf_value.numpy()).max())\n",
    "\n",
    "#Diff b/w crysx_nn and torch\n",
    "print('Max abs diff b/w torch and CrysX', abs(bce_torch_value.cpu().detach().numpy() - bce_crysx_nn_value).max())"
   ]
  },
  {
   "cell_type": "markdown",
   "id": "e9790f4c",
   "metadata": {},
   "source": [
    "### Compare performance with arrays of different sizes"
   ]
  },
  {
   "cell_type": "code",
   "execution_count": 15,
   "id": "a0dc38b5",
   "metadata": {},
   "outputs": [
    {
     "name": "stdout",
     "output_type": "stream",
     "text": [
      "22.1 µs ± 1.63 µs per loop (mean ± std. dev. of 7 runs, 100 loops each)\n",
      "10.4 µs ± 1 µs per loop (mean ± std. dev. of 7 runs, 100 loops each)\n",
      "351 µs ± 46.7 µs per loop (mean ± std. dev. of 7 runs, 100 loops each)\n",
      "Size: (10, 10)\n",
      "Max abs diff b/w torch and tf 4.7683716e-07\n",
      "Max abs diff b/w torch and CrysX 2.2624234041757063e-08\n",
      "781 µs ± 18.1 µs per loop (mean ± std. dev. of 7 runs, 100 loops each)\n",
      "872 µs ± 41 µs per loop (mean ± std. dev. of 7 runs, 100 loops each)\n",
      "1.07 ms ± 9.44 µs per loop (mean ± std. dev. of 7 runs, 100 loops each)\n",
      "Size: (510, 510)\n",
      "Max abs diff b/w torch and tf 1.1920929e-06\n",
      "Max abs diff b/w torch and CrysX 9.434801673258164e-08\n",
      "3.37 ms ± 30.8 µs per loop (mean ± std. dev. of 7 runs, 100 loops each)\n",
      "4.83 ms ± 141 µs per loop (mean ± std. dev. of 7 runs, 100 loops each)\n",
      "13.3 ms ± 2.22 ms per loop (mean ± std. dev. of 7 runs, 100 loops each)\n",
      "Size: (1010, 1010)\n",
      "Max abs diff b/w torch and tf 1.4305115e-06\n",
      "Max abs diff b/w torch and CrysX 1.5482200632632726e-08\n",
      "8.29 ms ± 630 µs per loop (mean ± std. dev. of 7 runs, 100 loops each)\n",
      "11.7 ms ± 1.46 ms per loop (mean ± std. dev. of 7 runs, 100 loops each)\n",
      "24.9 ms ± 5.83 ms per loop (mean ± std. dev. of 7 runs, 100 loops each)\n",
      "Size: (1510, 1510)\n",
      "Max abs diff b/w torch and tf 1.7881393e-06\n",
      "Max abs diff b/w torch and CrysX 6.579398936779057e-08\n",
      "14.5 ms ± 768 µs per loop (mean ± std. dev. of 7 runs, 100 loops each)\n",
      "21.2 ms ± 1.01 ms per loop (mean ± std. dev. of 7 runs, 100 loops each)\n",
      "36.8 ms ± 2.56 ms per loop (mean ± std. dev. of 7 runs, 100 loops each)\n",
      "Size: (2010, 2010)\n",
      "Max abs diff b/w torch and tf 1.5497208e-06\n",
      "Max abs diff b/w torch and CrysX 1.2495545709256817e-08\n",
      "20.4 ms ± 314 µs per loop (mean ± std. dev. of 7 runs, 100 loops each)\n",
      "29.6 ms ± 1.08 ms per loop (mean ± std. dev. of 7 runs, 100 loops each)\n",
      "52.7 ms ± 2.89 ms per loop (mean ± std. dev. of 7 runs, 100 loops each)\n",
      "Size: (2510, 2510)\n",
      "Max abs diff b/w torch and tf 2.026558e-06\n",
      "Max abs diff b/w torch and CrysX 9.496114516949206e-08\n"
     ]
    }
   ],
   "source": [
    "time_torch = []\n",
    "time_crysx_nn = []\n",
    "time_tf = []\n",
    "sizes = []\n",
    "\n",
    "for n_size in range(10,3000,500):\n",
    "    sizes.append(n_size*n_size)\n",
    "    # Torch input\n",
    "    predictions_torch = torch.rand((n_size,n_size),requires_grad=True)\n",
    "    targets_torch = torch.randint(low=0,high=2, size=(n_size,n_size)).float()\n",
    "    # CrysX-NN input\n",
    "    predictions_crysx_nn = predictions_torch.cpu().detach().numpy()\n",
    "    targets_crysx_nn = targets_torch.cpu().detach().numpy()\n",
    "    # Tensorflow input\n",
    "    predictions_tf = tf.convert_to_tensor(predictions_crysx_nn, dtype=tf.float32)\n",
    "    targets_tf = tf.convert_to_tensor(targets_crysx_nn, dtype=tf.float32)\n",
    "    \n",
    "    ##--Timings--\n",
    "    # Torch\n",
    "    bce_loss_func = torch.nn.BCELoss()\n",
    "    bce_torch_value = bce_loss_func(predictions_torch, targets_torch)\n",
    "    time = %timeit -n 100 -o bce_loss_func(predictions_torch, targets_torch)\n",
    "    # For time of each run\n",
    "    time_torch.append(np.mean(time.timings)) \n",
    "    # For total time\n",
    "#     time_torch.append(np.mean(time.all_runs)) \n",
    "    # CrysX\n",
    "    bce_crysx_nn_value = BCE_loss(predictions_crysx_nn, targets_crysx_nn)/predictions_crysx_nn.shape[0]\n",
    "    time = %timeit -n 100 -o BCE_loss(predictions_crysx_nn, targets_crysx_nn)/predictions_crysx_nn.shape[0]\n",
    "    # For time of each run\n",
    "    time_crysx_nn.append(np.mean(time.timings))\n",
    "    # Tensorflow\n",
    "    bce_tf_func = tf.keras.losses.BinaryCrossentropy()\n",
    "    bce_tf_value = bce_tf_func(targets_tf, predictions_tf)\n",
    "    time = %timeit -n 100 -o bce_tf_func(targets_tf, predictions_tf)\n",
    "    # For time of each run\n",
    "    time_tf.append(np.mean(time.timings))\n",
    "    print('Size:', predictions_crysx_nn.shape)\n",
    "    #Diff b/w tf and torch\n",
    "    print('Max abs diff b/w torch and tf', abs(bce_torch_value.cpu().detach().numpy() - bce_tf_value.numpy()).max())\n",
    "    #Diff b/w crysx_nn and torch\n",
    "    print('Max abs diff b/w torch and CrysX', abs(bce_torch_value.cpu().detach().numpy() - bce_crysx_nn_value).max())"
   ]
  },
  {
   "cell_type": "markdown",
   "id": "f8334fe8",
   "metadata": {},
   "source": [
    "### Plot the results"
   ]
  },
  {
   "cell_type": "code",
   "execution_count": 16,
   "id": "e6d9fa6d",
   "metadata": {
    "scrolled": true
   },
   "outputs": [
    {
     "data": {
      "image/png": "[encoded data removed]",
      "text/plain": [
       "<Figure size 432x288 with 1 Axes>"
      ]
     },
     "metadata": {
      "needs_background": "light"
     },
     "output_type": "display_data"
    }
   ],
   "source": [
    "\n",
    "plt.plot(sizes,time_torch, label='PyTorch')\n",
    "plt.plot(sizes,time_crysx_nn, label='CrysX-NN')\n",
    "plt.plot(sizes,time_tf, label='Tensorflow')\n",
    "plt.legend()\n",
    "plt.xlabel('Array sizes')\n",
    "plt.ylabel('Timings')\n",
    "plt.title('Benchmark BCE_loss')\n",
    "plt.show()"
   ]
  },
  {
   "cell_type": "markdown",
   "id": "4649e73a",
   "metadata": {},
   "source": [
    "### Validate gradients"
   ]
  },
  {
   "cell_type": "code",
   "execution_count": 9,
   "id": "e3cb079e",
   "metadata": {},
   "outputs": [],
   "source": [
    "def tf_bce_grad(targets_tf, predictions_tf):\n",
    "    with tf.GradientTape() as g:\n",
    "        g.watch(predictions_tf)\n",
    "        bce_tf_func = tf.keras.losses.BinaryCrossentropy()\n",
    "        bce_tf_value = bce_tf_func(targets_tf, predictions_tf)\n",
    "    grad = g.gradient(bce_tf_value, predictions_tf)\n",
    "    return grad#.numpy()"
   ]
  },
  {
   "cell_type": "code",
   "execution_count": 10,
   "id": "a77feeb5",
   "metadata": {},
   "outputs": [
    {
     "name": "stderr",
     "output_type": "stream",
     "text": [
      "C:\\Users\\manas\\anaconda3\\envs\\crysx_nn\\lib\\site-packages\\ipykernel_launcher.py:9: UserWarning: Implicit dimension choice for softmax has been deprecated. Change the call to include dim=X as an argument.\n",
      "  if __name__ == '__main__':\n"
     ]
    },
    {
     "name": "stdout",
     "output_type": "stream",
     "text": [
      "Max abs diff b/w torch and tf 4.490139e-07\n",
      "Max abs diff b/w torch and CrysX 1.1641532e-10\n"
     ]
    }
   ],
   "source": [
    "nSamples = 2000\n",
    "nOutputs = 3000#nClasess\n",
    "# Torch input\n",
    "predictions_torch_ = torch.rand((nSamples,nOutputs),requires_grad=True)\n",
    "# print(predictions_torch)\n",
    "# Predictions are supposed to be probabilities from 0 to 1, summing upto 1.\n",
    "# Therefore, apply a softmax on them\n",
    "m = torch.nn.Softmax()\n",
    "predictions_torch = m(predictions_torch_)\n",
    "# print(predictions_torch)\n",
    "# Generate random one hot vectors matrix\n",
    "# No. of classes\n",
    "n = nOutputs\n",
    "target_indices = torch.randint(1,n, size=(1,nSamples)).reshape(nSamples) # Get a 1D tensor index of size =nSamples=2000\n",
    "# print(target_indices)\n",
    "# print(target_indices.shape)\n",
    "# Convert the index tensor to one-hot encoded vectors matrix\n",
    "target_one_hot = torch.nn.functional.one_hot(target_indices, n) # size=(4,7,n)\n",
    "targets_torch = target_one_hot.float() # torch.randint(low=0,high=2, size=(2000,3000)).float()\n",
    "# print(targets_torch)\n",
    "# print(targets_torch.shape)\n",
    "# CrysX-NN input\n",
    "predictions_crysx_nn = predictions_torch.cpu().detach().numpy()\n",
    "targets_crysx_nn = targets_torch.cpu().detach().numpy()\n",
    "# Tensorflow input\n",
    "predictions_tf = tf.convert_to_tensor(predictions_crysx_nn, dtype=tf.float32)\n",
    "targets_tf = tf.convert_to_tensor(targets_crysx_nn, dtype=tf.float32)\n",
    "\n",
    "# Torch\n",
    "bce_loss_func = torch.nn.BCELoss()\n",
    "bce_torch_value = bce_loss_func(predictions_torch, targets_torch)\n",
    "bce_torch_value.backward()\n",
    "gradientTorch = torch.autograd.grad(bce_loss_func(predictions_torch,targets_torch),predictions_torch)[0]\n",
    "# print(gradientTorch)\n",
    "\n",
    "# CrysX\n",
    "gradientCrysX_NN = BCE_loss_grad(predictions_crysx_nn, targets_crysx_nn)/predictions_crysx_nn.shape[0]\n",
    "\n",
    "# Tensorflow\n",
    "gradientTF = tf_bce_grad(targets_tf, predictions_tf)\n",
    "\n",
    "#Diff b/w tf and torch\n",
    "print('Max abs diff b/w torch and tf', abs(gradientTorch.cpu().detach().numpy() - gradientTF.numpy()).max())\n",
    "\n",
    "#Diff b/w crysx_nn and torch\n",
    "print('Max abs diff b/w torch and CrysX', abs(gradientTorch.cpu().detach().numpy() - gradientCrysX_NN).max())"
   ]
  },
  {
   "cell_type": "markdown",
   "id": "74f52dd1",
   "metadata": {},
   "source": [
    "## Benchmark MAE_loss"
   ]
  },
  {
   "cell_type": "markdown",
   "id": "b98b8852",
   "metadata": {},
   "source": [
    "### Confirm that all frameworks give the same results"
   ]
  },
  {
   "cell_type": "markdown",
   "id": "52b60d80",
   "metadata": {},
   "source": [
    "PyTorch expects predictions first then targets\n",
    "\n",
    "PyTorch - https://pytorch.org/docs/stable/generated/torch.nn.L1Loss.html\n",
    "\n",
    "TensorFlow expects targets first then predictions\n",
    "\n",
    "Tensorflow - https://www.tensorflow.org/api_docs/python/tf/keras/losses/MeanAbsoluteError\n",
    "\n",
    "CrysX-NN doesn't return values averaged over samples. So take care of that."
   ]
  },
  {
   "cell_type": "code",
   "execution_count": 10,
   "id": "0bd24a9b",
   "metadata": {},
   "outputs": [
    {
     "name": "stdout",
     "output_type": "stream",
     "text": [
      "<class 'float'>\n",
      "Max abs diff b/w torch and tf 0.0\n",
      "Max abs diff b/w torch and CrysX 9.93617376821021e-07\n"
     ]
    }
   ],
   "source": [
    "# Torch\n",
    "predictions_torch = 100*torch.rand((300,100),requires_grad=True)\n",
    "targets_torch = 100*torch.rand((300,100),requires_grad=True)\n",
    "# CrysX\n",
    "predictions_crysx_nn = predictions_torch.cpu().detach().numpy()\n",
    "targets_crysx_nn = targets_torch.cpu().detach().numpy()\n",
    "# TensorFlow\n",
    "predictions_tf = tf.convert_to_tensor(predictions_crysx_nn, dtype=tf.float32)\n",
    "targets_tf = tf.convert_to_tensor(targets_crysx_nn, dtype=tf.float32)\n",
    "\n",
    "# Torch\n",
    "mae_loss_func = torch.nn.L1Loss()\n",
    "mae_torch_value = mae_loss_func(predictions_torch, targets_torch)\n",
    "\n",
    "# CrysX\n",
    "mae_crysx_nn_value = MAE_loss(predictions_crysx_nn, targets_crysx_nn)/predictions_crysx_nn.shape[0]\n",
    "print(type(mae_crysx_nn_value))\n",
    "\n",
    "# Tensorflow\n",
    "mae_tf_func = tf.keras.losses.MeanAbsoluteError()\n",
    "mae_tf_value = mae_tf_func(targets_tf, predictions_tf)\n",
    "\n",
    "#Diff b/w tf and torch\n",
    "print('Max abs diff b/w torch and tf', abs(mae_torch_value.cpu().detach().numpy() - mae_tf_value.numpy()).max())\n",
    "\n",
    "#Diff b/w crysx_nn and torch\n",
    "print('Max abs diff b/w torch and CrysX', abs(mae_torch_value.cpu().detach().numpy() - mae_crysx_nn_value).max())"
   ]
  },
  {
   "cell_type": "markdown",
   "id": "5cbc657a",
   "metadata": {},
   "source": [
    "### Compare performance with arrays of different sizes"
   ]
  },
  {
   "cell_type": "code",
   "execution_count": 12,
   "id": "3f7c51cb",
   "metadata": {},
   "outputs": [
    {
     "name": "stdout",
     "output_type": "stream",
     "text": [
      "21.7 µs ± 1.93 µs per loop (mean ± std. dev. of 7 runs, 500 loops each)\n",
      "10.7 µs ± 312 ns per loop (mean ± std. dev. of 7 runs, 500 loops each)\n",
      "198 µs ± 8.02 µs per loop (mean ± std. dev. of 7 runs, 500 loops each)\n",
      "Size: (10, 10)\n",
      "Max abs diff b/w torch and tf 3.8146973e-06\n",
      "Max abs diff b/w torch and CrysX 2.3460388192120263e-06\n",
      "171 µs ± 6.41 µs per loop (mean ± std. dev. of 7 runs, 500 loops each)\n",
      "49.6 µs ± 1.71 µs per loop (mean ± std. dev. of 7 runs, 500 loops each)\n",
      "457 µs ± 11.5 µs per loop (mean ± std. dev. of 7 runs, 500 loops each)\n",
      "Size: (510, 510)\n",
      "Max abs diff b/w torch and tf 3.8146973e-06\n",
      "Max abs diff b/w torch and CrysX 4.631623262696394e-06\n",
      "1.1 ms ± 72.3 µs per loop (mean ± std. dev. of 7 runs, 500 loops each)\n",
      "146 µs ± 3.13 µs per loop (mean ± std. dev. of 7 runs, 500 loops each)\n",
      "2.17 ms ± 111 µs per loop (mean ± std. dev. of 7 runs, 500 loops each)\n",
      "Size: (1010, 1010)\n",
      "Max abs diff b/w torch and tf 3.8146973e-06\n",
      "Max abs diff b/w torch and CrysX 1.5040935608112704e-06\n",
      "2.75 ms ± 221 µs per loop (mean ± std. dev. of 7 runs, 500 loops each)\n",
      "379 µs ± 19.3 µs per loop (mean ± std. dev. of 7 runs, 500 loops each)\n",
      "4.76 ms ± 168 µs per loop (mean ± std. dev. of 7 runs, 500 loops each)\n",
      "Size: (1510, 1510)\n",
      "Max abs diff b/w torch and tf 0.0\n",
      "Max abs diff b/w torch and CrysX 2.9571735638000973e-07\n",
      "5.18 ms ± 108 µs per loop (mean ± std. dev. of 7 runs, 500 loops each)\n",
      "766 µs ± 214 µs per loop (mean ± std. dev. of 7 runs, 500 loops each)\n",
      "9.07 ms ± 1.81 ms per loop (mean ± std. dev. of 7 runs, 500 loops each)\n",
      "Size: (2010, 2010)\n",
      "Max abs diff b/w torch and tf 3.8146973e-06\n",
      "Max abs diff b/w torch and CrysX 1.0834335384402038e-06\n",
      "9.48 ms ± 972 µs per loop (mean ± std. dev. of 7 runs, 500 loops each)\n",
      "1.34 ms ± 138 µs per loop (mean ± std. dev. of 7 runs, 500 loops each)\n",
      "10.6 ms ± 460 µs per loop (mean ± std. dev. of 7 runs, 500 loops each)\n",
      "Size: (2510, 2510)\n",
      "Max abs diff b/w torch and tf 0.0\n",
      "Max abs diff b/w torch and CrysX 9.297404659491804e-07\n"
     ]
    }
   ],
   "source": [
    "time_torch = []\n",
    "time_crysx_nn = []\n",
    "time_tf = []\n",
    "sizes = []\n",
    "\n",
    "for n_size in range(10,3000,500):\n",
    "    sizes.append(n_size*n_size)\n",
    "    # Torch input\n",
    "    predictions_torch = 100*torch.rand((n_size,n_size),requires_grad=True)\n",
    "    targets_torch = 100*torch.rand((n_size,n_size),requires_grad=True)\n",
    "    # CrysX-NN input\n",
    "    predictions_crysx_nn = predictions_torch.cpu().detach().numpy()\n",
    "    targets_crysx_nn = targets_torch.cpu().detach().numpy()\n",
    "    # Tensorflow input\n",
    "    predictions_tf = tf.convert_to_tensor(predictions_crysx_nn, dtype=tf.float32)\n",
    "    targets_tf = tf.convert_to_tensor(targets_crysx_nn, dtype=tf.float32)\n",
    "    \n",
    "    ##--Timings--\n",
    "    # Torch\n",
    "    mae_loss_func = torch.nn.L1Loss()\n",
    "    mae_torch_value = mae_loss_func(predictions_torch, targets_torch)\n",
    "    time = %timeit -n 300 -o mae_loss_func(predictions_torch, targets_torch)\n",
    "    # For time of each run\n",
    "    time_torch.append(np.mean(time.timings)) \n",
    "    # For total time\n",
    "#     time_torch.append(np.mean(time.all_runs)) \n",
    "    # CrysX\n",
    "    mae_crysx_nn_value = MAE_loss(predictions_crysx_nn, targets_crysx_nn)/predictions_crysx_nn.shape[0]\n",
    "    time = %timeit -n 300 -o MAE_loss(predictions_crysx_nn, targets_crysx_nn)/predictions_crysx_nn.shape[0]\n",
    "    # For time of each run\n",
    "    time_crysx_nn.append(np.mean(time.timings))\n",
    "    # Tensorflow\n",
    "    mae_tf_func = tf.keras.losses.MeanAbsoluteError()\n",
    "    mae_tf_value = mae_tf_func(targets_tf, predictions_tf)\n",
    "    time = %timeit -n 300 -o mae_tf_func(targets_tf, predictions_tf)\n",
    "    # For time of each run\n",
    "    time_tf.append(np.mean(time.timings))\n",
    "    print('Size:', predictions_crysx_nn.shape)\n",
    "    #Diff b/w tf and torch\n",
    "    print('Max abs diff b/w torch and tf', abs(mae_torch_value.cpu().detach().numpy() - mae_tf_value.numpy()).max())\n",
    "    #Diff b/w crysx_nn and torch\n",
    "    print('Max abs diff b/w torch and CrysX', abs(mae_torch_value.cpu().detach().numpy() - mae_crysx_nn_value).max())"
   ]
  },
  {
   "cell_type": "markdown",
   "id": "b3a9d367",
   "metadata": {},
   "source": [
    "### Plot the results"
   ]
  },
  {
   "cell_type": "code",
   "execution_count": 13,
   "id": "37190061",
   "metadata": {
    "scrolled": false
   },
   "outputs": [
    {
     "data": {
      "image/png": "[encoded data removed]",
      "text/plain": [
       "<Figure size 432x288 with 1 Axes>"
      ]
     },
     "metadata": {
      "needs_background": "light"
     },
     "output_type": "display_data"
    }
   ],
   "source": [
    "\n",
    "plt.plot(sizes,time_torch, label='PyTorch')\n",
    "plt.plot(sizes,time_crysx_nn, label='CrysX-NN')\n",
    "plt.plot(sizes,time_tf, label='Tensorflow')\n",
    "plt.legend()\n",
    "plt.xlabel('Array sizes')\n",
    "plt.ylabel('Timings')\n",
    "plt.title('Benchmark MAE_loss')\n",
    "plt.show()"
   ]
  },
  {
   "cell_type": "markdown",
   "id": "bb147c4a",
   "metadata": {},
   "source": [
    "### Validate gradients"
   ]
  },
  {
   "cell_type": "code",
   "execution_count": 2,
   "id": "782760f7",
   "metadata": {},
   "outputs": [],
   "source": [
    "def tf_mae_grad(targets_tf, predictions_tf):\n",
    "    with tf.GradientTape() as g:\n",
    "        g.watch(predictions_tf)\n",
    "        mae_tf_func = tf.keras.losses.MeanAbsoluteError()\n",
    "        mae_tf_value = mae_tf_func(targets_tf, predictions_tf)\n",
    "    grad = g.gradient(mae_tf_value, predictions_tf)\n",
    "    return grad#.numpy()"
   ]
  },
  {
   "cell_type": "code",
   "execution_count": 5,
   "id": "8f4e7c31",
   "metadata": {},
   "outputs": [
    {
     "name": "stdout",
     "output_type": "stream",
     "text": [
      "Max abs diff b/w torch and tf 1.4210855e-14\n",
      "Max abs diff b/w torch and CrysX 4.2079286565503357e-16\n"
     ]
    }
   ],
   "source": [
    "# Torch input\n",
    "predictions_torch = 10000*torch.rand((2000,3000),requires_grad=True)\n",
    "targets_torch = 10000*torch.rand((2000,3000),requires_grad=True)\n",
    "# CrysX-NN input\n",
    "predictions_crysx_nn = predictions_torch.cpu().detach().numpy()\n",
    "targets_crysx_nn = targets_torch.cpu().detach().numpy()\n",
    "# Tensorflow input\n",
    "predictions_tf = tf.convert_to_tensor(predictions_crysx_nn, dtype=tf.float32)\n",
    "targets_tf = tf.convert_to_tensor(targets_crysx_nn, dtype=tf.float32)\n",
    "\n",
    "# Torch\n",
    "mae_loss_func = torch.nn.L1Loss()\n",
    "mae_torch_value = mae_loss_func(predictions_torch, targets_torch)\n",
    "mae_torch_value.backward()\n",
    "gradientTorch = torch.autograd.grad(mae_loss_func(predictions_torch,targets_torch),predictions_torch)[0]\n",
    "# print(gradientTorch)\n",
    "\n",
    "# CrysX\n",
    "gradientCrysX_NN = MAE_loss_grad(predictions_crysx_nn, targets_crysx_nn)/predictions_crysx_nn.shape[0]\n",
    "# print(gradientCrysX_NN)\n",
    "\n",
    "\n",
    "# Tensorflow\n",
    "gradientTF = tf_mae_grad(targets_tf, predictions_tf)\n",
    "\n",
    "#Diff b/w tf and torch\n",
    "print('Max abs diff b/w torch and tf', abs(gradientTorch.cpu().detach().numpy() - gradientTF.numpy()).max())\n",
    "\n",
    "#Diff b/w crysx_nn and torch\n",
    "print('Max abs diff b/w torch and CrysX', abs(gradientTorch.cpu().detach().numpy() - gradientCrysX_NN).max())"
   ]
  },
  {
   "cell_type": "markdown",
   "id": "60f066a3",
   "metadata": {},
   "source": [
    "## Benchmark CCE_loss"
   ]
  },
  {
   "cell_type": "markdown",
   "id": "035b2ae4",
   "metadata": {},
   "source": [
    "### Confirm that all frameworks give the same results"
   ]
  },
  {
   "cell_type": "markdown",
   "id": "ff39cc7f",
   "metadata": {},
   "source": [
    "PyTorch expects predictions first then targets\n",
    "\n",
    "PyTorch - https://pytorch.org/docs/stable/generated/torch.nn.CrossEntropyLoss.html\n",
    "\n",
    "TensorFlow expects targets first then predictions\n",
    "\n",
    "Tensorflow - https://www.tensorflow.org/api_docs/python/tf/keras/losses/CategoricalCrossentropy\n",
    "\n",
    "CrysX-NN doesn't return values averaged over samples. So take care of that.\n",
    "\n",
    "<b>Note:</b> TensorFlow and CrysX-NN expect one-hot encoded vectors.\n",
    "<b>Note:</b> Unfortunately, PyTorch computes the Cross Entropy in a weird fashion. It expects the inputs to not be probabilities. Rather it computes the probabilities from the inputs using the Softmax function and then returns the Cross Entropy Loss.https://stackoverflow.com/questions/49390842/cross-entropy-in-pytorch\n",
    "\n",
    "Unrelated but useful info some of the answers and comments for future reference: https://stackoverflow.com/questions/42081257/why-binary-crossentropy-and-categorical-crossentropy-give-different-performances"
   ]
  },
  {
   "cell_type": "code",
   "execution_count": 7,
   "id": "beb64abb",
   "metadata": {},
   "outputs": [
    {
     "name": "stdout",
     "output_type": "stream",
     "text": [
      "tensor(8.0561, grad_fn=<DivBackward1>)\n",
      "8.05609423828125\n",
      "tf.Tensor(8.056095, shape=(), dtype=float32)\n",
      "Max abs diff b/w torch and tf 9.536743e-07\n",
      "Max abs diff b/w torch and CrysX 6.86645513781059e-08\n"
     ]
    },
    {
     "name": "stderr",
     "output_type": "stream",
     "text": [
      "C:\\Users\\manas\\anaconda3\\envs\\crysx_nn\\lib\\site-packages\\ipykernel_launcher.py:9: UserWarning: Implicit dimension choice for softmax has been deprecated. Change the call to include dim=X as an argument.\n",
      "  if __name__ == '__main__':\n"
     ]
    }
   ],
   "source": [
    "nSamples = 2000\n",
    "nOutputs = 3000#nClasess\n",
    "# Torch input\n",
    "predictions_torch_ = torch.rand((nSamples,nOutputs),requires_grad=True)\n",
    "# print(predictions_torch)\n",
    "# Predictions are supposed to be probabilities from 0 to 1, summing upto 1.\n",
    "# Therefore, apply a softmax on them\n",
    "m = torch.nn.Softmax()\n",
    "predictions_torch = m(predictions_torch_)\n",
    "# print(predictions_torch)\n",
    "# Generate random one hot vectors matrix\n",
    "# No. of classes\n",
    "n = nOutputs\n",
    "target_indices = torch.randint(1,n, size=(1,nSamples)).reshape(nSamples) # Get a 1D tensor index of size =nSamples=2000\n",
    "# print(target_indices)\n",
    "# print(target_indices.shape)\n",
    "# Convert the index tensor to one-hot encoded vectors matrix\n",
    "target_one_hot = torch.nn.functional.one_hot(target_indices, n) # size=(4,7,n)\n",
    "targets_torch = target_one_hot.float() # torch.randint(low=0,high=2, size=(2000,3000)).float()\n",
    "# print(targets_torch)\n",
    "# print(targets_torch.shape)\n",
    "# CrysX-NN input\n",
    "predictions_crysx_nn = predictions_torch.cpu().detach().numpy()\n",
    "targets_crysx_nn = targets_torch.cpu().detach().numpy()\n",
    "# Tensorflow input\n",
    "predictions_tf = tf.convert_to_tensor(predictions_crysx_nn, dtype=tf.float32)\n",
    "targets_tf = tf.convert_to_tensor(targets_crysx_nn, dtype=tf.float32)\n",
    "\n",
    "# Torch\n",
    "cce_loss_func = torch.nn.CrossEntropyLoss()\n",
    "# cce_loss_func = torch.nn.NLLLoss()\n",
    "cce_torch_value = cce_loss_func(predictions_torch_, targets_torch)\n",
    "# print(cce_torch_value)\n",
    "\n",
    "# CrysX\n",
    "cce_crysx_nn_value = CCE_loss(predictions_crysx_nn, targets_crysx_nn)/predictions_crysx_nn.shape[0]\n",
    "# print(cce_crysx_nn_value)\n",
    "\n",
    "# Tensorflow\n",
    "cce_tf_func = tf.keras.losses.CategoricalCrossentropy()\n",
    "cce_tf_value = cce_tf_func(targets_tf, predictions_tf)\n",
    "# print(cce_tf_value)\n",
    "\n",
    "#Diff b/w tf and torch\n",
    "print('Max abs diff b/w torch and tf', abs(cce_torch_value.cpu().detach().numpy() - cce_tf_value.numpy()).max())\n",
    "\n",
    "#Diff b/w crysx_nn and torch\n",
    "print('Max abs diff b/w torch and CrysX', abs(cce_torch_value.cpu().detach().numpy() - cce_crysx_nn_value).max())\n"
   ]
  },
  {
   "cell_type": "markdown",
   "id": "e650c1b6",
   "metadata": {},
   "source": [
    "### Compare performance with arrays of different sizes"
   ]
  },
  {
   "cell_type": "code",
   "execution_count": 15,
   "id": "3a8fd3d1",
   "metadata": {},
   "outputs": [
    {
     "name": "stdout",
     "output_type": "stream",
     "text": [
      "22.1 µs ± 1.63 µs per loop (mean ± std. dev. of 7 runs, 100 loops each)\n",
      "10.4 µs ± 1 µs per loop (mean ± std. dev. of 7 runs, 100 loops each)\n",
      "351 µs ± 46.7 µs per loop (mean ± std. dev. of 7 runs, 100 loops each)\n",
      "Size: (10, 10)\n",
      "Max abs diff b/w torch and tf 4.7683716e-07\n",
      "Max abs diff b/w torch and CrysX 2.2624234041757063e-08\n",
      "781 µs ± 18.1 µs per loop (mean ± std. dev. of 7 runs, 100 loops each)\n",
      "872 µs ± 41 µs per loop (mean ± std. dev. of 7 runs, 100 loops each)\n",
      "1.07 ms ± 9.44 µs per loop (mean ± std. dev. of 7 runs, 100 loops each)\n",
      "Size: (510, 510)\n",
      "Max abs diff b/w torch and tf 1.1920929e-06\n",
      "Max abs diff b/w torch and CrysX 9.434801673258164e-08\n",
      "3.37 ms ± 30.8 µs per loop (mean ± std. dev. of 7 runs, 100 loops each)\n",
      "4.83 ms ± 141 µs per loop (mean ± std. dev. of 7 runs, 100 loops each)\n",
      "13.3 ms ± 2.22 ms per loop (mean ± std. dev. of 7 runs, 100 loops each)\n",
      "Size: (1010, 1010)\n",
      "Max abs diff b/w torch and tf 1.4305115e-06\n",
      "Max abs diff b/w torch and CrysX 1.5482200632632726e-08\n",
      "8.29 ms ± 630 µs per loop (mean ± std. dev. of 7 runs, 100 loops each)\n",
      "11.7 ms ± 1.46 ms per loop (mean ± std. dev. of 7 runs, 100 loops each)\n",
      "24.9 ms ± 5.83 ms per loop (mean ± std. dev. of 7 runs, 100 loops each)\n",
      "Size: (1510, 1510)\n",
      "Max abs diff b/w torch and tf 1.7881393e-06\n",
      "Max abs diff b/w torch and CrysX 6.579398936779057e-08\n",
      "14.5 ms ± 768 µs per loop (mean ± std. dev. of 7 runs, 100 loops each)\n",
      "21.2 ms ± 1.01 ms per loop (mean ± std. dev. of 7 runs, 100 loops each)\n",
      "36.8 ms ± 2.56 ms per loop (mean ± std. dev. of 7 runs, 100 loops each)\n",
      "Size: (2010, 2010)\n",
      "Max abs diff b/w torch and tf 1.5497208e-06\n",
      "Max abs diff b/w torch and CrysX 1.2495545709256817e-08\n",
      "20.4 ms ± 314 µs per loop (mean ± std. dev. of 7 runs, 100 loops each)\n",
      "29.6 ms ± 1.08 ms per loop (mean ± std. dev. of 7 runs, 100 loops each)\n",
      "52.7 ms ± 2.89 ms per loop (mean ± std. dev. of 7 runs, 100 loops each)\n",
      "Size: (2510, 2510)\n",
      "Max abs diff b/w torch and tf 2.026558e-06\n",
      "Max abs diff b/w torch and CrysX 9.496114516949206e-08\n"
     ]
    }
   ],
   "source": [
    "time_torch = []\n",
    "time_crysx_nn = []\n",
    "time_tf = []\n",
    "sizes = []\n",
    "\n",
    "for n_size in range(10,3000,500):\n",
    "    sizes.append(n_size*n_size)\n",
    "    # Torch input\n",
    "    predictions_torch = torch.rand((n_size,n_size),requires_grad=True)\n",
    "    targets_torch = torch.randint(low=0,high=2, size=(n_size,n_size)).float()\n",
    "    # CrysX-NN input\n",
    "    predictions_crysx_nn = predictions_torch.cpu().detach().numpy()\n",
    "    targets_crysx_nn = targets_torch.cpu().detach().numpy()\n",
    "    # Tensorflow input\n",
    "    predictions_tf = tf.convert_to_tensor(predictions_crysx_nn, dtype=tf.float32)\n",
    "    targets_tf = tf.convert_to_tensor(targets_crysx_nn, dtype=tf.float32)\n",
    "    \n",
    "    ##--Timings--\n",
    "    # Torch\n",
    "    bce_loss_func = torch.nn.BCELoss()\n",
    "    bce_torch_value = bce_loss_func(predictions_torch, targets_torch)\n",
    "    time = %timeit -n 100 -o bce_loss_func(predictions_torch, targets_torch)\n",
    "    # For time of each run\n",
    "    time_torch.append(np.mean(time.timings)) \n",
    "    # For total time\n",
    "#     time_torch.append(np.mean(time.all_runs)) \n",
    "    # CrysX\n",
    "    bce_crysx_nn_value = BCE_loss(predictions_crysx_nn, targets_crysx_nn)/predictions_crysx_nn.shape[0]\n",
    "    time = %timeit -n 100 -o BCE_loss(predictions_crysx_nn, targets_crysx_nn)/predictions_crysx_nn.shape[0]\n",
    "    # For time of each run\n",
    "    time_crysx_nn.append(np.mean(time.timings))\n",
    "    # Tensorflow\n",
    "    bce_tf_func = tf.keras.losses.BinaryCrossentropy()\n",
    "    bce_tf_value = bce_tf_func(targets_tf, predictions_tf)\n",
    "    time = %timeit -n 100 -o bce_tf_func(targets_tf, predictions_tf)\n",
    "    # For time of each run\n",
    "    time_tf.append(np.mean(time.timings))\n",
    "    print('Size:', predictions_crysx_nn.shape)\n",
    "    #Diff b/w tf and torch\n",
    "    print('Max abs diff b/w torch and tf', abs(bce_torch_value.cpu().detach().numpy() - bce_tf_value.numpy()).max())\n",
    "    #Diff b/w crysx_nn and torch\n",
    "    print('Max abs diff b/w torch and CrysX', abs(bce_torch_value.cpu().detach().numpy() - bce_crysx_nn_value).max())"
   ]
  },
  {
   "cell_type": "markdown",
   "id": "305d3c1e",
   "metadata": {},
   "source": [
    "### Plot the results"
   ]
  },
  {
   "cell_type": "code",
   "execution_count": 16,
   "id": "e63806ac",
   "metadata": {
    "scrolled": true
   },
   "outputs": [
    {
     "data": {
      "image/png": "[encoded data removed]",
      "text/plain": [
       "<Figure size 432x288 with 1 Axes>"
      ]
     },
     "metadata": {
      "needs_background": "light"
     },
     "output_type": "display_data"
    }
   ],
   "source": [
    "\n",
    "plt.plot(sizes,time_torch, label='PyTorch')\n",
    "plt.plot(sizes,time_crysx_nn, label='CrysX-NN')\n",
    "plt.plot(sizes,time_tf, label='Tensorflow')\n",
    "plt.legend()\n",
    "plt.xlabel('Array sizes')\n",
    "plt.ylabel('Timings')\n",
    "plt.title('Benchmark CCE_loss')\n",
    "plt.show()"
   ]
  },
  {
   "cell_type": "markdown",
   "id": "33b502eb",
   "metadata": {},
   "source": [
    "### Validate gradients"
   ]
  },
  {
   "cell_type": "code",
   "execution_count": 34,
   "id": "e4d3a415",
   "metadata": {},
   "outputs": [],
   "source": [
    "def tf_bce_grad(targets_tf, predictions_tf):\n",
    "    with tf.GradientTape() as g:\n",
    "        g.watch(predictions_tf)\n",
    "        bce_tf_func = tf.keras.losses.BinaryCrossentropy()\n",
    "        bce_tf_value = bce_tf_func(targets_tf, predictions_tf)\n",
    "    grad = g.gradient(bce_tf_value, predictions_tf)\n",
    "    return grad#.numpy()"
   ]
  },
  {
   "cell_type": "code",
   "execution_count": 35,
   "id": "4dc40d99",
   "metadata": {},
   "outputs": [
    {
     "name": "stdout",
     "output_type": "stream",
     "text": [
      "Max abs diff b/w torch and tf 2.7962027\n",
      "Max abs diff b/w torch and CrysX 2.9802322e-08\n"
     ]
    }
   ],
   "source": [
    "# Torch input\n",
    "predictions_torch = torch.rand((2000,3000),requires_grad=True)\n",
    "# print(predictions_torch)\n",
    "targets_torch = torch.randint(low=0,high=2, size=(2000,3000)).float()\n",
    "# print(targets_torch)\n",
    "# CrysX-NN input\n",
    "predictions_crysx_nn = predictions_torch.cpu().detach().numpy()\n",
    "targets_crysx_nn = targets_torch.cpu().detach().numpy()\n",
    "# Tensorflow input\n",
    "predictions_tf = tf.convert_to_tensor(predictions_crysx_nn, dtype=tf.float32)\n",
    "targets_tf = tf.convert_to_tensor(targets_crysx_nn, dtype=tf.float32)\n",
    "\n",
    "# Torch\n",
    "bce_loss_func = torch.nn.BCELoss()\n",
    "bce_torch_value = bce_loss_func(predictions_torch, targets_torch)\n",
    "bce_torch_value.backward()\n",
    "gradientTorch = torch.autograd.grad(bce_loss_func(predictions_torch,targets_torch),predictions_torch)[0]\n",
    "# print(gradientTorch)\n",
    "\n",
    "# CrysX\n",
    "gradientCrysX_NN = BCE_loss_grad(predictions_crysx_nn, targets_crysx_nn)/predictions_crysx_nn.shape[0]\n",
    "\n",
    "# Tensorflow\n",
    "gradientTF = tf_bce_grad(targets_tf, predictions_tf)\n",
    "\n",
    "#Diff b/w tf and torch\n",
    "print('Max abs diff b/w torch and tf', abs(gradientTorch.cpu().detach().numpy() - gradientTF.numpy()).max())\n",
    "\n",
    "#Diff b/w crysx_nn and torch\n",
    "print('Max abs diff b/w torch and CrysX', abs(gradientTorch.cpu().detach().numpy() - gradientCrysX_NN).max())"
   ]
  },
  {
   "cell_type": "code",
   "execution_count": null,
   "id": "47bcf655",
   "metadata": {},
   "outputs": [],
   "source": []
  }
 ],
 "metadata": {
  "kernelspec": {
   "display_name": "Python 3 (ipykernel)",
   "language": "python",
   "name": "python3"
  },
  "language_info": {
   "codemirror_mode": {
    "name": "ipython",
    "version": 3
   },
   "file_extension": ".py",
   "mimetype": "text/x-python",
   "name": "python",
   "nbconvert_exporter": "python",
   "pygments_lexer": "ipython3",
   "version": "3.7.11"
  }
 },
 "nbformat": 4,
 "nbformat_minor": 5
}
